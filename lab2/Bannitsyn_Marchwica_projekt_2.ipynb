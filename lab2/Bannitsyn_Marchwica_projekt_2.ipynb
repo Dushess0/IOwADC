{
  "nbformat": 4,
  "nbformat_minor": 0,
  "metadata": {
    "colab": {
      "name": "actual.ipynb",
      "provenance": [],
      "collapsed_sections": [
        "2J3fLn6GURFX",
        "xARaZfAfURFX",
        "_TvEGQJ7URFY",
        "dCwnmEdoURFc",
        "jWvxPlNUURFd"
      ]
    },
    "kernelspec": {
      "display_name": "Python 3",
      "language": "python",
      "name": "python3"
    },
    "language_info": {
      "codemirror_mode": {
        "name": "ipython",
        "version": 3
      },
      "file_extension": ".py",
      "mimetype": "text/x-python",
      "name": "python",
      "nbconvert_exporter": "python",
      "pygments_lexer": "ipython3",
      "version": "3.8.5"
    }
  },
  "cells": [
    {
      "cell_type": "markdown",
      "metadata": {
        "id": "-RB81nbdUREw"
      },
      "source": [
        "Illia Bannitsyn illiabann@student.agh.edu.pl\n",
        "\n",
        "Patrycja Marchwica patmar@student.agh.edu.pl"
      ]
    },
    {
      "cell_type": "markdown",
      "metadata": {
        "id": "DwGyuKnMURFE"
      },
      "source": [
        "# Zadanie 1 \n",
        "### Przygotować swoje środowisko pracy (można korzystać z Google Colab)"
      ]
    },
    {
      "cell_type": "markdown",
      "metadata": {
        "id": "5j7LgagHURFG"
      },
      "source": [
        "# Import danych"
      ]
    },
    {
      "cell_type": "code",
      "metadata": {
        "id": "C-hQ94luURFI",
        "colab": {
          "base_uri": "https://localhost:8080/"
        },
        "outputId": "16321416-8166-4130-9b10-4ce2708fd1b6"
      },
      "source": [
        "import cv2\n",
        "import numpy as np\n",
        "import matplotlib.pyplot as plt\n",
        "from keras.datasets import mnist\n",
        "from sklearn import svm\n",
        "from sklearn.model_selection import GridSearchCV\n",
        "from sklearn.model_selection import StratifiedKFold\n",
        "from sklearn.metrics import classification_report, confusion_matrix, accuracy_score\n",
        "from sklearn.ensemble import RandomForestClassifier\n",
        "from keras import models\n",
        "from keras import layers\n",
        "from keras.utils import to_categorical\n",
        "from keras.wrappers.scikit_learn import KerasClassifier\n",
        "import tensorflow as tf\n",
        "from tensorflow.compat.v1.keras import backend as K\n",
        "\n",
        "\n",
        "#config = tf.compat.v1.ConfigProto( device_count = {'GPU': 1 , 'CPU': 48} , log_device_placement=True )\n",
        "#sess = tf.compat.v1.Session(config=config) \n",
        "#K.set_session(sess)\n",
        "(train_images, train_labels), (test_images, test_labels) = mnist.load_data()"
      ],
      "execution_count": 1,
      "outputs": [
        {
          "output_type": "stream",
          "text": [
            "Downloading data from https://storage.googleapis.com/tensorflow/tf-keras-datasets/mnist.npz\n",
            "11493376/11490434 [==============================] - 0s 0us/step\n"
          ],
          "name": "stdout"
        }
      ]
    },
    {
      "cell_type": "markdown",
      "metadata": {
        "id": "H_3ra5_gURFK"
      },
      "source": [
        "## Funkcje"
      ]
    },
    {
      "cell_type": "markdown",
      "metadata": {
        "id": "W0vsdX8SURFL"
      },
      "source": [
        "### Deskew"
      ]
    },
    {
      "cell_type": "code",
      "metadata": {
        "id": "NPnMVEAdURFM"
      },
      "source": [
        "SZ=28\n",
        "affine_flags = cv2.WARP_INVERSE_MAP|cv2.INTER_LINEAR\n",
        "\n",
        "def deskew(img):\n",
        "    m = cv2.moments(img)\n",
        "    if abs(m['mu02']) < 1e-2:\n",
        "        return img.copy()\n",
        "    skew = m['mu11']/m['mu02']\n",
        "    M = np.float32([[1, skew, -0.5*SZ*skew], [0, 1, 0]])\n",
        "    img = cv2.warpAffine(img,M,(SZ, SZ),flags=affine_flags)\n",
        "    return img"
      ],
      "execution_count": 2,
      "outputs": []
    },
    {
      "cell_type": "markdown",
      "metadata": {
        "id": "5iD1VUKgURFN"
      },
      "source": [
        "### HOG (Histogram of Oriented Gradients)"
      ]
    },
    {
      "cell_type": "code",
      "metadata": {
        "id": "_YyqgRWSURFO"
      },
      "source": [
        "def HOG(im):\n",
        "    winSize = (20,20)\n",
        "    blockSize = (10,10)\n",
        "    blockStride = (5,5)\n",
        "    cellSize = (10,10)\n",
        "    nbins = 9\n",
        "    derivAperture = 1\n",
        "    winSigma = -1.\n",
        "    histogramNormType = 0\n",
        "    L2HysThreshold = 0.2\n",
        "    gammaCorrection = 1\n",
        "    nlevels = 64\n",
        "    signedGradients = True\n",
        "\n",
        "    hog = cv2.HOGDescriptor(winSize,blockSize,blockStride,cellSize,nbins,derivAperture,winSigma,histogramNormType,L2HysThreshold,gammaCorrection,nlevels, signedGradients)\n",
        "    descriptor = np.ravel(hog.compute(im))\n",
        "    \n",
        "    return descriptor"
      ],
      "execution_count": 3,
      "outputs": []
    },
    {
      "cell_type": "markdown",
      "metadata": {
        "id": "PhbvfyOQURFP"
      },
      "source": [
        "### Tworzenie modelu dla sieci"
      ]
    },
    {
      "cell_type": "code",
      "metadata": {
        "id": "1as0QybKURFQ"
      },
      "source": [
        "def create_model():\n",
        "  model = models.Sequential()\n",
        "  model.add(layers.Dense(512, activation='relu'))\n",
        "  model.add(layers.Dense(10, activation='softmax'))\n",
        "  model.compile(optimizer='rmsprop',\n",
        "                loss='categorical_crossentropy',\n",
        "                metrics=['accuracy'])\n",
        "  return model"
      ],
      "execution_count": 4,
      "outputs": []
    },
    {
      "cell_type": "markdown",
      "metadata": {
        "id": "beKNqF-tURFQ"
      },
      "source": [
        "### Grid Search - Walidacja krzyżowa"
      ]
    },
    {
      "cell_type": "code",
      "metadata": {
        "id": "zGxxqpNyURFR"
      },
      "source": [
        "def SVMGridSearch(train_data, train_labels):\n",
        "  parameters = {'kernel':('linear', 'rbf'), 'C': np.linspace(start = 0.001, stop = 2, num = 50)}\n",
        "  svc = svm.SVC()\n",
        "  clf = GridSearchCV(svc, parameters, scoring='accuracy', cv=StratifiedKFold())\n",
        "  clf.fit(train_data, train_labels)\n",
        "  best_params = clf.best_params_\n",
        "  my_svc = clf.best_estimator_\n",
        "  \n",
        "  print(\"Best hiperparameters: \", best_params)\n",
        "  \n",
        "  return my_svc"
      ],
      "execution_count": 5,
      "outputs": []
    },
    {
      "cell_type": "code",
      "metadata": {
        "id": "uVQpuF8wURFR"
      },
      "source": [
        "def RandomForestGridSearch(train_data, train_labels):\n",
        "  parameters = {\n",
        "    'max_depth': [5, 8, 15, 25, 30],\n",
        "    'min_samples_leaf': [1, 2, 5, 10],\n",
        "    'min_samples_split': [2, 5, 10, 15, 100],\n",
        "    'n_estimators': [20, 30, 50, 70, 100]\n",
        "  }\n",
        "\n",
        "  rf = RandomForestClassifier()\n",
        "  clf = GridSearchCV(estimator = rf, param_grid = parameters, cv = 3, n_jobs = -1, verbose = 1)\n",
        "  clf.fit(train_data, train_labels)\n",
        "  best_params = clf.best_params_\n",
        "  my_rf = clf.best_estimator_\n",
        "  \n",
        "  print(\"Best hiperparameters: \", best_params)\n",
        "\n",
        "  return my_rf"
      ],
      "execution_count": 6,
      "outputs": []
    },
    {
      "cell_type": "code",
      "metadata": {
        "id": "5T5WK1UwURFS"
      },
      "source": [
        "def NeuralNetworkGridSrearch(train_data, train_labels):\n",
        "  parameters = {\n",
        "      'batch_size': [30, 50, 100],\n",
        "      'epochs': [5, 10, 15]\n",
        "      }\n",
        "  kc = KerasClassifier(build_fn=create_model, verbose=0)\n",
        "  clf = GridSearchCV(estimator=kc, param_grid=parameters, n_jobs=-1, cv=3)\n",
        "  clf.fit(train_data, train_labels)\n",
        "  best_params = clf.best_params_\n",
        "\n",
        "  print(\"Best hiperparameters: \", best_params)\n",
        "\n",
        "  return best_params"
      ],
      "execution_count": 7,
      "outputs": []
    },
    {
      "cell_type": "markdown",
      "metadata": {
        "id": "7vaMkT0ZURFS"
      },
      "source": [
        "### Macierz pomyłek i raporty"
      ]
    },
    {
      "cell_type": "code",
      "metadata": {
        "id": "mYo3m3IGURFT"
      },
      "source": [
        "def getConfMatrix(test_labels, pred_labels_deskewed, pred_labels_non_deskewed,pred_labels_raw_deskewed,pred_labels_shuffle):\n",
        "  cm_deskewed = confusion_matrix(test_labels, pred_labels_deskewed)\n",
        "  cm_non_deskewed = confusion_matrix(test_labels, pred_labels_non_deskewed)\n",
        "  cm_raw_deskewed = confusion_matrix(test_labels, pred_labels_raw_deskewed)\n",
        "  cm_shuffle = confusion_matrix(test_labels, pred_labels_shuffle)\n",
        "\n",
        "\n",
        "  print(\"Macierz pomyłek - dane wyrównane:\")\n",
        "  print(cm_deskewed)\n",
        "  print(\"Macierz pomyłek - dane niewyrównane:\")\n",
        "  print(cm_non_deskewed)\n",
        "  print(\"Macierz pomyłek - dane surowe:\")\n",
        "  print(cm_raw_deskewed)\n",
        "  print(\"Macierz pomyłek - dane zmieszane:\")\n",
        "  print(cm_shuffle)"
      ],
      "execution_count": 8,
      "outputs": []
    },
    {
      "cell_type": "code",
      "metadata": {
        "id": "wOB9mVjVURFT"
      },
      "source": [
        "def getReports(test_labels, pred_labels_deskewed, pred_labels_non_deskewed,pred_labels_raw_deskewed,pred_labels_shuffle):\n",
        "  print(\"Raport - dane wyrównane:\")\n",
        "  print(classification_report(test_labels, pred_labels_deskewed))\n",
        "  print(\"Raport - dane niewyrównane:\")\n",
        "  print(classification_report(test_labels, pred_labels_non_deskewed))\n",
        "  print(\"Raport - dane surowe:\")\n",
        "  print(classification_report(test_labels, pred_labels_raw_deskewed))\n",
        "  print(\"Raport - dane zmieszane:\")\n",
        "  print(classification_report(test_labels, pred_labels_shuffle))"
      ],
      "execution_count": 9,
      "outputs": []
    },
    {
      "cell_type": "code",
      "metadata": {
        "id": "04neQzAAURFU"
      },
      "source": [
        "def getAccuracy(test_labels, pred_labels_deskewed, pred_labels_non_deskewed,pred_labels_raw_deskewed,pred_labels_shuffle):\n",
        "  print(\"Accuracy - dane wyrównane: \" + str(accuracy_score(test_labels, pred_labels_deskewed)))\n",
        "  print(\"Accuracy - dane niewyrównane: \" + str(accuracy_score(test_labels, pred_labels_non_deskewed)))\n",
        "  print(\"Accuracy - dane surowe: \" + str(accuracy_score(test_labels, pred_labels_raw_deskewed)))\n",
        "  print(\"Accuracy - dane zmieszane: \" + str(accuracy_score(test_labels, pred_labels_shuffle)))"
      ],
      "execution_count": 10,
      "outputs": []
    },
    {
      "cell_type": "code",
      "metadata": {
        "id": "KDsQug04yrIa"
      },
      "source": [
        "def single_result(test_labels,pred_labels,dane):\n",
        "  cm = confusion_matrix(test_labels, pred_labels)\n",
        "  print(\"Macierz pomyłek - \"+dane+\":\")\n",
        "  print(cm)\n",
        "  print(\"Raport - \"+dane+\":\")\n",
        "  print(classification_report(test_labels, pred_labels))\n",
        "  print(\"Accuracy -  \"+dane+\":\" + str(accuracy_score(test_labels, pred_labels)))\n"
      ],
      "execution_count": 11,
      "outputs": []
    },
    {
      "cell_type": "markdown",
      "metadata": {
        "id": "qAgFOLUtURFV"
      },
      "source": [
        "## Preprocessing danych"
      ]
    },
    {
      "cell_type": "markdown",
      "metadata": {
        "id": "SoBNVvwzURFV"
      },
      "source": [
        "### Surowe dane"
      ]
    },
    {
      "cell_type": "code",
      "metadata": {
        "id": "2Keo5W7MURFV"
      },
      "source": [
        "train_raw = train_images.reshape(len(train_images), 28 * 28)\n",
        "test_raw = test_images.reshape(len(test_images), 28 * 28)"
      ],
      "execution_count": 12,
      "outputs": []
    },
    {
      "cell_type": "markdown",
      "metadata": {
        "id": "HgPWLfqRURFW"
      },
      "source": [
        "###  Dane poddane wyrównaniu"
      ]
    },
    {
      "cell_type": "code",
      "metadata": {
        "id": "kok65xNlURFW"
      },
      "source": [
        "train_deskewed = np.float32([deskew(im) for im in train_raw])\n",
        "test_deskewed = np.float32([deskew(im) for im in test_raw])\n",
        "\n",
        "train_deskewed = np.asarray(train_deskewed).reshape(-1,28*28)\n",
        "test_deskewed = np.asarray(test_deskewed).reshape(-1,28*28)"
      ],
      "execution_count": 13,
      "outputs": []
    },
    {
      "cell_type": "code",
      "metadata": {
        "id": "qLWvvI8NURFW"
      },
      "source": [
        "hogdata_train = np.float32([HOG(im) for im in train_images]).reshape(-1,81)\n",
        "hogdata_test = np.float32([HOG(im) for im in test_images]).reshape(-1,81)\n",
        "\n",
        "hogdata_train_deskewed = np.float32([HOG(deskew(im)) for im in train_images]).reshape(-1,81)\n",
        "hogdata_test_deskewed = np.float32([HOG(deskew(im)) for im in test_images]).reshape(-1,81)"
      ],
      "execution_count": 14,
      "outputs": []
    },
    {
      "cell_type": "markdown",
      "metadata": {
        "id": "2J3fLn6GURFX"
      },
      "source": [
        "### Zmieszane dane surowe"
      ]
    },
    {
      "cell_type": "code",
      "metadata": {
        "id": "koz657YUURFX"
      },
      "source": [
        "\n",
        "train_shuffle = train_images.copy()\n",
        "train_shuffle = np.float32([deskew(im) for im in train_shuffle])\n",
        "np.float32([np.random.shuffle(im) for im in train_shuffle])\n",
        "train_shuffle = np.asarray(train_shuffle).reshape(-1,28*28)\n",
        "\n",
        "test_shuffle = test_images.copy()\n",
        "test_shuffle = np.float32([deskew(im) for im in test_shuffle])\n",
        "np.float32([np.random.shuffle(im) for im in test_shuffle])\n",
        "test_shuffle = np.asarray(test_shuffle).reshape(-1,28*28)"
      ],
      "execution_count": 15,
      "outputs": []
    },
    {
      "cell_type": "markdown",
      "metadata": {
        "id": "xARaZfAfURFX"
      },
      "source": [
        "### Dane dla uczenia sieci"
      ]
    },
    {
      "cell_type": "code",
      "metadata": {
        "id": "04qeIF_-URFY"
      },
      "source": [
        "nn_train_deskewed = np.array(hogdata_train_deskewed).reshape((60000, 81))\n",
        "nn_train_deskewed = nn_train_deskewed.astype('float32') / 255\n",
        "\n",
        "nn_test_deskewed = np.array(hogdata_test_deskewed).reshape((10000, 81))\n",
        "nn_test_deskewed = nn_test_deskewed.astype('float32') / 255\n",
        "\n",
        "nn_train_non_deskewed = np.array(hogdata_train).reshape((60000, 81))\n",
        "nn_train_non_deskewed = nn_train_non_deskewed.astype('float32') / 255\n",
        "\n",
        "nn_test_non_deskewed = np.array(hogdata_test).reshape((10000, 81))\n",
        "nn_test_non_deskewed = nn_test_non_deskewed.astype('float32') / 255\n",
        "\n",
        "nn_train_raw_deskewed = np.array(train_deskewed).reshape((60000, 28*28))\n",
        "nn_train_raw_deskewed = nn_train_raw_deskewed.astype('float32') / 255\n",
        "\n",
        "nn_test_raw_deskewed = np.array(test_deskewed).reshape((10000, 28*28))\n",
        "nn_test_raw_deskewed = nn_test_raw_deskewed.astype('float32') / 255\n",
        "\n",
        "nn_train_shuffle = np.array(train_shuffle).reshape((60000, 28*28))\n",
        "nn_train_shuffle = nn_train_shuffle.astype('float32') / 255\n",
        "\n",
        "nn_test_shuffle = np.array(test_shuffle).reshape((10000, 28*28))\n",
        "nn_test_shuffle = nn_test_shuffle.astype('float32') / 255\n",
        "\n",
        "encoded_train_labels = to_categorical(train_labels)\n",
        "encoded_test_labels = to_categorical(test_labels)"
      ],
      "execution_count": 16,
      "outputs": []
    },
    {
      "cell_type": "markdown",
      "metadata": {
        "id": "_TvEGQJ7URFY"
      },
      "source": [
        "### Dane dla walidacji krzyżowej"
      ]
    },
    {
      "cell_type": "code",
      "metadata": {
        "id": "rKVCD_BPURFY"
      },
      "source": [
        "hogdata_train_short = hogdata_train[:600]\n",
        "hogdata_train_deskewed_short = hogdata_train_deskewed[:600]\n",
        "\n",
        "# Surowe dane \n",
        "rawdata_train_deskewed_short = train_deskewed[:600]\n",
        "\n",
        "# Zmieszane dane surowe \n",
        "train_shuffle_short = train_shuffle[:600]\n",
        "\n",
        "train_labels_short = train_labels[:600]"
      ],
      "execution_count": 17,
      "outputs": []
    },
    {
      "cell_type": "markdown",
      "metadata": {
        "id": "hEBv1DdkURFZ"
      },
      "source": [
        "# Zadanie 2\n",
        "### Powtórzyć trening klasycznych klasyfikatorów i sieci dla danych bez wyrównania (dst)"
      ]
    },
    {
      "cell_type": "markdown",
      "metadata": {
        "id": "ah3C2EuRURFZ"
      },
      "source": [
        "W Zadaniu 2 należy zrezygnować z zastosowania funkcji deskew do oryginalnych obrazków i porównać wyniki bez takiego preprocessingu z wynikami w notatnikach."
      ]
    },
    {
      "cell_type": "markdown",
      "metadata": {
        "id": "G6sD0z5yURFZ"
      },
      "source": [
        "### Model SVM dla danych z wyrównaniem"
      ]
    },
    {
      "cell_type": "code",
      "metadata": {
        "colab": {
          "base_uri": "https://localhost:8080/"
        },
        "id": "T5vRz8saURFa",
        "outputId": "686d3559-1b58-4c99-a43d-9ad230a6d797"
      },
      "source": [
        "model_deskewed_SVM = SVMGridSearch(hogdata_train_deskewed_short, train_labels_short)\n",
        "model_deskewed_SVM.fit(hogdata_train_deskewed, train_labels)\n",
        "pred_labels_deskewed_SVM = model_deskewed_SVM.predict(hogdata_test_deskewed)\n"
      ],
      "execution_count": 18,
      "outputs": [
        {
          "output_type": "stream",
          "text": [
            "Best hiperparameters:  {'C': 0.7353265306122448, 'kernel': 'linear'}\n"
          ],
          "name": "stdout"
        }
      ]
    },
    {
      "cell_type": "markdown",
      "metadata": {
        "id": "eyHAxxIKURFb"
      },
      "source": [
        "### Model Random Forest dla danych z wyrównaniem"
      ]
    },
    {
      "cell_type": "code",
      "metadata": {
        "colab": {
          "base_uri": "https://localhost:8080/"
        },
        "id": "oiGLKqx9URFc",
        "outputId": "8a2014b4-c84a-4d01-c999-5080a1a44f87"
      },
      "source": [
        "\n",
        "model_deskewed_RF = RandomForestGridSearch(hogdata_train_deskewed_short, train_labels_short)\n",
        "model_deskewed_RF.fit(hogdata_train_deskewed, train_labels)\n",
        "pred_labels_deskewed_RF = model_deskewed_RF.predict(hogdata_test_deskewed)\n"
      ],
      "execution_count": 19,
      "outputs": [
        {
          "output_type": "stream",
          "text": [
            "Fitting 3 folds for each of 500 candidates, totalling 1500 fits\n"
          ],
          "name": "stdout"
        },
        {
          "output_type": "stream",
          "text": [
            "[Parallel(n_jobs=-1)]: Using backend LokyBackend with 2 concurrent workers.\n",
            "[Parallel(n_jobs=-1)]: Done  46 tasks      | elapsed:    6.3s\n",
            "[Parallel(n_jobs=-1)]: Done 196 tasks      | elapsed:   22.6s\n",
            "[Parallel(n_jobs=-1)]: Done 446 tasks      | elapsed:   50.6s\n",
            "[Parallel(n_jobs=-1)]: Done 796 tasks      | elapsed:  1.5min\n",
            "[Parallel(n_jobs=-1)]: Done 1246 tasks      | elapsed:  2.4min\n",
            "[Parallel(n_jobs=-1)]: Done 1500 out of 1500 | elapsed:  2.9min finished\n"
          ],
          "name": "stderr"
        },
        {
          "output_type": "stream",
          "text": [
            "Best hiperparameters:  {'max_depth': 30, 'min_samples_leaf': 1, 'min_samples_split': 2, 'n_estimators': 100}\n"
          ],
          "name": "stdout"
        }
      ]
    },
    {
      "cell_type": "markdown",
      "metadata": {
        "id": "dCwnmEdoURFc"
      },
      "source": [
        "### Model Neural Network dla danych z wyrównaniem"
      ]
    },
    {
      "cell_type": "code",
      "metadata": {
        "colab": {
          "base_uri": "https://localhost:8080/"
        },
        "id": "Ig1SCBUQURFd",
        "outputId": "5844755f-dffb-464a-dff1-11d2b4c71b0b"
      },
      "source": [
        "network_deskewed = create_model()\n",
        "model_deskewed_NN = NeuralNetworkGridSrearch(nn_train_deskewed, encoded_train_labels)\n",
        "network_deskewed.fit(nn_train_deskewed, encoded_train_labels, epochs=model_deskewed_NN.get('epochs'), batch_size=model_deskewed_NN.get('batch_size'))\n",
        "pred_probabilities_deskewed_NN = network_deskewed.predict(nn_test_deskewed)\n",
        "pred_labels_deskewed_NN = np.argmax(pred_probabilities_deskewed_NN,-1)"
      ],
      "execution_count": 20,
      "outputs": [
        {
          "output_type": "stream",
          "text": [
            "/usr/local/lib/python3.7/dist-packages/joblib/externals/loky/process_executor.py:691: UserWarning: A worker stopped while some jobs were given to the executor. This can be caused by a too short worker timeout or by a memory leak.\n",
            "  \"timeout or by a memory leak.\", UserWarning\n"
          ],
          "name": "stderr"
        },
        {
          "output_type": "stream",
          "text": [
            "Best hiperparameters:  {'batch_size': 30, 'epochs': 15}\n",
            "Epoch 1/15\n",
            "2000/2000 [==============================] - 4s 2ms/step - loss: 2.0780 - accuracy: 0.3273\n",
            "Epoch 2/15\n",
            "2000/2000 [==============================] - 4s 2ms/step - loss: 1.0606 - accuracy: 0.7573\n",
            "Epoch 3/15\n",
            "2000/2000 [==============================] - 4s 2ms/step - loss: 0.6018 - accuracy: 0.8488\n",
            "Epoch 4/15\n",
            "2000/2000 [==============================] - 4s 2ms/step - loss: 0.4238 - accuracy: 0.8849\n",
            "Epoch 5/15\n",
            "2000/2000 [==============================] - 4s 2ms/step - loss: 0.3346 - accuracy: 0.9067\n",
            "Epoch 6/15\n",
            "2000/2000 [==============================] - 4s 2ms/step - loss: 0.2763 - accuracy: 0.9205\n",
            "Epoch 7/15\n",
            "2000/2000 [==============================] - 3s 2ms/step - loss: 0.2436 - accuracy: 0.9287\n",
            "Epoch 8/15\n",
            "2000/2000 [==============================] - 3s 2ms/step - loss: 0.2249 - accuracy: 0.9339\n",
            "Epoch 9/15\n",
            "2000/2000 [==============================] - 3s 2ms/step - loss: 0.2008 - accuracy: 0.9412\n",
            "Epoch 10/15\n",
            "2000/2000 [==============================] - 3s 2ms/step - loss: 0.1829 - accuracy: 0.9444\n",
            "Epoch 11/15\n",
            "2000/2000 [==============================] - 4s 2ms/step - loss: 0.1792 - accuracy: 0.9459\n",
            "Epoch 12/15\n",
            "2000/2000 [==============================] - 3s 2ms/step - loss: 0.1716 - accuracy: 0.9478\n",
            "Epoch 13/15\n",
            "2000/2000 [==============================] - 3s 2ms/step - loss: 0.1604 - accuracy: 0.9497\n",
            "Epoch 14/15\n",
            "2000/2000 [==============================] - 3s 2ms/step - loss: 0.1550 - accuracy: 0.9520\n",
            "Epoch 15/15\n",
            "2000/2000 [==============================] - 3s 2ms/step - loss: 0.1551 - accuracy: 0.9511\n"
          ],
          "name": "stdout"
        }
      ]
    },
    {
      "cell_type": "code",
      "metadata": {
        "id": "VpsHJ1WvZCcI"
      },
      "source": [
        ""
      ],
      "execution_count": 20,
      "outputs": []
    },
    {
      "cell_type": "markdown",
      "metadata": {
        "id": "jWvxPlNUURFd"
      },
      "source": [
        "###  Model SVM dla danych bez wyrównania"
      ]
    },
    {
      "cell_type": "code",
      "metadata": {
        "colab": {
          "base_uri": "https://localhost:8080/"
        },
        "id": "QaVhDN3iURFd",
        "outputId": "fbf69a64-f5e5-42a4-d081-86dff5432d59"
      },
      "source": [
        "model_non_deskewed_SVM = SVMGridSearch(hogdata_train_short, train_labels_short)\n",
        "model_non_deskewed_SVM.fit(hogdata_train, train_labels)\n",
        "pred_labels_non_deskewed_SVM = model_non_deskewed_SVM.predict(hogdata_test)"
      ],
      "execution_count": 21,
      "outputs": [
        {
          "output_type": "stream",
          "text": [
            "Best hiperparameters:  {'C': 0.8577142857142857, 'kernel': 'linear'}\n"
          ],
          "name": "stdout"
        }
      ]
    },
    {
      "cell_type": "markdown",
      "metadata": {
        "id": "aHUMedRPURFe"
      },
      "source": [
        "### Model RandomForest dla danych bez wyrównania"
      ]
    },
    {
      "cell_type": "code",
      "metadata": {
        "colab": {
          "base_uri": "https://localhost:8080/"
        },
        "id": "2EgEEPfTURFe",
        "outputId": "eb6ac134-6861-43d6-a11f-073e111bc836"
      },
      "source": [
        "model_non_deskewed_RF = RandomForestGridSearch(hogdata_train_short, train_labels_short)\n",
        "model_non_deskewed_RF.fit(hogdata_train, train_labels)\n",
        "pred_labels_non_deskewed_RF = model_non_deskewed_RF.predict(hogdata_test)"
      ],
      "execution_count": 22,
      "outputs": [
        {
          "output_type": "stream",
          "text": [
            "Fitting 3 folds for each of 500 candidates, totalling 1500 fits\n"
          ],
          "name": "stdout"
        },
        {
          "output_type": "stream",
          "text": [
            "[Parallel(n_jobs=-1)]: Using backend LokyBackend with 2 concurrent workers.\n",
            "[Parallel(n_jobs=-1)]: Done  88 tasks      | elapsed:    9.7s\n",
            "[Parallel(n_jobs=-1)]: Done 388 tasks      | elapsed:   42.5s\n",
            "[Parallel(n_jobs=-1)]: Done 888 tasks      | elapsed:  1.6min\n",
            "[Parallel(n_jobs=-1)]: Done 1500 out of 1500 | elapsed:  2.8min finished\n"
          ],
          "name": "stderr"
        },
        {
          "output_type": "stream",
          "text": [
            "Best hiperparameters:  {'max_depth': 30, 'min_samples_leaf': 1, 'min_samples_split': 10, 'n_estimators': 70}\n"
          ],
          "name": "stdout"
        }
      ]
    },
    {
      "cell_type": "markdown",
      "metadata": {
        "id": "xkREF30FURFe"
      },
      "source": [
        "### Model Neural Network dla danych bez wyrównania"
      ]
    },
    {
      "cell_type": "code",
      "metadata": {
        "colab": {
          "base_uri": "https://localhost:8080/"
        },
        "id": "FWyEs2r9URFe",
        "outputId": "b64ab67a-0d31-4e54-c630-57f4ecc44691"
      },
      "source": [
        "network_non_deskewed = create_model()\n",
        "model_non_deskewed_NN = NeuralNetworkGridSrearch(nn_train_non_deskewed, encoded_train_labels)\n",
        "network_non_deskewed.fit(nn_train_non_deskewed, encoded_train_labels, epochs=model_non_deskewed_NN.get('epochs'), batch_size=model_non_deskewed_NN.get('batch_size'))\n",
        "pred_probabilities_non_deskewed = network_non_deskewed.predict(nn_test_non_deskewed)\n",
        "pred_labels_non_deskewed_NN = np.argmax(pred_probabilities_non_deskewed,-1)\n"
      ],
      "execution_count": 23,
      "outputs": [
        {
          "output_type": "stream",
          "text": [
            "Best hiperparameters:  {'batch_size': 30, 'epochs': 15}\n",
            "Epoch 1/15\n",
            "2000/2000 [==============================] - 4s 2ms/step - loss: 2.1065 - accuracy: 0.2971\n",
            "Epoch 2/15\n",
            "2000/2000 [==============================] - 3s 2ms/step - loss: 1.1602 - accuracy: 0.7047\n",
            "Epoch 3/15\n",
            "2000/2000 [==============================] - 3s 2ms/step - loss: 0.7212 - accuracy: 0.8050\n",
            "Epoch 4/15\n",
            "2000/2000 [==============================] - 3s 2ms/step - loss: 0.5277 - accuracy: 0.8517\n",
            "Epoch 5/15\n",
            "2000/2000 [==============================] - 3s 2ms/step - loss: 0.4297 - accuracy: 0.8792\n",
            "Epoch 6/15\n",
            "2000/2000 [==============================] - 3s 2ms/step - loss: 0.3693 - accuracy: 0.8923\n",
            "Epoch 7/15\n",
            "2000/2000 [==============================] - 3s 2ms/step - loss: 0.3260 - accuracy: 0.9036\n",
            "Epoch 8/15\n",
            "2000/2000 [==============================] - 3s 2ms/step - loss: 0.2980 - accuracy: 0.9105\n",
            "Epoch 9/15\n",
            "2000/2000 [==============================] - 3s 2ms/step - loss: 0.2763 - accuracy: 0.9178\n",
            "Epoch 10/15\n",
            "2000/2000 [==============================] - 3s 2ms/step - loss: 0.2641 - accuracy: 0.9211\n",
            "Epoch 11/15\n",
            "2000/2000 [==============================] - 3s 2ms/step - loss: 0.2487 - accuracy: 0.9253\n",
            "Epoch 12/15\n",
            "2000/2000 [==============================] - 3s 2ms/step - loss: 0.2377 - accuracy: 0.9275\n",
            "Epoch 13/15\n",
            "2000/2000 [==============================] - 3s 2ms/step - loss: 0.2346 - accuracy: 0.9276\n",
            "Epoch 14/15\n",
            "2000/2000 [==============================] - 3s 2ms/step - loss: 0.2244 - accuracy: 0.9317\n",
            "Epoch 15/15\n",
            "2000/2000 [==============================] - 3s 2ms/step - loss: 0.2193 - accuracy: 0.9332\n"
          ],
          "name": "stdout"
        }
      ]
    },
    {
      "cell_type": "markdown",
      "metadata": {
        "id": "syWvOSXNURFf"
      },
      "source": [
        "## Wyniki"
      ]
    },
    {
      "cell_type": "code",
      "metadata": {
        "colab": {
          "base_uri": "https://localhost:8080/"
        },
        "id": "KbUS6FEYVqKt",
        "outputId": "519c7f1c-db20-46fc-acfe-96a38d6b70b0"
      },
      "source": [
        "#SVM wyrownane\n",
        "single_result(test_labels,pred_labels_deskewed_SVM,\"dane wyrownane SVM\")\n",
        "print(\"-------------------------------------------------------------\")\n",
        "#SVM bez wyrownania\n",
        "single_result(test_labels,pred_labels_non_deskewed_SVM,\"dane nie wyrownane SVM\")\n",
        "print(\"-------------------------------------------------------------\")\n",
        "#RandomForest wyrownane\n",
        "single_result(test_labels,pred_labels_deskewed_RF,\"dane wyrownane RF\")\n",
        "print(\"-------------------------------------------------------------\")\n",
        "#RandomForest bez wyrownania\n",
        "single_result(test_labels,pred_labels_non_deskewed_RF,\"dane nie wyrownane RF\")\n",
        "print(\"-------------------------------------------------------------\")\n",
        "\n",
        "#Neural Network wyrownane\n",
        "single_result(test_labels,pred_labels_non_deskewed_NN,\"dane nie wyrownane NN\")\n",
        "print(\"-------------------------------------------------------------\")\n",
        "#Neural Network bez wyrownania\n",
        "single_result(test_labels,pred_labels_deskewed_NN,\"dane wyrownane NN\")\n",
        "print(\"-------------------------------------------------------------\")\n"
      ],
      "execution_count": 24,
      "outputs": [
        {
          "output_type": "stream",
          "text": [
            "Macierz pomyłek - dane wyrownane SVM:\n",
            "[[ 966    1    2    0    1    2    4    1    0    3]\n",
            " [   0 1125    1    2    0    0    2    4    1    0]\n",
            " [   0    0 1006    5    0    0    0   18    3    0]\n",
            " [   0    1    9  987    0    4    0    7    2    0]\n",
            " [   2    0    2    0  966    1    7    0    0    4]\n",
            " [   1    0    2    5    1  872    4    2    3    2]\n",
            " [   7    2    1    0    6    3  936    0    3    0]\n",
            " [   4    2   24    9    1    0    0  983    2    3]\n",
            " [   0    0    3   10    7    5    0    3  934   12]\n",
            " [   3    0    1    1    7    4    2    8   12  971]]\n",
            "Raport - dane wyrownane SVM:\n",
            "              precision    recall  f1-score   support\n",
            "\n",
            "           0       0.98      0.99      0.98       980\n",
            "           1       0.99      0.99      0.99      1135\n",
            "           2       0.96      0.97      0.97      1032\n",
            "           3       0.97      0.98      0.97      1010\n",
            "           4       0.98      0.98      0.98       982\n",
            "           5       0.98      0.98      0.98       892\n",
            "           6       0.98      0.98      0.98       958\n",
            "           7       0.96      0.96      0.96      1028\n",
            "           8       0.97      0.96      0.97       974\n",
            "           9       0.98      0.96      0.97      1009\n",
            "\n",
            "    accuracy                           0.97     10000\n",
            "   macro avg       0.97      0.97      0.97     10000\n",
            "weighted avg       0.97      0.97      0.97     10000\n",
            "\n",
            "Accuracy -  dane wyrownane SVM:0.9746\n",
            "-------------------------------------------------------------\n",
            "Macierz pomyłek - dane nie wyrownane SVM:\n",
            "[[ 955    2    3    0    2    5    9    2    0    2]\n",
            " [   0 1124    3    0    0    0    1    5    2    0]\n",
            " [   3    1 1000    4    0    0    1   20    3    0]\n",
            " [   0    0    9  981    0    5    0   10    4    1]\n",
            " [   3    0    2    0  961    1    5    0    4    6]\n",
            " [   4    2    0   10    1  852    1    3   17    2]\n",
            " [  14    3    0    0    4    6  929    0    2    0]\n",
            " [   3    5   40    8    0    0    0  966    3    3]\n",
            " [   0    0    7    7    6    7    4    6  919   18]\n",
            " [   6    2    0    2    3   10    1    9   12  964]]\n",
            "Raport - dane nie wyrownane SVM:\n",
            "              precision    recall  f1-score   support\n",
            "\n",
            "           0       0.97      0.97      0.97       980\n",
            "           1       0.99      0.99      0.99      1135\n",
            "           2       0.94      0.97      0.95      1032\n",
            "           3       0.97      0.97      0.97      1010\n",
            "           4       0.98      0.98      0.98       982\n",
            "           5       0.96      0.96      0.96       892\n",
            "           6       0.98      0.97      0.97       958\n",
            "           7       0.95      0.94      0.94      1028\n",
            "           8       0.95      0.94      0.95       974\n",
            "           9       0.97      0.96      0.96      1009\n",
            "\n",
            "    accuracy                           0.97     10000\n",
            "   macro avg       0.97      0.96      0.96     10000\n",
            "weighted avg       0.97      0.97      0.97     10000\n",
            "\n",
            "Accuracy -  dane nie wyrownane SVM:0.9651\n",
            "-------------------------------------------------------------\n",
            "Macierz pomyłek - dane wyrownane RF:\n",
            "[[ 965    0    3    0    1    2    3    1    0    5]\n",
            " [   1 1125    2    2    0    0    0    4    1    0]\n",
            " [   1    1 1007    1    1    1    3   11    5    1]\n",
            " [   0    1   13  980    0    4    0    8    2    2]\n",
            " [   2    1    0    0  959    2    7    0    0   11]\n",
            " [   4    0    0    2    0  876    2    1    5    2]\n",
            " [   5    3    0    0   11    5  931    0    2    1]\n",
            " [   3    1   25   10    0    0    0  981    4    4]\n",
            " [   0    0    2    9    7    4    2    3  930   17]\n",
            " [   5    0    1    0    4    6    3    2   16  972]]\n",
            "Raport - dane wyrownane RF:\n",
            "              precision    recall  f1-score   support\n",
            "\n",
            "           0       0.98      0.98      0.98       980\n",
            "           1       0.99      0.99      0.99      1135\n",
            "           2       0.96      0.98      0.97      1032\n",
            "           3       0.98      0.97      0.97      1010\n",
            "           4       0.98      0.98      0.98       982\n",
            "           5       0.97      0.98      0.98       892\n",
            "           6       0.98      0.97      0.98       958\n",
            "           7       0.97      0.95      0.96      1028\n",
            "           8       0.96      0.95      0.96       974\n",
            "           9       0.96      0.96      0.96      1009\n",
            "\n",
            "    accuracy                           0.97     10000\n",
            "   macro avg       0.97      0.97      0.97     10000\n",
            "weighted avg       0.97      0.97      0.97     10000\n",
            "\n",
            "Accuracy -  dane wyrownane RF:0.9726\n",
            "-------------------------------------------------------------\n",
            "Macierz pomyłek - dane nie wyrownane RF:\n",
            "[[ 956    1    1    0    4    7    5    1    1    4]\n",
            " [   0 1124    3    0    0    0    1    5    2    0]\n",
            " [   3    2  991    6    1    1    2   19    6    1]\n",
            " [   0    0   14  979    0    2    0    9    5    1]\n",
            " [   4    0    1    1  946    1   14    0    0   15]\n",
            " [   3    5    1    6    0  859    2    3    9    4]\n",
            " [  13    3    1    0    4    9  923    0    3    2]\n",
            " [   2    1   37   15    0    0    0  961    6    6]\n",
            " [   1    1    5    8   10   11    5    2  909   22]\n",
            " [  12    0    1    0    2   12    2    3   23  954]]\n",
            "Raport - dane nie wyrownane RF:\n",
            "              precision    recall  f1-score   support\n",
            "\n",
            "           0       0.96      0.98      0.97       980\n",
            "           1       0.99      0.99      0.99      1135\n",
            "           2       0.94      0.96      0.95      1032\n",
            "           3       0.96      0.97      0.97      1010\n",
            "           4       0.98      0.96      0.97       982\n",
            "           5       0.95      0.96      0.96       892\n",
            "           6       0.97      0.96      0.97       958\n",
            "           7       0.96      0.93      0.95      1028\n",
            "           8       0.94      0.93      0.94       974\n",
            "           9       0.95      0.95      0.95      1009\n",
            "\n",
            "    accuracy                           0.96     10000\n",
            "   macro avg       0.96      0.96      0.96     10000\n",
            "weighted avg       0.96      0.96      0.96     10000\n",
            "\n",
            "Accuracy -  dane nie wyrownane RF:0.9602\n",
            "-------------------------------------------------------------\n",
            "Macierz pomyłek - dane nie wyrownane NN:\n",
            "[[ 933    3    6    0    3    7   16    5    5    2]\n",
            " [   0 1121    3    1    3    0    3    1    2    1]\n",
            " [   2    4  960    8    0    1    0   39   16    2]\n",
            " [   0    0   14  963    0    8    0   15    9    1]\n",
            " [   5    3    1    0  931    1   25    0    7    9]\n",
            " [   3    1    2   11    1  817    2    2   45    8]\n",
            " [  11    3    1    0    7    5  924    0    6    1]\n",
            " [   4    4   51   17    0    1    0  935    9    7]\n",
            " [   2    1   10    7    4    8    5    7  912   18]\n",
            " [  18    1    0    3    3   14    2   21   41  906]]\n",
            "Raport - dane nie wyrownane NN:\n",
            "              precision    recall  f1-score   support\n",
            "\n",
            "           0       0.95      0.95      0.95       980\n",
            "           1       0.98      0.99      0.99      1135\n",
            "           2       0.92      0.93      0.92      1032\n",
            "           3       0.95      0.95      0.95      1010\n",
            "           4       0.98      0.95      0.96       982\n",
            "           5       0.95      0.92      0.93       892\n",
            "           6       0.95      0.96      0.96       958\n",
            "           7       0.91      0.91      0.91      1028\n",
            "           8       0.87      0.94      0.90       974\n",
            "           9       0.95      0.90      0.92      1009\n",
            "\n",
            "    accuracy                           0.94     10000\n",
            "   macro avg       0.94      0.94      0.94     10000\n",
            "weighted avg       0.94      0.94      0.94     10000\n",
            "\n",
            "Accuracy -  dane nie wyrownane NN:0.9402\n",
            "-------------------------------------------------------------\n",
            "Macierz pomyłek - dane wyrownane NN:\n",
            "[[ 959    0    3    0    1    3    6    1    2    5]\n",
            " [   3 1118    2    0    4    0    2    3    2    1]\n",
            " [   0    2 1000    3    1    0    1   17    7    1]\n",
            " [   0    1   21  952    0   11    0   13    9    3]\n",
            " [   2    1    4    0  957    1    8    0    1    8]\n",
            " [   4    0    1    3    4  859    2    1   13    5]\n",
            " [   8    3    0    0   12    4  928    0    3    0]\n",
            " [   4    4   49   18    3    0    0  935    6    9]\n",
            " [   1    0    3    9   11    4    1    3  924   18]\n",
            " [   9    1    6    1   10    9    4   11   31  927]]\n",
            "Raport - dane wyrownane NN:\n",
            "              precision    recall  f1-score   support\n",
            "\n",
            "           0       0.97      0.98      0.97       980\n",
            "           1       0.99      0.99      0.99      1135\n",
            "           2       0.92      0.97      0.94      1032\n",
            "           3       0.97      0.94      0.95      1010\n",
            "           4       0.95      0.97      0.96       982\n",
            "           5       0.96      0.96      0.96       892\n",
            "           6       0.97      0.97      0.97       958\n",
            "           7       0.95      0.91      0.93      1028\n",
            "           8       0.93      0.95      0.94       974\n",
            "           9       0.95      0.92      0.93      1009\n",
            "\n",
            "    accuracy                           0.96     10000\n",
            "   macro avg       0.96      0.96      0.96     10000\n",
            "weighted avg       0.96      0.96      0.96     10000\n",
            "\n",
            "Accuracy -  dane wyrownane NN:0.9559\n",
            "-------------------------------------------------------------\n"
          ],
          "name": "stdout"
        }
      ]
    },
    {
      "cell_type": "markdown",
      "metadata": {
        "id": "B5zfM1dXWCut"
      },
      "source": [
        "# Wnioski\n",
        "Modele w których były stosowane dane bez wyrównania (non_deskewed) były mniej dokładniejsze (Accuracy) niż te w których stosowane dane wyrównane (deskewed). Jest to związane z tym że funkcja wyrówniająca robi kształty cyfer bardziej jednolitymi i algorytmy lepiej wykrywają pobobieństwo między nimi.\n"
      ]
    },
    {
      "cell_type": "markdown",
      "metadata": {
        "id": "lZ55d7vFURFf"
      },
      "source": [
        "# Zadanie 3\n",
        "Powtórzyć trening klasycznych klasyfikatorów dla danych surowych wgranych na wejście klasyfikatora (db)"
      ]
    },
    {
      "cell_type": "markdown",
      "metadata": {
        "id": "be0zJSJlURFf"
      },
      "source": [
        "###  Model SVM dla surowych danych"
      ]
    },
    {
      "cell_type": "code",
      "metadata": {
        "colab": {
          "base_uri": "https://localhost:8080/"
        },
        "id": "d1JItjYbURFf",
        "outputId": "141bb57f-8d39-4b1d-b598-868b6641eef0"
      },
      "source": [
        "model_raw_deskewed = SVMGridSearch(rawdata_train_deskewed_short, train_labels_short)"
      ],
      "execution_count": 25,
      "outputs": [
        {
          "output_type": "stream",
          "text": [
            "Best hiperparameters:  {'C': 0.001, 'kernel': 'linear'}\n"
          ],
          "name": "stdout"
        }
      ]
    },
    {
      "cell_type": "code",
      "metadata": {
        "id": "mnhlFNjSURFg"
      },
      "source": [
        "idx = np.random.choice(np.arange(len(train_deskewed)), 6000, replace=False)\n",
        "train_deskewed_random = train_deskewed[idx]\n",
        "train_labels_random = train_labels[idx]\n",
        "\n",
        "model_raw_deskewed.fit(train_deskewed_random,train_labels_random)\n",
        "pred_labels_raw_deskewed_SVM = model_raw_deskewed.predict(test_deskewed)"
      ],
      "execution_count": 26,
      "outputs": []
    },
    {
      "cell_type": "code",
      "metadata": {
        "id": "gBFgNoSIURFg"
      },
      "source": [
        ""
      ],
      "execution_count": 26,
      "outputs": []
    },
    {
      "cell_type": "code",
      "metadata": {
        "id": "CrBxBHvkURFg"
      },
      "source": [
        ""
      ],
      "execution_count": 26,
      "outputs": []
    },
    {
      "cell_type": "markdown",
      "metadata": {
        "id": "QoeY26uZURFg"
      },
      "source": [
        "### Model RandomForest dla surowych danych"
      ]
    },
    {
      "cell_type": "code",
      "metadata": {
        "colab": {
          "base_uri": "https://localhost:8080/"
        },
        "id": "6YSxm5HaURFh",
        "outputId": "83ad6b04-eea0-49e0-e2bb-d96ebdf883be"
      },
      "source": [
        "model_raw_deskewed = RandomForestGridSearch(rawdata_train_deskewed_short, train_labels_short)\n",
        "model_raw_deskewed.fit(train_deskewed, train_labels)\n",
        "pred_labels_raw_deskewed_RF = model_raw_deskewed.predict(test_deskewed)"
      ],
      "execution_count": 27,
      "outputs": [
        {
          "output_type": "stream",
          "text": [
            "Fitting 3 folds for each of 500 candidates, totalling 1500 fits\n"
          ],
          "name": "stdout"
        },
        {
          "output_type": "stream",
          "text": [
            "[Parallel(n_jobs=-1)]: Using backend LokyBackend with 2 concurrent workers.\n",
            "[Parallel(n_jobs=-1)]: Done  46 tasks      | elapsed:    6.0s\n",
            "[Parallel(n_jobs=-1)]: Done 196 tasks      | elapsed:   22.8s\n",
            "[Parallel(n_jobs=-1)]: Done 446 tasks      | elapsed:   51.0s\n",
            "[Parallel(n_jobs=-1)]: Done 796 tasks      | elapsed:  1.5min\n",
            "[Parallel(n_jobs=-1)]: Done 1246 tasks      | elapsed:  2.4min\n",
            "[Parallel(n_jobs=-1)]: Done 1500 out of 1500 | elapsed:  2.8min finished\n"
          ],
          "name": "stderr"
        },
        {
          "output_type": "stream",
          "text": [
            "Best hiperparameters:  {'max_depth': 5, 'min_samples_leaf': 1, 'min_samples_split': 2, 'n_estimators': 20}\n"
          ],
          "name": "stdout"
        }
      ]
    },
    {
      "cell_type": "code",
      "metadata": {
        "id": "F8cHXdqKURFh"
      },
      "source": [
        ""
      ],
      "execution_count": 27,
      "outputs": []
    },
    {
      "cell_type": "markdown",
      "metadata": {
        "id": "uzshsYq8URFh"
      },
      "source": [
        "### Model Neural Network dla surowych danych"
      ]
    },
    {
      "cell_type": "code",
      "metadata": {
        "colab": {
          "base_uri": "https://localhost:8080/"
        },
        "id": "T5EfnV-DURFh",
        "outputId": "43078f2e-9586-4a3f-8fc2-9f0d6285e5c5"
      },
      "source": [
        "network_raw_deskewed = create_model()\n",
        "model_raw_deskewed = NeuralNetworkGridSrearch(nn_train_raw_deskewed, encoded_train_labels)\n",
        "network_raw_deskewed.fit(nn_train_raw_deskewed, encoded_train_labels, epochs=model_raw_deskewed.get('epochs'), batch_size=model_raw_deskewed.get('batch_size'))\n",
        "pred_probabilities_raw_deskewed = network_raw_deskewed.predict(nn_test_raw_deskewed)\n",
        "pred_labels_raw_deskewed_NN = np.argmax(pred_probabilities_raw_deskewed,-1)\n"
      ],
      "execution_count": 28,
      "outputs": [
        {
          "output_type": "stream",
          "text": [
            "/usr/local/lib/python3.7/dist-packages/joblib/externals/loky/process_executor.py:691: UserWarning: A worker stopped while some jobs were given to the executor. This can be caused by a too short worker timeout or by a memory leak.\n",
            "  \"timeout or by a memory leak.\", UserWarning\n"
          ],
          "name": "stderr"
        },
        {
          "output_type": "stream",
          "text": [
            "Best hiperparameters:  {'batch_size': 100, 'epochs': 5}\n",
            "Epoch 1/5\n",
            "600/600 [==============================] - 5s 8ms/step - loss: 2.3018 - accuracy: 0.1117\n",
            "Epoch 2/5\n",
            "600/600 [==============================] - 5s 9ms/step - loss: 2.3016 - accuracy: 0.1114\n",
            "Epoch 3/5\n",
            "600/600 [==============================] - 5s 9ms/step - loss: 2.3016 - accuracy: 0.1116\n",
            "Epoch 4/5\n",
            "600/600 [==============================] - 5s 9ms/step - loss: 2.3017 - accuracy: 0.1109\n",
            "Epoch 5/5\n",
            "600/600 [==============================] - 5s 9ms/step - loss: 2.3013 - accuracy: 0.1115\n"
          ],
          "name": "stdout"
        }
      ]
    },
    {
      "cell_type": "markdown",
      "metadata": {
        "id": "jxtGv_QQ4E30"
      },
      "source": [
        "## Wyniki"
      ]
    },
    {
      "cell_type": "code",
      "metadata": {
        "colab": {
          "base_uri": "https://localhost:8080/"
        },
        "id": "JVAT4N5t2dMk",
        "outputId": "2af717ef-23aa-4b97-8271-7b69f94f6f00"
      },
      "source": [
        "#SVM surowe\n",
        "single_result(test_labels,pred_labels_raw_deskewed_SVM,\"dane surowe SVM\")\n",
        "print(\"-------------------------------------------------------------\")\n",
        "#RandomForest surowe\n",
        "single_result(test_labels,pred_labels_raw_deskewed_RF,\"dane surowe RF\")\n",
        "print(\"-------------------------------------------------------------\")\n",
        "#Neural Network surowe\n",
        "single_result(test_labels,pred_labels_raw_deskewed_NN,\"dane surowe NN\")\n",
        "print(\"-------------------------------------------------------------\")"
      ],
      "execution_count": 29,
      "outputs": [
        {
          "output_type": "stream",
          "text": [
            "Macierz pomyłek - dane surowe SVM:\n",
            "[[   0  980    0    0    0    0    0    0    0    0]\n",
            " [   0 1135    0    0    0    0    0    0    0    0]\n",
            " [   0 1032    0    0    0    0    0    0    0    0]\n",
            " [   0 1010    0    0    0    0    0    0    0    0]\n",
            " [   0  982    0    0    0    0    0    0    0    0]\n",
            " [   0  892    0    0    0    0    0    0    0    0]\n",
            " [   0  958    0    0    0    0    0    0    0    0]\n",
            " [   0 1028    0    0    0    0    0    0    0    0]\n",
            " [   0  974    0    0    0    0    0    0    0    0]\n",
            " [   0 1009    0    0    0    0    0    0    0    0]]\n",
            "Raport - dane surowe SVM:\n",
            "              precision    recall  f1-score   support\n",
            "\n",
            "           0       0.00      0.00      0.00       980\n",
            "           1       0.11      1.00      0.20      1135\n",
            "           2       0.00      0.00      0.00      1032\n",
            "           3       0.00      0.00      0.00      1010\n",
            "           4       0.00      0.00      0.00       982\n",
            "           5       0.00      0.00      0.00       892\n",
            "           6       0.00      0.00      0.00       958\n",
            "           7       0.00      0.00      0.00      1028\n",
            "           8       0.00      0.00      0.00       974\n",
            "           9       0.00      0.00      0.00      1009\n",
            "\n",
            "    accuracy                           0.11     10000\n",
            "   macro avg       0.01      0.10      0.02     10000\n",
            "weighted avg       0.01      0.11      0.02     10000\n",
            "\n",
            "Accuracy -  dane surowe SVM:0.1135\n",
            "-------------------------------------------------------------\n",
            "Macierz pomyłek - dane surowe RF:\n",
            "[[   0  980    0    0    0    0    0    0    0    0]\n",
            " [   0 1135    0    0    0    0    0    0    0    0]\n",
            " [   0 1032    0    0    0    0    0    0    0    0]\n",
            " [   0 1010    0    0    0    0    0    0    0    0]\n",
            " [   0  982    0    0    0    0    0    0    0    0]\n",
            " [   0  892    0    0    0    0    0    0    0    0]\n",
            " [   0  958    0    0    0    0    0    0    0    0]\n",
            " [   0 1028    0    0    0    0    0    0    0    0]\n",
            " [   0  974    0    0    0    0    0    0    0    0]\n",
            " [   0 1009    0    0    0    0    0    0    0    0]]\n",
            "Raport - dane surowe RF:\n",
            "              precision    recall  f1-score   support\n",
            "\n",
            "           0       0.00      0.00      0.00       980\n",
            "           1       0.11      1.00      0.20      1135\n",
            "           2       0.00      0.00      0.00      1032\n",
            "           3       0.00      0.00      0.00      1010\n",
            "           4       0.00      0.00      0.00       982\n",
            "           5       0.00      0.00      0.00       892\n",
            "           6       0.00      0.00      0.00       958\n",
            "           7       0.00      0.00      0.00      1028\n",
            "           8       0.00      0.00      0.00       974\n",
            "           9       0.00      0.00      0.00      1009\n",
            "\n",
            "    accuracy                           0.11     10000\n",
            "   macro avg       0.01      0.10      0.02     10000\n",
            "weighted avg       0.01      0.11      0.02     10000\n",
            "\n",
            "Accuracy -  dane surowe RF:0.1135\n",
            "-------------------------------------------------------------\n",
            "Macierz pomyłek - dane surowe NN:\n",
            "[[   0  980    0    0    0    0    0    0    0    0]\n",
            " [   0 1135    0    0    0    0    0    0    0    0]\n",
            " [   0 1032    0    0    0    0    0    0    0    0]\n",
            " [   0 1010    0    0    0    0    0    0    0    0]\n",
            " [   0  982    0    0    0    0    0    0    0    0]\n",
            " [   0  892    0    0    0    0    0    0    0    0]\n",
            " [   0  958    0    0    0    0    0    0    0    0]\n",
            " [   0 1028    0    0    0    0    0    0    0    0]\n",
            " [   0  974    0    0    0    0    0    0    0    0]\n",
            " [   0 1009    0    0    0    0    0    0    0    0]]\n",
            "Raport - dane surowe NN:\n",
            "              precision    recall  f1-score   support\n",
            "\n",
            "           0       0.00      0.00      0.00       980\n",
            "           1       0.11      1.00      0.20      1135\n",
            "           2       0.00      0.00      0.00      1032\n",
            "           3       0.00      0.00      0.00      1010\n",
            "           4       0.00      0.00      0.00       982\n",
            "           5       0.00      0.00      0.00       892\n",
            "           6       0.00      0.00      0.00       958\n",
            "           7       0.00      0.00      0.00      1028\n",
            "           8       0.00      0.00      0.00       974\n",
            "           9       0.00      0.00      0.00      1009\n",
            "\n",
            "    accuracy                           0.11     10000\n",
            "   macro avg       0.01      0.10      0.02     10000\n",
            "weighted avg       0.01      0.11      0.02     10000\n",
            "\n",
            "Accuracy -  dane surowe NN:0.1135\n",
            "-------------------------------------------------------------\n"
          ],
          "name": "stdout"
        },
        {
          "output_type": "stream",
          "text": [
            "/usr/local/lib/python3.7/dist-packages/sklearn/metrics/_classification.py:1272: UndefinedMetricWarning: Precision and F-score are ill-defined and being set to 0.0 in labels with no predicted samples. Use `zero_division` parameter to control this behavior.\n",
            "  _warn_prf(average, modifier, msg_start, len(result))\n"
          ],
          "name": "stderr"
        }
      ]
    },
    {
      "cell_type": "markdown",
      "metadata": {
        "id": "7aHQiMaK4DTx"
      },
      "source": [
        "## Wnioski\n",
        "Porównując dane surowe (raw_deskewed) do danych poprzednie przetworzonych przez HOG, to można zauważyć że HOG pozwala usunąć możliwy szum w obrazkach i zmniejszych ilość informacji do przetwarazania, co powoduje o wielie szybszy czas trenowania modelu. Czas trenowania z użyciem 6000 surowych obrazków był prawie taki sam jak dla trenowania z użyciem przetworozynch  60 000 obrazków. Dokładnośc jest około 11% co jest bliskie do zgadywania."
      ]
    },
    {
      "cell_type": "markdown",
      "metadata": {
        "id": "DjhkCVeoURFi"
      },
      "source": [
        "# Zadanie 4\n",
        "Powtórzyć trening klasycznych klasyfikatorów dla zmieszanych danych surowych wgranych na wejście klasyfikatora (bdb)"
      ]
    },
    {
      "cell_type": "markdown",
      "metadata": {
        "id": "eww2cRaSURFi"
      },
      "source": [
        "### Model SVM dla zmieszanych danych surowych "
      ]
    },
    {
      "cell_type": "code",
      "metadata": {
        "colab": {
          "base_uri": "https://localhost:8080/"
        },
        "id": "uQt7xB9dURFi",
        "outputId": "92ee7da5-153d-428f-d772-ea7146cd1185"
      },
      "source": [
        "model_shuffle = SVMGridSearch(train_shuffle_short, train_labels_short)\n",
        "idx = np.random.choice(np.arange(len(train_shuffle)), 6000, replace=False)\n",
        "train_shuffle_random = train_shuffle[idx]\n",
        "train_labels_random = train_labels[idx]\n",
        "\n",
        "model_shuffle.fit(train_shuffle_random,train_labels_random)\n",
        "pred_labels_shuffle_SVM = model_shuffle.predict(test_shuffle)\n"
      ],
      "execution_count": 30,
      "outputs": [
        {
          "output_type": "stream",
          "text": [
            "Best hiperparameters:  {'C': 0.8577142857142857, 'kernel': 'rbf'}\n"
          ],
          "name": "stdout"
        }
      ]
    },
    {
      "cell_type": "markdown",
      "metadata": {
        "id": "CUcp5anGURFj"
      },
      "source": [
        "### Model Random Forest dla zmieszanych danych surowych "
      ]
    },
    {
      "cell_type": "code",
      "metadata": {
        "colab": {
          "base_uri": "https://localhost:8080/"
        },
        "id": "Tq6JRx-iURFj",
        "outputId": "3f8d9cf4-6dc4-43f5-c1bd-2917a4288d8f"
      },
      "source": [
        "model_shuffle = RandomForestGridSearch(train_shuffle_short, train_labels_short)\n",
        "model_shuffle.fit(train_shuffle, train_labels)\n",
        "pred_labels_shuffle_RF = model_shuffle.predict(test_shuffle)"
      ],
      "execution_count": 31,
      "outputs": [
        {
          "output_type": "stream",
          "text": [
            "Fitting 3 folds for each of 500 candidates, totalling 1500 fits\n"
          ],
          "name": "stdout"
        },
        {
          "output_type": "stream",
          "text": [
            "[Parallel(n_jobs=-1)]: Using backend LokyBackend with 2 concurrent workers.\n",
            "[Parallel(n_jobs=-1)]: Done  46 tasks      | elapsed:    7.3s\n",
            "[Parallel(n_jobs=-1)]: Done 196 tasks      | elapsed:   24.5s\n",
            "[Parallel(n_jobs=-1)]: Done 446 tasks      | elapsed:   54.6s\n",
            "[Parallel(n_jobs=-1)]: Done 796 tasks      | elapsed:  1.7min\n",
            "[Parallel(n_jobs=-1)]: Done 1246 tasks      | elapsed:  2.6min\n",
            "[Parallel(n_jobs=-1)]: Done 1500 out of 1500 | elapsed:  3.1min finished\n"
          ],
          "name": "stderr"
        },
        {
          "output_type": "stream",
          "text": [
            "Best hiperparameters:  {'max_depth': 15, 'min_samples_leaf': 5, 'min_samples_split': 10, 'n_estimators': 100}\n"
          ],
          "name": "stdout"
        }
      ]
    },
    {
      "cell_type": "markdown",
      "metadata": {
        "id": "YLKIXll3URFj"
      },
      "source": [
        "### Model Neural Network dla zmieszanych danych surowych "
      ]
    },
    {
      "cell_type": "code",
      "metadata": {
        "id": "8vvi2sSTURFj",
        "colab": {
          "base_uri": "https://localhost:8080/"
        },
        "outputId": "3fe64951-027a-4a24-bc48-a99354e7ec19"
      },
      "source": [
        "network_shuffle = create_model()\n",
        "model_shuffle = NeuralNetworkGridSrearch(nn_train_shuffle, encoded_train_labels)\n",
        "network_shuffle.fit(nn_train_shuffle,encoded_train_labels, epochs=model_shuffle.get('epochs'), batch_size=model_shuffle.get('batch_size'))\n",
        "pred_probabilities_shuffle = network_shuffle.predict(nn_test_shuffle)\n",
        "pred_labels_shuffle_NN = np.argmax(pred_probabilities_shuffle,-1)\n"
      ],
      "execution_count": 32,
      "outputs": [
        {
          "output_type": "stream",
          "text": [
            "/usr/local/lib/python3.7/dist-packages/joblib/externals/loky/process_executor.py:691: UserWarning: A worker stopped while some jobs were given to the executor. This can be caused by a too short worker timeout or by a memory leak.\n",
            "  \"timeout or by a memory leak.\", UserWarning\n"
          ],
          "name": "stderr"
        },
        {
          "output_type": "stream",
          "text": [
            "Best hiperparameters:  {'batch_size': 100, 'epochs': 10}\n",
            "Epoch 1/10\n",
            "600/600 [==============================] - 6s 9ms/step - loss: 1.4273 - accuracy: 0.5003\n",
            "Epoch 2/10\n",
            "600/600 [==============================] - 6s 9ms/step - loss: 0.9414 - accuracy: 0.6925\n",
            "Epoch 3/10\n",
            "600/600 [==============================] - 6s 9ms/step - loss: 0.7437 - accuracy: 0.7574\n",
            "Epoch 4/10\n",
            "600/600 [==============================] - 5s 9ms/step - loss: 0.6192 - accuracy: 0.7995\n",
            "Epoch 5/10\n",
            "600/600 [==============================] - 5s 9ms/step - loss: 0.5256 - accuracy: 0.8316\n",
            "Epoch 6/10\n",
            "600/600 [==============================] - 6s 9ms/step - loss: 0.4586 - accuracy: 0.8534\n",
            "Epoch 7/10\n",
            "600/600 [==============================] - 5s 9ms/step - loss: 0.3806 - accuracy: 0.8793\n",
            "Epoch 8/10\n",
            "600/600 [==============================] - 5s 9ms/step - loss: 0.3300 - accuracy: 0.8972\n",
            "Epoch 9/10\n",
            "600/600 [==============================] - 5s 9ms/step - loss: 0.2795 - accuracy: 0.9148\n",
            "Epoch 10/10\n",
            "600/600 [==============================] - 5s 9ms/step - loss: 0.2395 - accuracy: 0.9286\n"
          ],
          "name": "stdout"
        }
      ]
    },
    {
      "cell_type": "code",
      "metadata": {
        "id": "KZJbMz232q_r",
        "colab": {
          "base_uri": "https://localhost:8080/"
        },
        "outputId": "0b4f07a8-00fc-465f-f49d-79562967c4b9"
      },
      "source": [
        "#SVM mieszane\n",
        "single_result(test_labels,pred_labels_shuffle_SVM,\"dane mieszane SVM\")\n",
        "print(\"-------------------------------------------------------------\")\n",
        "#RandomForest mieszane\n",
        "single_result(test_labels,pred_labels_shuffle_RF,\"dane mieszane RF\")\n",
        "print(\"-------------------------------------------------------------\")\n",
        "#Neural Network mieszane\n",
        "single_result(test_labels,pred_labels_shuffle_NN,\"dane mieszane NN\")\n",
        "print(\"-------------------------------------------------------------\")"
      ],
      "execution_count": 33,
      "outputs": [
        {
          "output_type": "stream",
          "text": [
            "Macierz pomyłek - dane mieszane SVM:\n",
            "[[ 834    0   12    3   25   41   16    1   47    1]\n",
            " [   0 1106    0    0    1    0    7    4   12    5]\n",
            " [  79    0  452  109   49  111   82   38   92   20]\n",
            " [  12    2  152  467   20   43   22  108   69  115]\n",
            " [  57    4   60   30  488   36   54   57   28  168]\n",
            " [ 111    0  146   56   36  341   66   29   96   11]\n",
            " [  95    3  106    6   29   69  534   16   98    2]\n",
            " [  11   21   45  124   28   43   28  566   15  147]\n",
            " [  79    0   61   49    8   69   68   16  613   11]\n",
            " [  20   17   33  120  140    6   17  125   24  507]]\n",
            "Raport - dane mieszane SVM:\n",
            "              precision    recall  f1-score   support\n",
            "\n",
            "           0       0.64      0.85      0.73       980\n",
            "           1       0.96      0.97      0.97      1135\n",
            "           2       0.42      0.44      0.43      1032\n",
            "           3       0.48      0.46      0.47      1010\n",
            "           4       0.59      0.50      0.54       982\n",
            "           5       0.45      0.38      0.41       892\n",
            "           6       0.60      0.56      0.58       958\n",
            "           7       0.59      0.55      0.57      1028\n",
            "           8       0.56      0.63      0.59       974\n",
            "           9       0.51      0.50      0.51      1009\n",
            "\n",
            "    accuracy                           0.59     10000\n",
            "   macro avg       0.58      0.58      0.58     10000\n",
            "weighted avg       0.59      0.59      0.59     10000\n",
            "\n",
            "Accuracy -  dane mieszane SVM:0.5908\n",
            "-------------------------------------------------------------\n",
            "Macierz pomyłek - dane mieszane RF:\n",
            "[[ 819    0    2    5   22    1   12    1  118    0]\n",
            " [   0 1100    1    1    1    0    1    6   21    4]\n",
            " [  63    0  435  164   42   62   78  107   54   27]\n",
            " [  47    4   39  605   13   28    7  137   80   50]\n",
            " [  95    1   32   11  472    0   44   78   41  208]\n",
            " [  76    2  125  144   11  294   76   73   75   16]\n",
            " [ 168    4   54    6   10   28  527   38  105   18]\n",
            " [  13   16   28   45   11   17   31  754   10  103]\n",
            " [ 113    1   22   21    9    7   37   20  730   14]\n",
            " [  34    9   21   40  139    1   15  141   36  573]]\n",
            "Raport - dane mieszane RF:\n",
            "              precision    recall  f1-score   support\n",
            "\n",
            "           0       0.57      0.84      0.68       980\n",
            "           1       0.97      0.97      0.97      1135\n",
            "           2       0.57      0.42      0.49      1032\n",
            "           3       0.58      0.60      0.59      1010\n",
            "           4       0.65      0.48      0.55       982\n",
            "           5       0.67      0.33      0.44       892\n",
            "           6       0.64      0.55      0.59       958\n",
            "           7       0.56      0.73      0.63      1028\n",
            "           8       0.57      0.75      0.65       974\n",
            "           9       0.57      0.57      0.57      1009\n",
            "\n",
            "    accuracy                           0.63     10000\n",
            "   macro avg       0.63      0.62      0.62     10000\n",
            "weighted avg       0.64      0.63      0.62     10000\n",
            "\n",
            "Accuracy -  dane mieszane RF:0.6309\n",
            "-------------------------------------------------------------\n",
            "Macierz pomyłek - dane mieszane NN:\n",
            "[[ 871    0    4    2   23    8   41    2   27    2]\n",
            " [   0 1092    3    0    2    0    3   13   17    5]\n",
            " [   9    1  648   73   41   81   43   73   42   21]\n",
            " [   4    1   71  684    9   35    8  106   23   69]\n",
            " [  11    1   25    7  709    1   46   66   14  102]\n",
            " [   8    0  119   49    8  564   57   38   44    5]\n",
            " [  20    1    7    2   22   31  849    7   14    5]\n",
            " [   2    8   18   37   27   20   24  807    3   82]\n",
            " [  89    1   38   20    4   31   85   22  653   31]\n",
            " [   3   11   13    8  100    8   17  131    9  709]]\n",
            "Raport - dane mieszane NN:\n",
            "              precision    recall  f1-score   support\n",
            "\n",
            "           0       0.86      0.89      0.87       980\n",
            "           1       0.98      0.96      0.97      1135\n",
            "           2       0.68      0.63      0.66      1032\n",
            "           3       0.78      0.68      0.72      1010\n",
            "           4       0.75      0.72      0.74       982\n",
            "           5       0.72      0.63      0.68       892\n",
            "           6       0.72      0.89      0.80       958\n",
            "           7       0.64      0.79      0.70      1028\n",
            "           8       0.77      0.67      0.72       974\n",
            "           9       0.69      0.70      0.70      1009\n",
            "\n",
            "    accuracy                           0.76     10000\n",
            "   macro avg       0.76      0.76      0.75     10000\n",
            "weighted avg       0.76      0.76      0.76     10000\n",
            "\n",
            "Accuracy -  dane mieszane NN:0.7586\n",
            "-------------------------------------------------------------\n"
          ],
          "name": "stdout"
        }
      ]
    },
    {
      "cell_type": "markdown",
      "metadata": {
        "id": "ZGYK53wC6uli"
      },
      "source": [
        "# Wnioski\n",
        "Porównując wyniki danych mieszanych surowych i surowych danych widzimy że dokładnośc znacząca zwiększyła (75% i 11%) się, co pokazuję że HOG naprawdę ulepsza dokładność oraz czas obliczeń."
      ]
    }
  ]
}