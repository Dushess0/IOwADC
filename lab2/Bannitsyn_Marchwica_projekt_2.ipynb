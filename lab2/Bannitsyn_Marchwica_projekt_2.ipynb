{
  "nbformat": 4,
  "nbformat_minor": 0,
  "metadata": {
    "colab": {
      "name": "Bannitsyn_Marchwica_projekt_2.ipynb",
      "provenance": [],
      "collapsed_sections": []
    },
    "kernelspec": {
      "name": "python3",
      "display_name": "Python 3.8.6 32-bit",
      "metadata": {
        "interpreter": {
          "hash": "1c3d89c725fc8077115fe0dd0422013479bda4f87832e89cd28dda15c98e6c78"
        }
      }
    },
    "language_info": {
      "name": "python",
      "version": "3.8.6"
    }
  },
  "cells": [
    {
      "cell_type": "markdown",
      "metadata": {
        "id": "6x8j9URhcmDj"
      },
      "source": [
        "Illia Bannitsyn illiabann@student.agh.edu.pl\n",
        "\n",
        "Patrycja Marchwica patmar@student.agh.edu.pl"
      ]
    },
    {
      "cell_type": "markdown",
      "metadata": {
        "id": "0ejUl35TgOXO"
      },
      "source": [
        "# Import danych"
      ]
    },
    {
      "cell_type": "code",
      "metadata": {
        "id": "arHSRml7cndW"
      },
      "source": [
        "import cv2\n",
        "import numpy as np\n",
        "import matplotlib.pyplot as plt\n",
        "from keras.datasets import mnist\n",
        "from sklearn import svm\n",
        "from sklearn.model_selection import GridSearchCV\n",
        "from sklearn.model_selection import StratifiedKFold\n",
        "from sklearn.metrics import classification_report, confusion_matrix, accuracy_score\n",
        "from sklearn.ensemble import RandomForestClassifier\n",
        "from keras import models\n",
        "from keras import layers\n",
        "from keras.utils import to_categorical\n",
        "from keras.wrappers.scikit_learn import KerasClassifier\n",
        "import tensorflow as tf\n",
        "from tensorflow.compat.v1.keras import backend as K\n",
        "\n",
        "\n",
        "#config = tf.compat.v1.ConfigProto( device_count = {'GPU': 1 , 'CPU': 23} , log_device_placement=True )\n",
        "#sess = tf.compat.v1.Session(config=config) \n",
        "#K.set_session(sess)\n",
        "(train_images, train_labels), (test_images, test_labels) = mnist.load_data()\n"
      ],
      "execution_count": 1,
      "outputs": [
        {
          "output_type": "error",
          "ename": "ModuleNotFoundError",
          "evalue": "No module named 'matplotlib'",
          "traceback": [
            "\u001b[1;31m---------------------------------------------------------------------------\u001b[0m",
            "\u001b[1;31mModuleNotFoundError\u001b[0m                       Traceback (most recent call last)",
            "\u001b[1;32m<ipython-input-1-0d65f17ab415>\u001b[0m in \u001b[0;36m<module>\u001b[1;34m\u001b[0m\n\u001b[0;32m      1\u001b[0m \u001b[1;32mimport\u001b[0m \u001b[0mcv2\u001b[0m\u001b[1;33m\u001b[0m\u001b[1;33m\u001b[0m\u001b[0m\n\u001b[0;32m      2\u001b[0m \u001b[1;32mimport\u001b[0m \u001b[0mnumpy\u001b[0m \u001b[1;32mas\u001b[0m \u001b[0mnp\u001b[0m\u001b[1;33m\u001b[0m\u001b[1;33m\u001b[0m\u001b[0m\n\u001b[1;32m----> 3\u001b[1;33m \u001b[1;32mimport\u001b[0m \u001b[0mmatplotlib\u001b[0m\u001b[1;33m.\u001b[0m\u001b[0mpyplot\u001b[0m \u001b[1;32mas\u001b[0m \u001b[0mplt\u001b[0m\u001b[1;33m\u001b[0m\u001b[1;33m\u001b[0m\u001b[0m\n\u001b[0m\u001b[0;32m      4\u001b[0m \u001b[1;32mfrom\u001b[0m \u001b[0mkeras\u001b[0m\u001b[1;33m.\u001b[0m\u001b[0mdatasets\u001b[0m \u001b[1;32mimport\u001b[0m \u001b[0mmnist\u001b[0m\u001b[1;33m\u001b[0m\u001b[1;33m\u001b[0m\u001b[0m\n\u001b[0;32m      5\u001b[0m \u001b[1;32mfrom\u001b[0m \u001b[0msklearn\u001b[0m \u001b[1;32mimport\u001b[0m \u001b[0msvm\u001b[0m\u001b[1;33m\u001b[0m\u001b[1;33m\u001b[0m\u001b[0m\n",
            "\u001b[1;31mModuleNotFoundError\u001b[0m: No module named 'matplotlib'"
          ]
        }
      ]
    },
    {
      "cell_type": "markdown",
      "metadata": {
        "id": "X45dq8-AiMOr"
      },
      "source": [
        "# Funkcje"
      ]
    },
    {
      "cell_type": "markdown",
      "metadata": {
        "id": "1WFZBeoOdPMi"
      },
      "source": [
        "## Deskew\n",
        "\n"
      ]
    },
    {
      "cell_type": "code",
      "metadata": {
        "id": "S13smJ_ldG_j"
      },
      "source": [
        "SZ=28\n",
        "affine_flags = cv2.WARP_INVERSE_MAP|cv2.INTER_LINEAR\n",
        "\n",
        "def deskew(img):\n",
        "    m = cv2.moments(img)\n",
        "    if abs(m['mu02']) < 1e-2:\n",
        "        return img.copy()\n",
        "    skew = m['mu11']/m['mu02']\n",
        "    M = np.float32([[1, skew, -0.5*SZ*skew], [0, 1, 0]])\n",
        "    img = cv2.warpAffine(img,M,(SZ, SZ),flags=affine_flags)\n",
        "    return img"
      ],
      "execution_count": null,
      "outputs": []
    },
    {
      "cell_type": "markdown",
      "metadata": {
        "id": "ralTuOycdZ-f"
      },
      "source": [
        "## HOG (Histogram of Oriented Gradients)\n",
        "\n"
      ]
    },
    {
      "cell_type": "code",
      "metadata": {
        "id": "cC5skUohdVck"
      },
      "source": [
        "def HOG(im):\n",
        "    winSize = (20,20)\n",
        "    blockSize = (10,10)\n",
        "    blockStride = (5,5)\n",
        "    cellSize = (10,10)\n",
        "    nbins = 9\n",
        "    derivAperture = 1\n",
        "    winSigma = -1.\n",
        "    histogramNormType = 0\n",
        "    L2HysThreshold = 0.2\n",
        "    gammaCorrection = 1\n",
        "    nlevels = 64\n",
        "    signedGradients = True\n",
        "\n",
        "    hog = cv2.HOGDescriptor(winSize,blockSize,blockStride,cellSize,nbins,derivAperture,winSigma,histogramNormType,L2HysThreshold,gammaCorrection,nlevels, signedGradients)\n",
        "    descriptor = np.ravel(hog.compute(im))\n",
        "    \n",
        "    return descriptor"
      ],
      "execution_count": null,
      "outputs": []
    },
    {
      "cell_type": "markdown",
      "metadata": {
        "id": "8lvJZtK1f-4s"
      },
      "source": [
        "## Tworzenie modelu dla sieci\n"
      ]
    },
    {
      "cell_type": "code",
      "metadata": {
        "id": "TMehy0nVfBsF"
      },
      "source": [
        "def create_model():\n",
        "  model = models.Sequential()\n",
        "  model.add(layers.Dense(512, activation='relu'))\n",
        "  model.add(layers.Dense(10, activation='softmax'))\n",
        "  model.compile(optimizer='rmsprop',\n",
        "                loss='categorical_crossentropy',\n",
        "                metrics=['accuracy'])\n",
        "  return model"
      ],
      "execution_count": null,
      "outputs": []
    },
    {
      "cell_type": "markdown",
      "metadata": {
        "id": "V6f5pQBuf2dH"
      },
      "source": [
        "## Grid Search - Walidacja krzyżowa"
      ]
    },
    {
      "cell_type": "code",
      "metadata": {
        "id": "DdMjje8vd1Kx"
      },
      "source": [
        "def SVMGridSearch(train_data, train_labels):\n",
        "  parameters = {'kernel':('linear', 'rbf'), 'C': np.linspace(start = 0.001, stop = 2, num = 50)}\n",
        "  svc = svm.SVC()\n",
        "  clf = GridSearchCV(svc, parameters, scoring='accuracy', cv=StratifiedKFold())\n",
        "  clf.fit(train_data, train_labels)\n",
        "  best_params = clf.best_params_\n",
        "  my_svc = clf.best_estimator_\n",
        "  \n",
        "  print(\"Best hiperparameters: \", best_params)\n",
        "  \n",
        "  return my_svc"
      ],
      "execution_count": null,
      "outputs": []
    },
    {
      "cell_type": "code",
      "metadata": {
        "id": "U-2WrrpEeYbY"
      },
      "source": [
        "def RandomForestGridSearch(train_data, train_labels):\n",
        "  parameters = {\n",
        "    'max_depth': [5, 8, 15, 25, 30],\n",
        "    'min_samples_leaf': [1, 2, 5, 10],\n",
        "    'min_samples_split': [2, 5, 10, 15, 100],\n",
        "    'n_estimators': [20, 30, 50, 70, 100]\n",
        "  }\n",
        "\n",
        "  rf = RandomForestClassifier()\n",
        "  clf = GridSearchCV(estimator = rf, param_grid = parameters, cv = 3, n_jobs = -1, verbose = 1)\n",
        "  clf.fit(train_data, train_labels)\n",
        "  best_params = clf.best_params_\n",
        "  my_rf = clf.best_estimator_\n",
        "  \n",
        "  print(\"Best hiperparameters: \", best_params)\n",
        "\n",
        "  return my_rf"
      ],
      "execution_count": null,
      "outputs": []
    },
    {
      "cell_type": "code",
      "metadata": {
        "id": "y-6fO3O8e7gm"
      },
      "source": [
        "def NeuralNetworkGridSrearch(train_data, train_labels):\n",
        "  parameters = {\n",
        "      'batch_size': [30, 50, 100],\n",
        "      'epochs': [5, 10, 15]\n",
        "      }\n",
        "  kc = KerasClassifier(build_fn=create_model, verbose=0)\n",
        "  clf = GridSearchCV(estimator=kc, param_grid=parameters, n_jobs=-1, cv=3)\n",
        "  clf.fit(train_data, train_labels)\n",
        "  best_params = clf.best_params_\n",
        "\n",
        "  print(\"Best hiperparameters: \", best_params)\n",
        "\n",
        "  return best_params"
      ],
      "execution_count": null,
      "outputs": []
    },
    {
      "cell_type": "markdown",
      "metadata": {
        "id": "pQaTkTbgwhVd"
      },
      "source": [
        "## Macierz pomyłek i raporty"
      ]
    },
    {
      "cell_type": "code",
      "metadata": {
        "id": "TZ6PX-EpwnSr"
      },
      "source": [
        "def getConfMatrix(test_labels, pred_labels_deskewed, pred_labels_non_deskewed,pred_labels_raw_deskewed,pred_labels_shuffle):\n",
        "  cm_deskewed = confusion_matrix(test_labels, pred_labels_deskewed)\n",
        "  cm_non_deskewed = confusion_matrix(test_labels, pred_labels_non_deskewed)\n",
        "  cm_raw_deskewed = confusion_matrix(test_labels, pred_labels_raw_deskewed)\n",
        "  cm_shuffle = confusion_matrix(test_labels, pred_labels_shuffle)\n",
        "\n",
        "\n",
        "  print(\"Macierz pomyłek - dane wyrównane:\")\n",
        "  print(cm_deskewed)\n",
        "  print(\"Macierz pomyłek - dane niewyrównane:\")\n",
        "  print(cm_non_deskewed)\n",
        "  print(\"Macierz pomyłek - dane surowe:\")\n",
        "  print(cm_raw_deskewed)\n",
        "  print(\"Macierz pomyłek - dane zmieszane:\")\n",
        "  print(cm_shuffle)"
      ],
      "execution_count": null,
      "outputs": []
    },
    {
      "cell_type": "code",
      "metadata": {
        "id": "FhSNwocqyMYJ"
      },
      "source": [
        "def getReports(test_labels, pred_labels_deskewed, pred_labels_non_deskewed,pred_labels_raw_deskewed,pred_labels_shuffle):\n",
        "  print(\"Raport - dane wyrównane:\")\n",
        "  print(classification_report(test_labels, pred_labels_deskewed))\n",
        "  print(\"Raport - dane niewyrównane:\")\n",
        "  print(classification_report(test_labels, pred_labels_non_deskewed))\n",
        "  print(\"Raport - dane surowe:\")\n",
        "  print(classification_report(test_labels, pred_labels_raw_deskewed))\n",
        "  print(\"Raport - dane zmieszane:\")\n",
        "  print(classification_report(test_labels, pred_labels_shuffle))"
      ],
      "execution_count": null,
      "outputs": []
    },
    {
      "cell_type": "code",
      "metadata": {
        "id": "rUXlzWXlylZv"
      },
      "source": [
        "def getAccuracy(test_labels, pred_labels_deskewed, pred_labels_non_deskewed,pred_labels_raw_deskewed,pred_labels_shuffle):\n",
        "  print(\"Accuracy - dane wyrównane: \" + str(accuracy_score(test_labels, pred_labels_deskewed)))\n",
        "  print(\"Accuracy - dane niewyrównane: \" + str(accuracy_score(test_labels, pred_labels_non_deskewed)))\n",
        "  print(\"Accuracy - dane surowe: \" + str(accuracy_score(test_labels, pred_labels_raw_deskewed)))\n",
        "  print(\"Accuracy - dane zmieszane: \" + str(accuracy_score(test_labels, pred_labels_shuffle)))"
      ],
      "execution_count": null,
      "outputs": []
    },
    {
      "cell_type": "markdown",
      "metadata": {
        "id": "g6biV2QIf0Bu"
      },
      "source": [
        "# Preprocessing\n",
        "\n"
      ]
    },
    {
      "cell_type": "markdown",
      "metadata": {
        "id": "IWlrg0Mvgeyy"
      },
      "source": [
        "Surowe dane"
      ]
    },
    {
      "cell_type": "code",
      "metadata": {
        "id": "lK-H-LhFgH1z"
      },
      "source": [
        "train_raw = train_images.reshape(len(train_images), 28 * 28)\n",
        "test_raw = test_images.reshape(len(test_images), 28 * 28)"
      ],
      "execution_count": null,
      "outputs": []
    },
    {
      "cell_type": "markdown",
      "metadata": {
        "id": "XaBSct4eghyj"
      },
      "source": [
        "Dane poddane wyrównaniu"
      ]
    },
    {
      "cell_type": "code",
      "metadata": {
        "id": "zy3BbqBRglUF"
      },
      "source": [
        "train_deskewed = np.float32([deskew(im) for im in train_raw])\n",
        "test_deskewed = np.float32([deskew(im) for im in test_raw])\n",
        "\n",
        "train_deskewed = np.asarray(train_deskewed).reshape(-1,28*28)\n",
        "test_deskewed = np.asarray(test_deskewed).reshape(-1,28*28)"
      ],
      "execution_count": null,
      "outputs": []
    },
    {
      "cell_type": "code",
      "metadata": {
        "id": "oFF3QEGDhF1v"
      },
      "source": [
        "hogdata_train = np.float32([HOG(im) for im in train_images]).reshape(-1,81)\n",
        "hogdata_test = np.float32([HOG(im) for im in test_images]).reshape(-1,81)\n",
        "\n",
        "hogdata_train_deskewed = np.float32([HOG(deskew(im)) for im in train_images]).reshape(-1,81)\n",
        "hogdata_test_deskewed = np.float32([HOG(deskew(im)) for im in test_images]).reshape(-1,81)"
      ],
      "execution_count": null,
      "outputs": []
    },
    {
      "cell_type": "code",
      "execution_count": null,
      "metadata": {},
      "outputs": [],
      "source": [
        "# Zmieszane dane surowe\n",
        "train_shuffle = train_images.copy()\n",
        "train_shuffle = np.float32([deskew(im) for im in train_shuffle])\n",
        "np.float32([np.random.shuffle(im) for im in train_shuffle])\n",
        "train_shuffle = np.asarray(train_shuffle).reshape(-1,28*28)\n",
        "\n",
        "test_shuffle = test_images.copy()\n",
        "test_shuffle = np.float32([deskew(im) for im in test_shuffle])\n",
        "np.float32([np.random.shuffle(im) for im in test_shuffle])\n",
        "test_shuffle = np.asarray(test_shuffle).reshape(-1,28*28)"
      ]
    },
    {
      "cell_type": "markdown",
      "metadata": {
        "id": "0MKt4DJRhoQT"
      },
      "source": [
        "Dane dla walidacji krzyżowej"
      ]
    },
    {
      "cell_type": "code",
      "metadata": {
        "id": "L6T75RR0hsB_"
      },
      "source": [
        "hogdata_train_short = hogdata_train[:600]\n",
        "hogdata_train_deskewed_short = hogdata_train_deskewed[:600]\n",
        "\n",
        "# Surowe dane \n",
        "rawdata_train_deskewed_short = train_deskewed[:600]\n",
        "\n",
        "# Zmieszane dane surowe \n",
        "train_shuffle_short = train_shuffle[:600]\n",
        "\n",
        "train_labels_short = train_labels[:600]"
      ],
      "execution_count": null,
      "outputs": []
    },
    {
      "cell_type": "markdown",
      "metadata": {
        "id": "c0Oi8EPYiCqh"
      },
      "source": [
        "# Model SVM"
      ]
    },
    {
      "cell_type": "markdown",
      "metadata": {
        "id": "antcuvKEi2ay"
      },
      "source": [
        "## Walidacja krzyżowa"
      ]
    },
    {
      "cell_type": "markdown",
      "metadata": {
        "id": "spuajqwAjETl"
      },
      "source": [
        "Dane wyrównane"
      ]
    },
    {
      "cell_type": "code",
      "metadata": {
        "colab": {
          "background_save": true
        },
        "id": "9LLJImvdiHmq",
        "outputId": "915e2d50-b72a-46b8-f1a1-35b61911f8d5"
      },
      "source": [
        "model_deskewed = SVMGridSearch(hogdata_train_deskewed_short, train_labels_short)"
      ],
      "execution_count": null,
      "outputs": [
        {
          "output_type": "stream",
          "text": [
            "Best hiperparameters:  {'C': 0.7353265306122448, 'kernel': 'linear'}\n"
          ],
          "name": "stdout"
        }
      ]
    },
    {
      "cell_type": "markdown",
      "metadata": {
        "id": "OrJ-k3-Jjkee"
      },
      "source": [
        "Dane niewyrównane"
      ]
    },
    {
      "cell_type": "code",
      "metadata": {
        "colab": {
          "background_save": true
        },
        "id": "JpoWAN1Xjm2f",
        "outputId": "02d08c7f-8a30-4929-c86e-ce7442f1cb4b"
      },
      "source": [
        "model_non_deskewed = SVMGridSearch(hogdata_train_short, train_labels_short)"
      ],
      "execution_count": null,
      "outputs": [
        {
          "output_type": "stream",
          "text": [
            "Best hiperparameters:  {'C': 0.8577142857142857, 'kernel': 'linear'}\n"
          ],
          "name": "stdout"
        }
      ]
    },
    {
      "cell_type": "markdown",
      "metadata": {
        "id": "8Hil4d7Mj5TM"
      },
      "source": [
        "Dane surowe"
      ]
    },
    {
      "cell_type": "code",
      "metadata": {
        "colab": {
          "background_save": true
        },
        "id": "UWowZtvNj69p",
        "outputId": "979cb2dd-fe76-458a-f20c-f24e6926c871"
      },
      "source": [
        "model_raw_deskewed = SVMGridSearch(rawdata_train_deskewed_short, train_labels_short)"
      ],
      "execution_count": null,
      "outputs": [
        {
          "output_type": "stream",
          "text": [
            "Best hiperparameters:  {'C': 0.001, 'kernel': 'linear'}\n"
          ],
          "name": "stdout"
        }
      ]
    },
    {
      "cell_type": "markdown",
      "metadata": {
        "id": "CeysRaaqkoN3"
      },
      "source": [
        "Zmieszane dane surowe"
      ]
    },
    {
      "cell_type": "code",
      "metadata": {
        "colab": {
          "background_save": true
        },
        "id": "pu0t5_tvkuo7"
      },
      "source": [
        "model_shuffle = SVMGridSearch(train_shuffle_short, train_labels_short)"
      ],
      "execution_count": null,
      "outputs": []
    },
    {
      "cell_type": "code",
      "metadata": {
        "colab": {
          "background_save": true
        },
        "id": "mvFnguu_kB3E"
      },
      "source": [
        "## Trenowanie modelu"
      ],
      "execution_count": null,
      "outputs": []
    },
    {
      "cell_type": "code",
      "metadata": {
        "colab": {
          "background_save": true
        },
        "id": "0zzILgPSaks3",
        "outputId": "b40b046a-f678-4a6e-dedc-c0bee1baa85e"
      },
      "source": [
        "%store model_deskewed\n",
        "%store model_non_deskewed\n",
        "%store model_raw_deskewed\n",
        "%store model_shuffle"
      ],
      "execution_count": null,
      "outputs": [
        {
          "output_type": "stream",
          "text": [
            "Stored 'model_deskewed' (SVC)\n",
            "Stored 'model_non_deskewed' (SVC)\n",
            "Stored 'model_raw_deskewed' (SVC)\n"
          ],
          "name": "stdout"
        }
      ]
    },
    {
      "cell_type": "code",
      "metadata": {
        "colab": {
          "background_save": true
        },
        "id": "ZLZBAi3haks3"
      },
      "source": [
        "%store -r model_deskewed\n",
        "%store -r model_non_deskewed\n",
        "%store -r model_raw_deskewed\n",
        "%store -r model_shuffle"
      ],
      "execution_count": null,
      "outputs": []
    },
    {
      "cell_type": "markdown",
      "metadata": {
        "id": "Glvnv2cfkIV9"
      },
      "source": [
        "Klasyfikacja"
      ]
    },
    {
      "cell_type": "code",
      "metadata": {
        "colab": {
          "background_save": true
        },
        "id": "5S5vqED0kGPS"
      },
      "source": [
        "model_deskewed.fit(hogdata_train_deskewed, train_labels)\n",
        "\n",
        "pred_labels_deskewed = model_deskewed.predict(hogdata_test_deskewed)"
      ],
      "execution_count": null,
      "outputs": []
    },
    {
      "cell_type": "code",
      "metadata": {
        "colab": {
          "background_save": true
        },
        "id": "-TGv87iJaks4"
      },
      "source": [
        "model_non_deskewed.fit(hogdata_train, train_labels)\n",
        "\n",
        "pred_labels_non_deskewed = model_non_deskewed.predict(hogdata_test)"
      ],
      "execution_count": null,
      "outputs": []
    },
    {
      "cell_type": "code",
      "metadata": {
        "colab": {
          "background_save": true
        },
        "id": "sPZ5YhfDaks4"
      },
      "source": [
        "idx = np.random.choice(np.arange(len(train_deskewed)), 6000, replace=False)\n",
        "train_deskewed_random = train_deskewed[idx]\n",
        "train_labels_random = train_labels[idx]\n",
        "\n",
        "model_raw_deskewed.fit(train_deskewed_random,train_labels_random)\n",
        "pred_labels_raw_deskewed = model_raw_deskewed.predict(test_deskewed)"
      ],
      "execution_count": null,
      "outputs": []
    },
    {
      "cell_type": "code",
      "execution_count": null,
      "metadata": {},
      "outputs": [],
      "source": [
        "idx = np.random.choice(np.arange(len(train_shuffle)), 6000, replace=False)\n",
        "train_shuffle_random = train_shuffle[idx]\n",
        "train_labels_random = train_labels[idx]\n",
        "\n",
        "model_shuffle.fit(train_shuffle_random,train_labels_random)\n",
        "pred_labels_shuffle = model_shuffle.predict(test_shuffle)"
      ]
    },
    {
      "cell_type": "markdown",
      "metadata": {
        "id": "hgx-k3LjkZCz"
      },
      "source": [
        "Accuracy"
      ]
    },
    {
      "cell_type": "code",
      "metadata": {
        "colab": {
          "background_save": true
        },
        "id": "wTlDxOJ4kZaF",
        "outputId": "d18111b2-2a4d-4826-8f11-f8e7b61d0946"
      },
      "source": [
        "getAccuracy(test_labels, pred_labels_deskewed,pred_labels_non_deskewed,pred_labels_raw_deskewed,pred_labels_shuffle)"
      ],
      "execution_count": null,
      "outputs": [
        {
          "output_type": "stream",
          "text": [
            "Accuracy - dane wyrównane: 0.9746\n",
            "Accuracy - dane niewyrównane: 0.9651\n",
            "Accuracy - dane surowe: 0.1135\n",
            "Accuracy - dane zmieszane: \n"
          ],
          "name": "stdout"
        }
      ]
    },
    {
      "cell_type": "markdown",
      "metadata": {
        "id": "zHv2avGzn7WO"
      },
      "source": [
        "Macierze pomyłek"
      ]
    },
    {
      "cell_type": "code",
      "metadata": {
        "colab": {
          "background_save": true
        },
        "id": "A23bzfl-lC1e",
        "outputId": "a03e5a11-2ed1-4e7d-960e-2c188061eb2d"
      },
      "source": [
        "getConfMatrix(test_labels, pred_labels_deskewed,pred_labels_non_deskewed,pred_labels_raw_deskewed,pred_labels_shuffle)"
      ],
      "execution_count": null,
      "outputs": [
        {
          "output_type": "stream",
          "text": [
            "Macierz pomyłek - dane wyrównane:\n",
            "[[ 966    1    2    0    1    2    4    1    0    3]\n",
            " [   0 1125    1    2    0    0    2    4    1    0]\n",
            " [   0    0 1006    5    0    0    0   18    3    0]\n",
            " [   0    1    9  987    0    4    0    7    2    0]\n",
            " [   2    0    2    0  966    1    7    0    0    4]\n",
            " [   1    0    2    5    1  872    4    2    3    2]\n",
            " [   7    2    1    0    6    3  936    0    3    0]\n",
            " [   4    2   24    9    1    0    0  983    2    3]\n",
            " [   0    0    3   10    7    5    0    3  934   12]\n",
            " [   3    0    1    1    7    4    2    8   12  971]]\n",
            "Macierz pomyłek - dane niewyrównane:\n",
            "[[ 955    2    3    0    2    5    9    2    0    2]\n",
            " [   0 1124    3    0    0    0    1    5    2    0]\n",
            " [   3    1 1000    4    0    0    1   20    3    0]\n",
            " [   0    0    9  981    0    5    0   10    4    1]\n",
            " [   3    0    2    0  961    1    5    0    4    6]\n",
            " [   4    2    0   10    1  852    1    3   17    2]\n",
            " [  14    3    0    0    4    6  929    0    2    0]\n",
            " [   3    5   40    8    0    0    0  966    3    3]\n",
            " [   0    0    7    7    6    7    4    6  919   18]\n",
            " [   6    2    0    2    3   10    1    9   12  964]]\n",
            "Macierz pomyłek - dane surowe:\n",
            "Macierz pomyłek - dane zmieszane:\n"
          ],
          "name": "stdout"
        }
      ]
    },
    {
      "cell_type": "markdown",
      "metadata": {
        "id": "VdffqhOhn_LW"
      },
      "source": [
        "Raporty"
      ]
    },
    {
      "cell_type": "code",
      "metadata": {
        "colab": {
          "background_save": true
        },
        "id": "V2jcf1slnSaN",
        "outputId": "da81a8ce-fcfd-45ad-f0fa-93da3d34cb34"
      },
      "source": [
        "getReports(test_labels, pred_labels_deskewed,pred_labels_non_deskewed,pred_labels_raw_deskewed,pred_labels_shuffle)"
      ],
      "execution_count": null,
      "outputs": [
        {
          "output_type": "stream",
          "text": [
            "Raport - dane wyrównane:\n",
            "              precision    recall  f1-score   support\n",
            "\n",
            "           0       0.98      0.99      0.98       980\n",
            "           1       0.99      0.99      0.99      1135\n",
            "           2       0.96      0.97      0.97      1032\n",
            "           3       0.97      0.98      0.97      1010\n",
            "           4       0.98      0.98      0.98       982\n",
            "           5       0.98      0.98      0.98       892\n",
            "           6       0.98      0.98      0.98       958\n",
            "           7       0.96      0.96      0.96      1028\n",
            "           8       0.97      0.96      0.97       974\n",
            "           9       0.98      0.96      0.97      1009\n",
            "\n",
            "    accuracy                           0.97     10000\n",
            "   macro avg       0.97      0.97      0.97     10000\n",
            "weighted avg       0.97      0.97      0.97     10000\n",
            "\n",
            "Raport - dane niewyrównane:\n",
            "              precision    recall  f1-score   support\n",
            "\n",
            "           0       0.97      0.97      0.97       980\n",
            "           1       0.99      0.99      0.99      1135\n",
            "           2       0.94      0.97      0.95      1032\n",
            "           3       0.97      0.97      0.97      1010\n",
            "           4       0.98      0.98      0.98       982\n",
            "           5       0.96      0.96      0.96       892\n",
            "           6       0.98      0.97      0.97       958\n",
            "           7       0.95      0.94      0.94      1028\n",
            "           8       0.95      0.94      0.95       974\n",
            "           9       0.97      0.96      0.96      1009\n",
            "\n",
            "    accuracy                           0.97     10000\n",
            "   macro avg       0.97      0.96      0.96     10000\n",
            "weighted avg       0.97      0.97      0.97     10000\n",
            "\n",
            "Raport - dane surowe:\n",
            "              precision    recall  f1-score   support\n",
            "\n",
            "           0       0.00      0.00      0.00       980\n",
            "           1       0.11      1.00      0.20      1135\n",
            "           2       0.00      0.00      0.00      1032\n",
            "           3       0.00      0.00      0.00      1010\n",
            "           4       0.00      0.00      0.00       982\n",
            "           5       0.00      0.00      0.00       892\n",
            "           6       0.00      0.00      0.00       958\n",
            "           7       0.00      0.00      0.00      1028\n",
            "           8       0.00      0.00      0.00       974\n",
            "           9       0.00      0.00      0.00      1009\n",
            "\n",
            "    accuracy                           0.11     10000\n",
            "   macro avg       0.01      0.10      0.02     10000\n",
            "weighted avg       0.01      0.11      0.02     10000\n",
            "\n",
            "Raport - dane zmieszane:\n"
          ],
          "name": "stdout"
        },
        {
          "output_type": "stream",
          "text": [
            "/usr/local/lib/python3.7/dist-packages/sklearn/metrics/_classification.py:1272: UndefinedMetricWarning: Precision and F-score are ill-defined and being set to 0.0 in labels with no predicted samples. Use `zero_division` parameter to control this behavior.\n",
            "  _warn_prf(average, modifier, msg_start, len(result))\n"
          ],
          "name": "stderr"
        }
      ]
    },
    {
      "cell_type": "markdown",
      "metadata": {
        "id": "CZvN3pikFHR-"
      },
      "source": [
        "## Wnioski"
      ]
    },
    {
      "cell_type": "markdown",
      "metadata": {
        "id": "O1eVHzkmFKPn"
      },
      "source": [
        "**TODO**\n",
        "\n",
        "\n",
        "Użycie surowych danych spowodowało drastyczny wzrost czasu potrzebnego do trenowania modeli. Model który używa surowych danych był najmniej skutecznym (11% co jest bardzo bliskie do zgadywania), oraz trenowanie modelu z użyciem 6000 próbek trwało na 5 36 sekund minut dłużej niż modele które były trenowane na 60 000 próbkach przetworzonych danych. \n"
      ]
    },
    {
      "cell_type": "markdown",
      "metadata": {
        "id": "YYIWUFHdoeit"
      },
      "source": [
        "# Model RandomForest"
      ]
    },
    {
      "cell_type": "markdown",
      "metadata": {
        "id": "Hl-cKZuPowZ-"
      },
      "source": [
        "## Walidacja krzyżowa"
      ]
    },
    {
      "cell_type": "markdown",
      "metadata": {
        "id": "QL-FT7iPo5uw"
      },
      "source": [
        "Dane wyrównane"
      ]
    },
    {
      "cell_type": "code",
      "metadata": {
        "colab": {
          "background_save": true
        },
        "id": "zNk-u3y4o9K-",
        "outputId": "bdd447b4-5bb8-4acb-c041-023574aca5bb"
      },
      "source": [
        "model_deskewed = RandomForestGridSearch(hogdata_train_deskewed_short, train_labels_short)"
      ],
      "execution_count": null,
      "outputs": [
        {
          "output_type": "stream",
          "text": [
            "Fitting 3 folds for each of 500 candidates, totalling 1500 fits\n"
          ],
          "name": "stdout"
        },
        {
          "output_type": "stream",
          "text": [
            "[Parallel(n_jobs=-1)]: Using backend LokyBackend with 2 concurrent workers.\n",
            "[Parallel(n_jobs=-1)]: Done  46 tasks      | elapsed:    6.5s\n",
            "[Parallel(n_jobs=-1)]: Done 196 tasks      | elapsed:   24.0s\n",
            "[Parallel(n_jobs=-1)]: Done 446 tasks      | elapsed:   54.4s\n",
            "[Parallel(n_jobs=-1)]: Done 796 tasks      | elapsed:  1.6min\n",
            "[Parallel(n_jobs=-1)]: Done 1246 tasks      | elapsed:  2.6min\n",
            "[Parallel(n_jobs=-1)]: Done 1500 out of 1500 | elapsed:  3.1min finished\n"
          ],
          "name": "stderr"
        },
        {
          "output_type": "stream",
          "text": [
            "Best hiperparameters:  {'max_depth': 15, 'min_samples_leaf': 2, 'min_samples_split': 2, 'n_estimators': 70}\n"
          ],
          "name": "stdout"
        }
      ]
    },
    {
      "cell_type": "markdown",
      "metadata": {
        "id": "FZRaG7Uzpgy1"
      },
      "source": [
        "Dane niewyrównane"
      ]
    },
    {
      "cell_type": "code",
      "metadata": {
        "colab": {
          "background_save": true
        },
        "id": "DE3ZYhqipi01",
        "outputId": "d5b719a2-e105-4f15-a2ce-d59d6d6e040d"
      },
      "source": [
        "model_non_deskewed = RandomForestGridSearch(hogdata_train_short, train_labels_short)"
      ],
      "execution_count": null,
      "outputs": [
        {
          "output_type": "stream",
          "text": [
            "Fitting 3 folds for each of 500 candidates, totalling 1500 fits\n"
          ],
          "name": "stdout"
        },
        {
          "output_type": "stream",
          "text": [
            "[Parallel(n_jobs=-1)]: Using backend LokyBackend with 2 concurrent workers.\n",
            "[Parallel(n_jobs=-1)]: Done  88 tasks      | elapsed:   10.2s\n",
            "[Parallel(n_jobs=-1)]: Done 388 tasks      | elapsed:   44.9s\n",
            "[Parallel(n_jobs=-1)]: Done 888 tasks      | elapsed:  1.7min\n",
            "[Parallel(n_jobs=-1)]: Done 1500 out of 1500 | elapsed:  3.0min finished\n"
          ],
          "name": "stderr"
        },
        {
          "output_type": "stream",
          "text": [
            "Best hiperparameters:  {'max_depth': 15, 'min_samples_leaf': 2, 'min_samples_split': 5, 'n_estimators': 100}\n"
          ],
          "name": "stdout"
        }
      ]
    },
    {
      "cell_type": "markdown",
      "metadata": {
        "id": "kjBmeLr1pzU3"
      },
      "source": [
        "Dane surowe"
      ]
    },
    {
      "cell_type": "code",
      "metadata": {
        "colab": {
          "background_save": true
        },
        "id": "7LW_lHxqp0qQ",
        "outputId": "0c6c4521-f843-44c9-b737-3455a5960ecc"
      },
      "source": [
        "model_raw_deskewed = RandomForestGridSearch(rawdata_train_deskewed_short, train_labels_short)"
      ],
      "execution_count": null,
      "outputs": [
        {
          "output_type": "stream",
          "text": [
            "Fitting 3 folds for each of 500 candidates, totalling 1500 fits\n"
          ],
          "name": "stdout"
        },
        {
          "output_type": "stream",
          "text": [
            "[Parallel(n_jobs=-1)]: Using backend LokyBackend with 2 concurrent workers.\n",
            "[Parallel(n_jobs=-1)]: Done  88 tasks      | elapsed:   10.6s\n",
            "[Parallel(n_jobs=-1)]: Done 388 tasks      | elapsed:   47.1s\n",
            "[Parallel(n_jobs=-1)]: Done 888 tasks      | elapsed:  1.8min\n"
          ],
          "name": "stderr"
        },
        {
          "output_type": "stream",
          "text": [
            "Best hiperparameters:  {'max_depth': 5, 'min_samples_leaf': 1, 'min_samples_split': 2, 'n_estimators': 20}\n"
          ],
          "name": "stdout"
        },
        {
          "output_type": "stream",
          "text": [
            "[Parallel(n_jobs=-1)]: Done 1500 out of 1500 | elapsed:  3.0min finished\n"
          ],
          "name": "stderr"
        }
      ]
    },
    {
      "cell_type": "markdown",
      "metadata": {
        "id": "RufeWetop1AV"
      },
      "source": [
        "Zmieszane dane surowe"
      ]
    },
    {
      "cell_type": "code",
      "metadata": {
        "colab": {
          "background_save": true
        },
        "id": "gOBh-N64p2q2"
      },
      "source": [
        "model_shuffle = RandomForestGridSearch(train_shuffle_short, train_labels_short)"
      ],
      "execution_count": null,
      "outputs": []
    },
    {
      "cell_type": "markdown",
      "metadata": {
        "id": "Lcyg18pJp_-s"
      },
      "source": [
        "## Trenowanie modelu"
      ]
    },
    {
      "cell_type": "markdown",
      "metadata": {
        "id": "yCj9gRrJqEKo"
      },
      "source": [
        "Klasyfikacja"
      ]
    },
    {
      "cell_type": "code",
      "metadata": {
        "colab": {
          "background_save": true
        },
        "id": "TmHoDJVhqG9r"
      },
      "source": [
        "model_deskewed.fit(hogdata_train_deskewed, train_labels)\n",
        "model_non_deskewed.fit(hogdata_train, train_labels)\n",
        "model_raw_deskewed.fit(train_deskewed, train_labels)\n",
        "model_shuffle.fit(train_shuffle, train_labels)\n",
        "\n",
        "pred_labels_deskewed = model_deskewed.predict(hogdata_test_deskewed)\n",
        "pred_labels_non_deskewed = model_non_deskewed.predict(hogdata_test)\n",
        "pred_labels_raw_deskewed = model_raw_deskewed.predict(test_deskewed)\n",
        "pred_labels_shuffle = model_shuffle.predict(test_shuffle)"
      ],
      "execution_count": null,
      "outputs": []
    },
    {
      "cell_type": "markdown",
      "metadata": {
        "id": "TP6zqK1-qQKC"
      },
      "source": [
        "Accuracy"
      ]
    },
    {
      "cell_type": "code",
      "metadata": {
        "colab": {
          "background_save": true
        },
        "id": "tmZcpjbUqRNP",
        "outputId": "0c6df1c3-91d9-4a36-9c70-0199de13764d"
      },
      "source": [
        "getAccuracy(test_labels, pred_labels_deskewed,pred_labels_non_deskewed,pred_labels_raw_deskewed,pred_labels_shuffle)"
      ],
      "execution_count": null,
      "outputs": [
        {
          "output_type": "stream",
          "text": [
            "Accuracy - dane wyrównane: 0.9691\n",
            "Accuracy - dane niewyrównane: 0.9586\n",
            "Accuracy - dane surowe: 0.1135\n",
            "Accuracy - dane zmieszane: \n"
          ],
          "name": "stdout"
        }
      ]
    },
    {
      "cell_type": "markdown",
      "metadata": {
        "id": "xwV4v-lLqRm1"
      },
      "source": [
        "Macierz pomyłek"
      ]
    },
    {
      "cell_type": "code",
      "metadata": {
        "colab": {
          "background_save": true
        },
        "id": "aC99U6fZqUGD",
        "outputId": "c44d70c6-7d5d-4a82-8b99-fa71db083678"
      },
      "source": [
        "getConfMatrix(test_labels, pred_labels_deskewed,pred_labels_non_deskewed,pred_labels_raw_deskewed,pred_labels_shuffle)"
      ],
      "execution_count": null,
      "outputs": [
        {
          "output_type": "stream",
          "text": [
            "Macierz pomyłek - dane wyrównane:\n",
            "[[ 961    0    2    0    0    4    3    2    3    5]\n",
            " [   0 1125    2    0    0    0    1    4    3    0]\n",
            " [   1    1 1004    2    1    0    2   15    4    2]\n",
            " [   0    2   10  980    0    5    0    9    2    2]\n",
            " [   2    1    0    0  953    2    8    0    4   12]\n",
            " [   4    0    0    3    0  875    2    1    4    3]\n",
            " [   6    3    0    0    9    6  930    0    3    1]\n",
            " [   3    1   26    9    0    0    0  977    5    7]\n",
            " [   0    0    2    7    7    6    4    4  919   25]\n",
            " [   6    0    1    0    3    7    3    2   20  967]]\n",
            "Macierz pomyłek - dane niewyrównane:\n",
            "[[ 955    1    2    0    5    8    5    1    0    3]\n",
            " [   0 1123    4    0    1    1    1    3    2    0]\n",
            " [   3    1  991    4    2    0    3   19    6    3]\n",
            " [   0    0   13  978    0    4    0   10    5    0]\n",
            " [   5    1    0    0  944    2   13    0    1   16]\n",
            " [   3    3    1    7    0  858    1    3   11    5]\n",
            " [  13    3    1    0    6   10  922    0    2    1]\n",
            " [   2    1   35   17    0    1    0  959    4    9]\n",
            " [   1    0    4    8    7   11    4    2  908   29]\n",
            " [  14    0    1    1    2    9    3    3   28  948]]\n",
            "Macierz pomyłek - dane surowe:\n",
            "Macierz pomyłek - dane zmieszane:\n"
          ],
          "name": "stdout"
        }
      ]
    },
    {
      "cell_type": "markdown",
      "metadata": {
        "id": "PGcCBYLFqUmv"
      },
      "source": [
        "Raporty"
      ]
    },
    {
      "cell_type": "code",
      "metadata": {
        "colab": {
          "background_save": true
        },
        "id": "uS0moAi-qWEP",
        "outputId": "5d6b19db-0bf0-46aa-b57f-53889dbfcb06"
      },
      "source": [
        "getReports(test_labels, pred_labels_deskewed,pred_labels_non_deskewed,pred_labels_raw_deskewed,pred_labels_shuffle)"
      ],
      "execution_count": null,
      "outputs": [
        {
          "output_type": "stream",
          "text": [
            "Raport - dane wyrównane:\n",
            "              precision    recall  f1-score   support\n",
            "\n",
            "           0       0.98      0.98      0.98       980\n",
            "           1       0.99      0.99      0.99      1135\n",
            "           2       0.96      0.97      0.97      1032\n",
            "           3       0.98      0.97      0.97      1010\n",
            "           4       0.98      0.97      0.97       982\n",
            "           5       0.97      0.98      0.97       892\n",
            "           6       0.98      0.97      0.97       958\n",
            "           7       0.96      0.95      0.96      1028\n",
            "           8       0.95      0.94      0.95       974\n",
            "           9       0.94      0.96      0.95      1009\n",
            "\n",
            "    accuracy                           0.97     10000\n",
            "   macro avg       0.97      0.97      0.97     10000\n",
            "weighted avg       0.97      0.97      0.97     10000\n",
            "\n",
            "Raport - dane niewyrównane:\n",
            "              precision    recall  f1-score   support\n",
            "\n",
            "           0       0.96      0.97      0.97       980\n",
            "           1       0.99      0.99      0.99      1135\n",
            "           2       0.94      0.96      0.95      1032\n",
            "           3       0.96      0.97      0.97      1010\n",
            "           4       0.98      0.96      0.97       982\n",
            "           5       0.95      0.96      0.96       892\n",
            "           6       0.97      0.96      0.97       958\n",
            "           7       0.96      0.93      0.95      1028\n",
            "           8       0.94      0.93      0.94       974\n",
            "           9       0.93      0.94      0.94      1009\n",
            "\n",
            "    accuracy                           0.96     10000\n",
            "   macro avg       0.96      0.96      0.96     10000\n",
            "weighted avg       0.96      0.96      0.96     10000\n",
            "\n",
            "Raport - dane surowe:\n",
            "              precision    recall  f1-score   support\n",
            "\n",
            "           0       0.00      0.00      0.00       980\n",
            "           1       0.11      1.00      0.20      1135\n",
            "           2       0.00      0.00      0.00      1032\n",
            "           3       0.00      0.00      0.00      1010\n",
            "           4       0.00      0.00      0.00       982\n",
            "           5       0.00      0.00      0.00       892\n",
            "           6       0.00      0.00      0.00       958\n",
            "           7       0.00      0.00      0.00      1028\n",
            "           8       0.00      0.00      0.00       974\n",
            "           9       0.00      0.00      0.00      1009\n",
            "\n",
            "    accuracy                           0.11     10000\n",
            "   macro avg       0.01      0.10      0.02     10000\n",
            "weighted avg       0.01      0.11      0.02     10000\n",
            "\n",
            "Raport - dane zmieszane:\n"
          ],
          "name": "stdout"
        },
        {
          "output_type": "stream",
          "text": [
            "/usr/local/lib/python3.7/dist-packages/sklearn/metrics/_classification.py:1272: UndefinedMetricWarning: Precision and F-score are ill-defined and being set to 0.0 in labels with no predicted samples. Use `zero_division` parameter to control this behavior.\n",
            "  _warn_prf(average, modifier, msg_start, len(result))\n"
          ],
          "name": "stderr"
        }
      ]
    },
    {
      "cell_type": "markdown",
      "metadata": {
        "id": "F1S2zE1VFj2t"
      },
      "source": [
        "# Wnioski"
      ]
    },
    {
      "cell_type": "markdown",
      "metadata": {
        "id": "-fmZvKF5FrpT"
      },
      "source": [
        "**TODO**\n",
        "Stosowanie danych surowych do trenowania modelu powoduje nadmiarowe zużycie pamięci, przez co czas trenowania i predykcji jest wielokrotnie większy w porównaniu z użyciem danych poprzednie \n",
        "\n"
      ]
    },
    {
      "cell_type": "markdown",
      "metadata": {
        "id": "QKkcRllnsus3"
      },
      "source": [
        "# Model Neural Network"
      ]
    },
    {
      "cell_type": "markdown",
      "metadata": {
        "id": "xkVBfwGWsyTH"
      },
      "source": [
        "## Stworzenie modelu"
      ]
    },
    {
      "cell_type": "code",
      "metadata": {
        "colab": {
          "background_save": true
        },
        "id": "4BmECZ0Us5FQ"
      },
      "source": [
        "network_deskewed = create_model()\n",
        "network_non_deskewed = create_model()\n",
        "network_raw_deskewed = create_model()\n",
        "network_shuffle = create_model()"
      ],
      "execution_count": null,
      "outputs": []
    },
    {
      "cell_type": "markdown",
      "metadata": {
        "id": "5DPd6g0etJi1"
      },
      "source": []
    },
    {
      "cell_type": "code",
      "metadata": {
        "colab": {
          "background_save": true
        },
        "id": "aDYCCmlqtJ2Z"
      },
      "source": [
        "nn_train_deskewed = np.array(hogdata_train_deskewed).reshape((60000, 81))\n",
        "nn_train_deskewed = nn_train_deskewed.astype('float32') / 255\n",
        "\n",
        "nn_test_deskewed = np.array(hogdata_test_deskewed).reshape((10000, 81))\n",
        "nn_test_deskewed = nn_test_deskewed.astype('float32') / 255\n",
        "\n",
        "nn_train_non_deskewed = np.array(hogdata_train).reshape((60000, 81))\n",
        "nn_train_non_deskewed = nn_train_non_deskewed.astype('float32') / 255\n",
        "\n",
        "nn_test_non_deskewed = np.array(hogdata_test).reshape((10000, 81))\n",
        "nn_test_non_deskewed = nn_test_non_deskewed.astype('float32') / 255\n",
        "\n",
        "nn_train_raw_deskewed = np.array(train_deskewed).reshape((60000, 28*28))\n",
        "nn_train_raw_deskewed = nn_train_raw_deskewed.astype('float32') / 255\n",
        "\n",
        "nn_test_raw_deskewed = np.array(test_deskewed).reshape((10000, 28*28))\n",
        "nn_test_raw_deskewed = nn_test_raw_deskewed.astype('float32') / 255\n",
        "\n",
        "nn_train_shuffle = np.array(train_shuffle).reshape((60000, 28*28))\n",
        "nn_train_shuffle = nn_train_shuffle.astype('float32') / 255\n",
        "\n",
        "nn_test_shuffle = np.array(test_shuffle).reshape((10000, 28*28))\n",
        "nn_test_shuffle = nn_test_shuffle.astype('float32') / 255"
      ],
      "execution_count": null,
      "outputs": []
    },
    {
      "cell_type": "code",
      "metadata": {
        "colab": {
          "background_save": true
        },
        "id": "tY-liRIEtOp-"
      },
      "source": [
        "encoded_train_labels = to_categorical(train_labels)\n",
        "encoded_test_labels = to_categorical(test_labels)"
      ],
      "execution_count": null,
      "outputs": []
    },
    {
      "cell_type": "markdown",
      "metadata": {
        "id": "mJro_hRWtVxZ"
      },
      "source": [
        "## Walidacja krzyżowa"
      ]
    },
    {
      "cell_type": "markdown",
      "metadata": {
        "id": "dDS23CnbtXxy"
      },
      "source": [
        "Dane wyrównane"
      ]
    },
    {
      "cell_type": "code",
      "metadata": {
        "colab": {
          "background_save": true
        },
        "id": "GyAypMjdtZeJ",
        "outputId": "e382d8bd-7177-475b-dddd-602e89192e6b"
      },
      "source": [
        "model_deskewed = NeuralNetworkGridSrearch(nn_train_deskewed, encoded_train_labels)"
      ],
      "execution_count": null,
      "outputs": [
        {
          "output_type": "stream",
          "text": [
            "/usr/local/lib/python3.7/dist-packages/joblib/externals/loky/process_executor.py:691: UserWarning: A worker stopped while some jobs were given to the executor. This can be caused by a too short worker timeout or by a memory leak.\n",
            "  \"timeout or by a memory leak.\", UserWarning\n"
          ],
          "name": "stderr"
        },
        {
          "output_type": "stream",
          "text": [
            "Best hiperparameters:  {'batch_size': 30, 'epochs': 15}\n"
          ],
          "name": "stdout"
        }
      ]
    },
    {
      "cell_type": "markdown",
      "metadata": {
        "id": "I9BpoWrQtaI0"
      },
      "source": [
        "Dane niewyrównane"
      ]
    },
    {
      "cell_type": "code",
      "metadata": {
        "colab": {
          "background_save": true
        },
        "id": "vhGOLMW0tcRi",
        "outputId": "eba963cf-516a-4abf-a455-5a04219532fa"
      },
      "source": [
        "model_non_deskewed = NeuralNetworkGridSrearch(nn_train_non_deskewed, encoded_train_labels)"
      ],
      "execution_count": null,
      "outputs": [
        {
          "output_type": "stream",
          "text": [
            "Best hiperparameters:  {'batch_size': 30, 'epochs': 15}\n"
          ],
          "name": "stdout"
        }
      ]
    },
    {
      "cell_type": "markdown",
      "metadata": {
        "id": "6MEBZcQFtcfJ"
      },
      "source": [
        "Dane surowe"
      ]
    },
    {
      "cell_type": "code",
      "metadata": {
        "colab": {
          "background_save": true
        },
        "id": "c2SOsz5ftdf5",
        "outputId": "04776fac-c5db-45f0-f60b-cdf8768401ec"
      },
      "source": [
        "model_raw_deskewed = NeuralNetworkGridSrearch(nn_train_raw_deskewed, encoded_train_labels)"
      ],
      "execution_count": null,
      "outputs": [
        {
          "output_type": "stream",
          "text": [
            "Best hiperparameters:  {'batch_size': 30, 'epochs': 5}\n"
          ],
          "name": "stdout"
        }
      ]
    },
    {
      "cell_type": "markdown",
      "metadata": {
        "id": "TmTbC6fMtdvx"
      },
      "source": [
        "Zmieszane dane surowe"
      ]
    },
    {
      "cell_type": "code",
      "metadata": {
        "colab": {
          "background_save": true
        },
        "id": "ZcTLpnM5tfdm"
      },
      "source": [
        "model_shuffle = NeuralNetworkGridSrearch(nn_train_shuffle, encoded_train_labels)"
      ],
      "execution_count": null,
      "outputs": []
    },
    {
      "cell_type": "markdown",
      "metadata": {
        "id": "4b-3lpguuQ7W"
      },
      "source": [
        "## Trenowanie modelu"
      ]
    },
    {
      "cell_type": "markdown",
      "metadata": {
        "id": "TgZLgn_7uqHx"
      },
      "source": [
        "Dane wyrównane"
      ]
    },
    {
      "cell_type": "code",
      "metadata": {
        "colab": {
          "background_save": true
        },
        "id": "VpKznUcvuT32",
        "outputId": "7fed1f28-a92f-4fd5-88a4-d5c05b6627db"
      },
      "source": [
        "network_deskewed.fit(nn_train_deskewed, encoded_train_labels, epochs=model_deskewed.get('epochs'), batch_size=model_deskewed.get('batch_size'))"
      ],
      "execution_count": null,
      "outputs": [
        {
          "output_type": "stream",
          "text": [
            "Epoch 1/15\n",
            "2000/2000 [==============================] - 3s 1ms/step - loss: 2.0606 - accuracy: 0.3341\n",
            "Epoch 2/15\n",
            "2000/2000 [==============================] - 3s 1ms/step - loss: 1.0054 - accuracy: 0.7758\n",
            "Epoch 3/15\n",
            "2000/2000 [==============================] - 3s 1ms/step - loss: 0.5596 - accuracy: 0.8573\n",
            "Epoch 4/15\n",
            "2000/2000 [==============================] - 3s 1ms/step - loss: 0.3998 - accuracy: 0.8887\n",
            "Epoch 5/15\n",
            "2000/2000 [==============================] - 3s 1ms/step - loss: 0.3159 - accuracy: 0.9114\n",
            "Epoch 6/15\n",
            "2000/2000 [==============================] - 3s 1ms/step - loss: 0.2658 - accuracy: 0.9232\n",
            "Epoch 7/15\n",
            "2000/2000 [==============================] - 3s 1ms/step - loss: 0.2320 - accuracy: 0.9304\n",
            "Epoch 8/15\n",
            "2000/2000 [==============================] - 3s 1ms/step - loss: 0.2052 - accuracy: 0.9393\n",
            "Epoch 9/15\n",
            "2000/2000 [==============================] - 3s 1ms/step - loss: 0.1903 - accuracy: 0.9440\n",
            "Epoch 10/15\n",
            "2000/2000 [==============================] - 3s 1ms/step - loss: 0.1805 - accuracy: 0.9442\n",
            "Epoch 11/15\n",
            "2000/2000 [==============================] - 3s 1ms/step - loss: 0.1698 - accuracy: 0.9475\n",
            "Epoch 12/15\n",
            "2000/2000 [==============================] - 3s 1ms/step - loss: 0.1631 - accuracy: 0.9502\n",
            "Epoch 13/15\n",
            "2000/2000 [==============================] - 3s 1ms/step - loss: 0.1594 - accuracy: 0.9506\n",
            "Epoch 14/15\n",
            "2000/2000 [==============================] - 3s 1ms/step - loss: 0.1485 - accuracy: 0.9541\n",
            "Epoch 15/15\n",
            "2000/2000 [==============================] - 3s 1ms/step - loss: 0.1487 - accuracy: 0.9535\n"
          ],
          "name": "stdout"
        },
        {
          "output_type": "execute_result",
          "data": {
            "text/plain": [
              "<tensorflow.python.keras.callbacks.History at 0x7f0c590817d0>"
            ]
          },
          "metadata": {
            "tags": []
          },
          "execution_count": 0
        }
      ]
    },
    {
      "cell_type": "markdown",
      "metadata": {
        "id": "y1-noZQ2utGV"
      },
      "source": [
        "Dane niewyrównane"
      ]
    },
    {
      "cell_type": "code",
      "metadata": {
        "colab": {
          "background_save": true
        },
        "id": "vhYOR1UbulAR",
        "outputId": "4962e894-ae06-4277-d87b-628a58525db6"
      },
      "source": [
        "network_non_deskewed.fit(nn_train_non_deskewed, encoded_train_labels, epochs=model_non_deskewed.get('epochs'), batch_size=model_non_deskewed.get('batch_size'))"
      ],
      "execution_count": null,
      "outputs": [
        {
          "output_type": "stream",
          "text": [
            "Epoch 1/15\n",
            "2000/2000 [==============================] - 3s 1ms/step - loss: 2.1051 - accuracy: 0.3088\n",
            "Epoch 2/15\n",
            "2000/2000 [==============================] - 3s 1ms/step - loss: 1.1345 - accuracy: 0.7191\n",
            "Epoch 3/15\n",
            "2000/2000 [==============================] - 3s 1ms/step - loss: 0.6986 - accuracy: 0.8093\n",
            "Epoch 4/15\n",
            "2000/2000 [==============================] - 3s 1ms/step - loss: 0.5242 - accuracy: 0.8497\n",
            "Epoch 5/15\n",
            "2000/2000 [==============================] - 3s 1ms/step - loss: 0.4246 - accuracy: 0.8774\n",
            "Epoch 6/15\n",
            "2000/2000 [==============================] - 3s 1ms/step - loss: 0.3603 - accuracy: 0.8959\n",
            "Epoch 7/15\n",
            "2000/2000 [==============================] - 3s 1ms/step - loss: 0.3232 - accuracy: 0.9038\n",
            "Epoch 8/15\n",
            "2000/2000 [==============================] - 3s 1ms/step - loss: 0.2956 - accuracy: 0.9093\n",
            "Epoch 9/15\n",
            "2000/2000 [==============================] - 3s 1ms/step - loss: 0.2726 - accuracy: 0.9167\n",
            "Epoch 10/15\n",
            "2000/2000 [==============================] - 3s 1ms/step - loss: 0.2555 - accuracy: 0.9235\n",
            "Epoch 11/15\n",
            "2000/2000 [==============================] - 3s 1ms/step - loss: 0.2439 - accuracy: 0.9262\n",
            "Epoch 12/15\n",
            "2000/2000 [==============================] - 3s 1ms/step - loss: 0.2358 - accuracy: 0.9287\n",
            "Epoch 13/15\n",
            "2000/2000 [==============================] - 3s 1ms/step - loss: 0.2289 - accuracy: 0.9290\n",
            "Epoch 14/15\n",
            "2000/2000 [==============================] - 3s 1ms/step - loss: 0.2187 - accuracy: 0.9338\n",
            "Epoch 15/15\n",
            "2000/2000 [==============================] - 3s 1ms/step - loss: 0.2145 - accuracy: 0.9338\n"
          ],
          "name": "stdout"
        },
        {
          "output_type": "execute_result",
          "data": {
            "text/plain": [
              "<tensorflow.python.keras.callbacks.History at 0x7f0c5fbc5c90>"
            ]
          },
          "metadata": {
            "tags": []
          },
          "execution_count": 0
        }
      ]
    },
    {
      "cell_type": "markdown",
      "metadata": {
        "id": "TqM1vg1Ouvb-"
      },
      "source": [
        "Dane surowe"
      ]
    },
    {
      "cell_type": "code",
      "metadata": {
        "colab": {
          "background_save": true
        },
        "id": "Ew3wGPn-uwby",
        "outputId": "c5849379-2265-4968-b39b-10d741d38779"
      },
      "source": [
        "network_raw_deskewed.fit(nn_train_raw_deskewed, encoded_train_labels, epochs=model_raw_deskewed.get('epochs'), batch_size=model_raw_deskewed.get('batch_size'))"
      ],
      "execution_count": null,
      "outputs": [
        {
          "output_type": "stream",
          "text": [
            "Epoch 1/5\n",
            "2000/2000 [==============================] - 3s 1ms/step - loss: 0.1440 - accuracy: 0.9549\n",
            "Epoch 2/5\n",
            "2000/2000 [==============================] - 3s 1ms/step - loss: 0.1409 - accuracy: 0.9558\n",
            "Epoch 3/5\n",
            "2000/2000 [==============================] - 3s 1ms/step - loss: 0.1380 - accuracy: 0.9565\n",
            "Epoch 4/5\n",
            "2000/2000 [==============================] - 3s 1ms/step - loss: 0.1353 - accuracy: 0.9577\n",
            "Epoch 5/5\n",
            "2000/2000 [==============================] - 3s 1ms/step - loss: 0.1329 - accuracy: 0.9583\n"
          ],
          "name": "stdout"
        },
        {
          "output_type": "execute_result",
          "data": {
            "text/plain": [
              "<tensorflow.python.keras.callbacks.History at 0x7f0c57c56b50>"
            ]
          },
          "metadata": {
            "tags": []
          },
          "execution_count": 0
        }
      ]
    },
    {
      "cell_type": "markdown",
      "metadata": {
        "id": "-sEYabN_uwpJ"
      },
      "source": [
        "Zmieszane dane surowe"
      ]
    },
    {
      "cell_type": "code",
      "metadata": {
        "colab": {
          "background_save": true
        },
        "id": "14NMz82Vuyu7"
      },
      "source": [
        "network_shuffle.fit(nn_train_shuffle,encoded_train_labels, epochs=model_shuffle.get('epochs'), batch_size=model_shuffle.get('batch_size'))"
      ],
      "execution_count": null,
      "outputs": []
    },
    {
      "cell_type": "code",
      "metadata": {
        "colab": {
          "background_save": true
        },
        "id": "nz858Id0vAB1"
      },
      "source": [
        "pred_probabilities_deskewed = network_deskewed.predict(nn_test_deskewed)\n",
        "pred_probabilities_non_deskewed = network_non_deskewed.predict(nn_test_non_deskewed)\n",
        "pred_probabilities_raw_deskewed = network_raw_deskewed.predict(nn_test_raw_deskewed)\n",
        "pred_probabilities_shuffle = network_shuffle.predict(nn_test_shuffle)\n",
        "\n",
        "pred_labels_deskewed = np.argmax(pred_probabilities_deskewed,-1)\n",
        "pred_labels_non_deskewed = np.argmax(pred_probabilities_non_deskewed,-1)\n",
        "pred_labels_raw_deskewed = np.argmax(pred_probabilities_raw_deskewed,-1)\n",
        "pred_labels_shuffle = np.argmax(pred_probabilities_shuffle,-1)"
      ],
      "execution_count": null,
      "outputs": []
    },
    {
      "cell_type": "markdown",
      "metadata": {
        "id": "KrKDbJKNvcTG"
      },
      "source": [
        "Accuracy"
      ]
    },
    {
      "cell_type": "code",
      "metadata": {
        "colab": {
          "background_save": true
        },
        "id": "ZhXq5UTXvdaL",
        "outputId": "e661b06e-a11e-4fb3-d050-39ea5cf98c85"
      },
      "source": [
        "getAccuracy(test_labels, pred_labels_deskewed,pred_labels_non_deskewed,pred_labels_raw_deskewed,pred_labels_shuffle)"
      ],
      "execution_count": null,
      "outputs": [
        {
          "output_type": "stream",
          "text": [
            "Accuracy - dane wyrównane: 0.9597\n",
            "Accuracy - dane niewyrównane: 0.9425\n",
            "Accuracy - dane surowe: 0.1135\n",
            "Accuracy - dane zmieszane: \n"
          ],
          "name": "stdout"
        }
      ]
    },
    {
      "cell_type": "markdown",
      "metadata": {
        "id": "IK_t98wJvkc-"
      },
      "source": [
        "Macierz pomyłek"
      ]
    },
    {
      "cell_type": "code",
      "metadata": {
        "colab": {
          "background_save": true
        },
        "id": "6l9yolqnvmoT",
        "outputId": "a5ac539f-619c-4288-a477-d490488dadaf"
      },
      "source": [
        "getConfMatrix(test_labels, pred_labels_deskewed,pred_labels_non_deskewed,pred_labels_raw_deskewed,pred_labels_shuffle)"
      ],
      "execution_count": null,
      "outputs": [
        {
          "output_type": "stream",
          "text": [
            "Macierz pomyłek - dane wyrównane:\n",
            "[[ 961    0    3    0    1    3    5    1    2    4]\n",
            " [   3 1117    2    1    3    0    3    4    1    1]\n",
            " [   0    2  990   14    0    0    1   18    7    0]\n",
            " [   0    0    7  986    0    8    0    7    2    0]\n",
            " [   2    1    3    0  953    1   10    1    2    9]\n",
            " [   5    0    1    5    0  873    2    1    3    2]\n",
            " [   7    3    1    0    6    4  933    0    4    0]\n",
            " [   3    4   41   32    0    1    0  934    3   10]\n",
            " [   1    0    3   17   10    5    1    3  920   14]\n",
            " [   9    1    4    4    7   16    4   13   21  930]]\n",
            "Macierz pomyłek - dane niewyrównane:\n",
            "[[ 933    3    6    0    6    7   15    3    5    2]\n",
            " [   0 1123    2    1    5    0    2    0    2    0]\n",
            " [   2    4  972    8    1    1    0   31   11    2]\n",
            " [   0    0   16  968    0    9    0   10    6    1]\n",
            " [   3    3    1    0  951    1   13    0    3    7]\n",
            " [   3    1    2    8    2  825    2    2   39    8]\n",
            " [  12    3    1    0   17    6  912    0    6    1]\n",
            " [   4    5   60   20    1    1    0  922    6    9]\n",
            " [   2    1   10    8    7   10    5    7  904   20]\n",
            " [  17    1    0    3    7   16    1   15   34  915]]\n",
            "Macierz pomyłek - dane surowe:\n",
            "Macierz pomyłek - dane zmieszane:\n"
          ],
          "name": "stdout"
        }
      ]
    },
    {
      "cell_type": "markdown",
      "metadata": {
        "id": "O5NoLy8fvxVK"
      },
      "source": [
        "Raporty"
      ]
    },
    {
      "cell_type": "code",
      "metadata": {
        "colab": {
          "background_save": true
        },
        "id": "lmorDn0-vyXW",
        "outputId": "639f746c-c3c5-44d5-c3fa-143225acdf11"
      },
      "source": [
        "getReports(test_labels, pred_labels_deskewed,pred_labels_non_deskewed,pred_labels_raw_deskewed,pred_labels_shuffle)"
      ],
      "execution_count": null,
      "outputs": [
        {
          "output_type": "stream",
          "text": [
            "Raport - dane wyrównane:\n",
            "              precision    recall  f1-score   support\n",
            "\n",
            "           0       0.97      0.98      0.98       980\n",
            "           1       0.99      0.98      0.99      1135\n",
            "           2       0.94      0.96      0.95      1032\n",
            "           3       0.93      0.98      0.95      1010\n",
            "           4       0.97      0.97      0.97       982\n",
            "           5       0.96      0.98      0.97       892\n",
            "           6       0.97      0.97      0.97       958\n",
            "           7       0.95      0.91      0.93      1028\n",
            "           8       0.95      0.94      0.95       974\n",
            "           9       0.96      0.92      0.94      1009\n",
            "\n",
            "    accuracy                           0.96     10000\n",
            "   macro avg       0.96      0.96      0.96     10000\n",
            "weighted avg       0.96      0.96      0.96     10000\n",
            "\n",
            "Raport - dane niewyrównane:\n",
            "              precision    recall  f1-score   support\n",
            "\n",
            "           0       0.96      0.95      0.95       980\n",
            "           1       0.98      0.99      0.99      1135\n",
            "           2       0.91      0.94      0.92      1032\n",
            "           3       0.95      0.96      0.96      1010\n",
            "           4       0.95      0.97      0.96       982\n",
            "           5       0.94      0.92      0.93       892\n",
            "           6       0.96      0.95      0.96       958\n",
            "           7       0.93      0.90      0.91      1028\n",
            "           8       0.89      0.93      0.91       974\n",
            "           9       0.95      0.91      0.93      1009\n",
            "\n",
            "    accuracy                           0.94     10000\n",
            "   macro avg       0.94      0.94      0.94     10000\n",
            "weighted avg       0.94      0.94      0.94     10000\n",
            "\n",
            "Raport - dane surowe:\n",
            "              precision    recall  f1-score   support\n",
            "\n",
            "           0       0.00      0.00      0.00       980\n",
            "           1       0.11      1.00      0.20      1135\n",
            "           2       0.00      0.00      0.00      1032\n",
            "           3       0.00      0.00      0.00      1010\n",
            "           4       0.00      0.00      0.00       982\n",
            "           5       0.00      0.00      0.00       892\n",
            "           6       0.00      0.00      0.00       958\n",
            "           7       0.00      0.00      0.00      1028\n",
            "           8       0.00      0.00      0.00       974\n",
            "           9       0.00      0.00      0.00      1009\n",
            "\n",
            "    accuracy                           0.11     10000\n",
            "   macro avg       0.01      0.10      0.02     10000\n",
            "weighted avg       0.01      0.11      0.02     10000\n",
            "\n",
            "Raport - dane zmieszane:\n"
          ],
          "name": "stdout"
        },
        {
          "output_type": "stream",
          "text": [
            "/usr/local/lib/python3.7/dist-packages/sklearn/metrics/_classification.py:1272: UndefinedMetricWarning: Precision and F-score are ill-defined and being set to 0.0 in labels with no predicted samples. Use `zero_division` parameter to control this behavior.\n",
            "  _warn_prf(average, modifier, msg_start, len(result))\n"
          ],
          "name": "stderr"
        }
      ]
    },
    {
      "cell_type": "markdown",
      "metadata": {
        "id": "rscuADrJFRd1"
      },
      "source": [
        "## Wnioski"
      ]
    },
    {
      "cell_type": "markdown",
      "metadata": {
        "id": "cZmJUDN1FTPf"
      },
      "source": [
        "**TODO**"
      ]
    },
    {
      "cell_type": "markdown",
      "metadata": {
        "id": "vlT8yP-6FWHi"
      },
      "source": [
        "# Podsumowanie"
      ]
    },
    {
      "cell_type": "markdown",
      "metadata": {
        "id": "7iu9mC7TFapr"
      },
      "source": [
        "**TODO**"
      ]
    }
  ]
}