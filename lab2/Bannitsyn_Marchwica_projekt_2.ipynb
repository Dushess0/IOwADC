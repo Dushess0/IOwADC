{
  "nbformat": 4,
  "nbformat_minor": 0,
  "metadata": {
    "colab": {
      "name": "actual.ipynb",
      "provenance": [],
      "collapsed_sections": [
        "2J3fLn6GURFX",
        "xARaZfAfURFX",
        "_TvEGQJ7URFY",
        "dCwnmEdoURFc",
        "jWvxPlNUURFd"
      ]
    },
    "kernelspec": {
      "display_name": "Python 3",
      "language": "python",
      "name": "python3"
    },
    "language_info": {
      "codemirror_mode": {
        "name": "ipython",
        "version": 3
      },
      "file_extension": ".py",
      "mimetype": "text/x-python",
      "name": "python",
      "nbconvert_exporter": "python",
      "pygments_lexer": "ipython3",
      "version": "3.8.5"
    }
  },
  "cells": [
    {
      "cell_type": "markdown",
      "metadata": {
        "id": "-RB81nbdUREw"
      },
      "source": [
        "Illia Bannitsyn illiabann@student.agh.edu.pl\n",
        "\n",
        "Patrycja Marchwica patmar@student.agh.edu.pl"
      ]
    },
    {
      "cell_type": "markdown",
      "metadata": {
        "id": "DwGyuKnMURFE"
      },
      "source": [
        "# Zadanie 1 \n",
        "### Przygotować swoje środowisko pracy (można korzystać z Google Colab)"
      ]
    },
    {
      "cell_type": "markdown",
      "metadata": {
        "id": "5j7LgagHURFG"
      },
      "source": [
        "# Import danych"
      ]
    },
    {
      "cell_type": "code",
      "metadata": {
        "id": "C-hQ94luURFI"
      },
      "source": [
        "import cv2\n",
        "import numpy as np\n",
        "import matplotlib.pyplot as plt\n",
        "from keras.datasets import mnist\n",
        "from sklearn import svm\n",
        "from sklearn.model_selection import GridSearchCV\n",
        "from sklearn.model_selection import StratifiedKFold\n",
        "from sklearn.metrics import classification_report, confusion_matrix, accuracy_score\n",
        "from sklearn.ensemble import RandomForestClassifier\n",
        "from keras import models\n",
        "from keras import layers\n",
        "from keras.utils import to_categorical\n",
        "from keras.wrappers.scikit_learn import KerasClassifier\n",
        "import tensorflow as tf\n",
        "from tensorflow.compat.v1.keras import backend as K\n",
        "\n",
        "\n",
        "#config = tf.compat.v1.ConfigProto( device_count = {'GPU': 1 , 'CPU': 48} , log_device_placement=True )\n",
        "#sess = tf.compat.v1.Session(config=config) \n",
        "#K.set_session(sess)\n",
        "(train_images, train_labels), (test_images, test_labels) = mnist.load_data()"
      ],
      "execution_count": 1,
      "outputs": []
    },
    {
      "cell_type": "markdown",
      "metadata": {
        "id": "H_3ra5_gURFK"
      },
      "source": [
        "## Funkcje"
      ]
    },
    {
      "cell_type": "markdown",
      "metadata": {
        "id": "W0vsdX8SURFL"
      },
      "source": [
        "### Deskew"
      ]
    },
    {
      "cell_type": "code",
      "metadata": {
        "id": "NPnMVEAdURFM"
      },
      "source": [
        "SZ=28\n",
        "affine_flags = cv2.WARP_INVERSE_MAP|cv2.INTER_LINEAR\n",
        "\n",
        "def deskew(img):\n",
        "    m = cv2.moments(img)\n",
        "    if abs(m['mu02']) < 1e-2:\n",
        "        return img.copy()\n",
        "    skew = m['mu11']/m['mu02']\n",
        "    M = np.float32([[1, skew, -0.5*SZ*skew], [0, 1, 0]])\n",
        "    img = cv2.warpAffine(img,M,(SZ, SZ),flags=affine_flags)\n",
        "    return img"
      ],
      "execution_count": 2,
      "outputs": []
    },
    {
      "cell_type": "markdown",
      "metadata": {
        "id": "5iD1VUKgURFN"
      },
      "source": [
        "### HOG (Histogram of Oriented Gradients)"
      ]
    },
    {
      "cell_type": "code",
      "metadata": {
        "id": "_YyqgRWSURFO"
      },
      "source": [
        "def HOG(im):\n",
        "    winSize = (20,20)\n",
        "    blockSize = (10,10)\n",
        "    blockStride = (5,5)\n",
        "    cellSize = (10,10)\n",
        "    nbins = 9\n",
        "    derivAperture = 1\n",
        "    winSigma = -1.\n",
        "    histogramNormType = 0\n",
        "    L2HysThreshold = 0.2\n",
        "    gammaCorrection = 1\n",
        "    nlevels = 64\n",
        "    signedGradients = True\n",
        "\n",
        "    hog = cv2.HOGDescriptor(winSize,blockSize,blockStride,cellSize,nbins,derivAperture,winSigma,histogramNormType,L2HysThreshold,gammaCorrection,nlevels, signedGradients)\n",
        "    descriptor = np.ravel(hog.compute(im))\n",
        "    \n",
        "    return descriptor"
      ],
      "execution_count": 3,
      "outputs": []
    },
    {
      "cell_type": "markdown",
      "metadata": {
        "id": "PhbvfyOQURFP"
      },
      "source": [
        "### Tworzenie modelu dla sieci"
      ]
    },
    {
      "cell_type": "code",
      "metadata": {
        "id": "1as0QybKURFQ"
      },
      "source": [
        "def create_model():\n",
        "  model = models.Sequential()\n",
        "  model.add(layers.Dense(512, activation='relu'))\n",
        "  model.add(layers.Dense(10, activation='softmax'))\n",
        "  model.compile(optimizer='rmsprop',\n",
        "                loss='categorical_crossentropy',\n",
        "                metrics=['accuracy'])\n",
        "  return model"
      ],
      "execution_count": 4,
      "outputs": []
    },
    {
      "cell_type": "markdown",
      "metadata": {
        "id": "beKNqF-tURFQ"
      },
      "source": [
        "### Grid Search - Walidacja krzyżowa"
      ]
    },
    {
      "cell_type": "code",
      "metadata": {
        "id": "zGxxqpNyURFR"
      },
      "source": [
        "def SVMGridSearch(train_data, train_labels):\n",
        "  parameters = {'kernel':('linear', 'rbf'), 'C': np.linspace(start = 0.001, stop = 2, num = 50)}\n",
        "  svc = svm.SVC()\n",
        "  clf = GridSearchCV(svc, parameters, scoring='accuracy', cv=StratifiedKFold())\n",
        "  clf.fit(train_data, train_labels)\n",
        "  best_params = clf.best_params_\n",
        "  my_svc = clf.best_estimator_\n",
        "  \n",
        "  print(\"Best hiperparameters: \", best_params)\n",
        "  \n",
        "  return my_svc"
      ],
      "execution_count": 5,
      "outputs": []
    },
    {
      "cell_type": "code",
      "metadata": {
        "id": "uVQpuF8wURFR"
      },
      "source": [
        "def RandomForestGridSearch(train_data, train_labels):\n",
        "  parameters = {\n",
        "    'max_depth': [5, 8, 15, 25, 30],\n",
        "    'min_samples_leaf': [1, 2, 5, 10],\n",
        "    'min_samples_split': [2, 5, 10, 15, 100],\n",
        "    'n_estimators': [20, 30, 50, 70, 100]\n",
        "  }\n",
        "\n",
        "  rf = RandomForestClassifier()\n",
        "  clf = GridSearchCV(estimator = rf, param_grid = parameters, cv = 3, n_jobs = -1, verbose = 1)\n",
        "  clf.fit(train_data, train_labels)\n",
        "  best_params = clf.best_params_\n",
        "  my_rf = clf.best_estimator_\n",
        "  \n",
        "  print(\"Best hiperparameters: \", best_params)\n",
        "\n",
        "  return my_rf"
      ],
      "execution_count": 6,
      "outputs": []
    },
    {
      "cell_type": "code",
      "metadata": {
        "id": "5T5WK1UwURFS"
      },
      "source": [
        "def NeuralNetworkGridSrearch(train_data, train_labels):\n",
        "  parameters = {\n",
        "      'batch_size': [30, 50, 100],\n",
        "      'epochs': [5, 10, 15]\n",
        "      }\n",
        "  kc = KerasClassifier(build_fn=create_model, verbose=0)\n",
        "  clf = GridSearchCV(estimator=kc, param_grid=parameters, n_jobs=-1, cv=3)\n",
        "  clf.fit(train_data, train_labels)\n",
        "  best_params = clf.best_params_\n",
        "\n",
        "  print(\"Best hiperparameters: \", best_params)\n",
        "\n",
        "  return best_params"
      ],
      "execution_count": 7,
      "outputs": []
    },
    {
      "cell_type": "markdown",
      "metadata": {
        "id": "7vaMkT0ZURFS"
      },
      "source": [
        "### Macierz pomyłek i raporty"
      ]
    },
    {
      "cell_type": "code",
      "metadata": {
        "id": "mYo3m3IGURFT"
      },
      "source": [
        "def getConfMatrix(test_labels, pred_labels_deskewed, pred_labels_non_deskewed,pred_labels_raw_deskewed,pred_labels_shuffle):\n",
        "  cm_deskewed = confusion_matrix(test_labels, pred_labels_deskewed)\n",
        "  cm_non_deskewed = confusion_matrix(test_labels, pred_labels_non_deskewed)\n",
        "  cm_raw_deskewed = confusion_matrix(test_labels, pred_labels_raw_deskewed)\n",
        "  cm_shuffle = confusion_matrix(test_labels, pred_labels_shuffle)\n",
        "\n",
        "\n",
        "  print(\"Macierz pomyłek - dane wyrównane:\")\n",
        "  print(cm_deskewed)\n",
        "  print(\"Macierz pomyłek - dane niewyrównane:\")\n",
        "  print(cm_non_deskewed)\n",
        "  print(\"Macierz pomyłek - dane surowe:\")\n",
        "  print(cm_raw_deskewed)\n",
        "  print(\"Macierz pomyłek - dane zmieszane:\")\n",
        "  print(cm_shuffle)"
      ],
      "execution_count": 8,
      "outputs": []
    },
    {
      "cell_type": "code",
      "metadata": {
        "id": "wOB9mVjVURFT"
      },
      "source": [
        "def getReports(test_labels, pred_labels_deskewed, pred_labels_non_deskewed,pred_labels_raw_deskewed,pred_labels_shuffle):\n",
        "  print(\"Raport - dane wyrównane:\")\n",
        "  print(classification_report(test_labels, pred_labels_deskewed))\n",
        "  print(\"Raport - dane niewyrównane:\")\n",
        "  print(classification_report(test_labels, pred_labels_non_deskewed))\n",
        "  print(\"Raport - dane surowe:\")\n",
        "  print(classification_report(test_labels, pred_labels_raw_deskewed))\n",
        "  print(\"Raport - dane zmieszane:\")\n",
        "  print(classification_report(test_labels, pred_labels_shuffle))"
      ],
      "execution_count": 9,
      "outputs": []
    },
    {
      "cell_type": "code",
      "metadata": {
        "id": "04neQzAAURFU"
      },
      "source": [
        "def getAccuracy(test_labels, pred_labels_deskewed, pred_labels_non_deskewed,pred_labels_raw_deskewed,pred_labels_shuffle):\n",
        "  print(\"Accuracy - dane wyrównane: \" + str(accuracy_score(test_labels, pred_labels_deskewed)))\n",
        "  print(\"Accuracy - dane niewyrównane: \" + str(accuracy_score(test_labels, pred_labels_non_deskewed)))\n",
        "  print(\"Accuracy - dane surowe: \" + str(accuracy_score(test_labels, pred_labels_raw_deskewed)))\n",
        "  print(\"Accuracy - dane zmieszane: \" + str(accuracy_score(test_labels, pred_labels_shuffle)))"
      ],
      "execution_count": 10,
      "outputs": []
    },
    {
      "cell_type": "code",
      "metadata": {
        "id": "KDsQug04yrIa"
      },
      "source": [
        "def single_result(test_labels,pred_labels,dane):\n",
        "  cm = confusion_matrix(test_labels, pred_labels)\n",
        "  print(\"Macierz pomyłek - \"+dane+\":\")\n",
        "  print(cm)\n",
        "  print(\"Raport - \"+dane+\":\")\n",
        "  print(classification_report(test_labels, pred_labels))\n",
        "  print(\"Accuracy -  \"+dane+\":\" + str(accuracy_score(test_labels, pred_labels)))\n"
      ],
      "execution_count": 11,
      "outputs": []
    },
    {
      "cell_type": "markdown",
      "metadata": {
        "id": "qAgFOLUtURFV"
      },
      "source": [
        "## Preprocessing danych"
      ]
    },
    {
      "cell_type": "markdown",
      "metadata": {
        "id": "SoBNVvwzURFV"
      },
      "source": [
        "### Surowe dane"
      ]
    },
    {
      "cell_type": "code",
      "metadata": {
        "id": "2Keo5W7MURFV"
      },
      "source": [
        "train_raw = train_images.reshape(len(train_images), 28 * 28)\n",
        "test_raw = test_images.reshape(len(test_images), 28 * 28)"
      ],
      "execution_count": 12,
      "outputs": []
    },
    {
      "cell_type": "markdown",
      "metadata": {
        "id": "HgPWLfqRURFW"
      },
      "source": [
        "###  Dane poddane wyrównaniu"
      ]
    },
    {
      "cell_type": "code",
      "metadata": {
        "id": "kok65xNlURFW"
      },
      "source": [
        "train_deskewed = np.float32([deskew(im) for im in train_raw])\n",
        "test_deskewed = np.float32([deskew(im) for im in test_raw])\n",
        "\n",
        "train_deskewed = np.asarray(train_deskewed).reshape(-1,28*28)\n",
        "test_deskewed = np.asarray(test_deskewed).reshape(-1,28*28)"
      ],
      "execution_count": 13,
      "outputs": []
    },
    {
      "cell_type": "code",
      "metadata": {
        "id": "qLWvvI8NURFW"
      },
      "source": [
        "hogdata_train = np.float32([HOG(im) for im in train_images]).reshape(-1,81)\n",
        "hogdata_test = np.float32([HOG(im) for im in test_images]).reshape(-1,81)\n",
        "\n",
        "hogdata_train_deskewed = np.float32([HOG(deskew(im)) for im in train_images]).reshape(-1,81)\n",
        "hogdata_test_deskewed = np.float32([HOG(deskew(im)) for im in test_images]).reshape(-1,81)"
      ],
      "execution_count": 14,
      "outputs": []
    },
    {
      "cell_type": "markdown",
      "metadata": {
        "id": "2J3fLn6GURFX"
      },
      "source": [
        "### Zmieszane dane surowe"
      ]
    },
    {
      "cell_type": "code",
      "metadata": {
        "id": "koz657YUURFX"
      },
      "source": [
        "\n",
        "train_shuffle = train_images.copy()\n",
        "train_shuffle = np.float32([deskew(im) for im in train_shuffle])\n",
        "np.float32([np.random.shuffle(im) for im in train_shuffle])\n",
        "train_shuffle = np.asarray(train_shuffle).reshape(-1,28*28)\n",
        "\n",
        "test_shuffle = test_images.copy()\n",
        "test_shuffle = np.float32([deskew(im) for im in test_shuffle])\n",
        "np.float32([np.random.shuffle(im) for im in test_shuffle])\n",
        "test_shuffle = np.asarray(test_shuffle).reshape(-1,28*28)"
      ],
      "execution_count": 15,
      "outputs": []
    },
    {
      "cell_type": "markdown",
      "metadata": {
        "id": "xARaZfAfURFX"
      },
      "source": [
        "### Dane dla uczenia sieci"
      ]
    },
    {
      "cell_type": "code",
      "metadata": {
        "id": "04qeIF_-URFY"
      },
      "source": [
        "nn_train_deskewed = np.array(hogdata_train_deskewed).reshape((60000, 81))\n",
        "nn_train_deskewed = nn_train_deskewed.astype('float32') / 255\n",
        "\n",
        "nn_test_deskewed = np.array(hogdata_test_deskewed).reshape((10000, 81))\n",
        "nn_test_deskewed = nn_test_deskewed.astype('float32') / 255\n",
        "\n",
        "nn_train_non_deskewed = np.array(hogdata_train).reshape((60000, 81))\n",
        "nn_train_non_deskewed = nn_train_non_deskewed.astype('float32') / 255\n",
        "\n",
        "nn_test_non_deskewed = np.array(hogdata_test).reshape((10000, 81))\n",
        "nn_test_non_deskewed = nn_test_non_deskewed.astype('float32') / 255\n",
        "\n",
        "nn_train_raw_deskewed = np.array(train_deskewed).reshape((60000, 28*28))\n",
        "nn_train_raw_deskewed = nn_train_raw_deskewed.astype('float32') / 255\n",
        "\n",
        "nn_test_raw_deskewed = np.array(test_deskewed).reshape((10000, 28*28))\n",
        "nn_test_raw_deskewed = nn_test_raw_deskewed.astype('float32') / 255\n",
        "\n",
        "nn_train_shuffle = np.array(train_shuffle).reshape((60000, 28*28))\n",
        "nn_train_shuffle = nn_train_shuffle.astype('float32') / 255\n",
        "\n",
        "nn_test_shuffle = np.array(test_shuffle).reshape((10000, 28*28))\n",
        "nn_test_shuffle = nn_test_shuffle.astype('float32') / 255\n",
        "\n",
        "encoded_train_labels = to_categorical(train_labels)\n",
        "encoded_test_labels = to_categorical(test_labels)"
      ],
      "execution_count": 16,
      "outputs": []
    },
    {
      "cell_type": "markdown",
      "metadata": {
        "id": "_TvEGQJ7URFY"
      },
      "source": [
        "### Dane dla walidacji krzyżowej"
      ]
    },
    {
      "cell_type": "code",
      "metadata": {
        "id": "rKVCD_BPURFY"
      },
      "source": [
        "hogdata_train_short = hogdata_train[:600]\n",
        "hogdata_train_deskewed_short = hogdata_train_deskewed[:600]\n",
        "\n",
        "# Surowe dane \n",
        "rawdata_train_deskewed_short = train_deskewed[:600]\n",
        "\n",
        "# Zmieszane dane surowe \n",
        "train_shuffle_short = train_shuffle[:600]\n",
        "\n",
        "train_labels_short = train_labels[:600]"
      ],
      "execution_count": 17,
      "outputs": []
    },
    {
      "cell_type": "markdown",
      "metadata": {
        "id": "hEBv1DdkURFZ"
      },
      "source": [
        "# Zadanie 2\n",
        "### Powtórzyć trening klasycznych klasyfikatorów i sieci dla danych bez wyrównania (dst)"
      ]
    },
    {
      "cell_type": "markdown",
      "metadata": {
        "id": "ah3C2EuRURFZ"
      },
      "source": [
        "W Zadaniu 2 należy zrezygnować z zastosowania funkcji deskew do oryginalnych obrazków i porównać wyniki bez takiego preprocessingu z wynikami w notatnikach."
      ]
    },
    {
      "cell_type": "markdown",
      "metadata": {
        "id": "G6sD0z5yURFZ"
      },
      "source": [
        "### Model SVM dla danych z wyrównaniem"
      ]
    },
    {
      "cell_type": "code",
      "metadata": {
        "id": "T5vRz8saURFa",
        "colab": {
          "base_uri": "https://localhost:8080/"
        },
        "outputId": "95c90cd7-eb0f-412b-f73c-e67d473d3d47"
      },
      "source": [
        "model_deskewed_SVM = SVMGridSearch(hogdata_train_deskewed_short, train_labels_short)\n",
        "model_deskewed_SVM.fit(hogdata_train_deskewed, train_labels)\n",
        "pred_labels_deskewed_SVM = model_deskewed_SVM.predict(hogdata_test_deskewed)\n"
      ],
      "execution_count": 18,
      "outputs": [
        {
          "output_type": "stream",
          "text": [
            "Best hiperparameters:  {'C': 0.7353265306122448, 'kernel': 'linear'}\n"
          ],
          "name": "stdout"
        }
      ]
    },
    {
      "cell_type": "markdown",
      "metadata": {
        "id": "eyHAxxIKURFb"
      },
      "source": [
        "### Model Random Forest dla danych z wyrównaniem"
      ]
    },
    {
      "cell_type": "code",
      "metadata": {
        "id": "oiGLKqx9URFc",
        "colab": {
          "base_uri": "https://localhost:8080/"
        },
        "outputId": "0bb405f3-43b2-407a-cef0-191913dda059"
      },
      "source": [
        "\n",
        "model_deskewed_RF = RandomForestGridSearch(hogdata_train_deskewed_short, train_labels_short)\n",
        "model_deskewed_RF.fit(hogdata_train_deskewed, train_labels)\n",
        "pred_labels_deskewed_RF = model_deskewed_RF.predict(hogdata_test_deskewed)\n"
      ],
      "execution_count": 19,
      "outputs": [
        {
          "output_type": "stream",
          "text": [
            "Fitting 3 folds for each of 500 candidates, totalling 1500 fits\n"
          ],
          "name": "stdout"
        },
        {
          "output_type": "stream",
          "text": [
            "[Parallel(n_jobs=-1)]: Using backend LokyBackend with 2 concurrent workers.\n",
            "[Parallel(n_jobs=-1)]: Done  46 tasks      | elapsed:    6.3s\n",
            "[Parallel(n_jobs=-1)]: Done 196 tasks      | elapsed:   22.6s\n",
            "[Parallel(n_jobs=-1)]: Done 446 tasks      | elapsed:   50.8s\n",
            "[Parallel(n_jobs=-1)]: Done 796 tasks      | elapsed:  1.5min\n",
            "[Parallel(n_jobs=-1)]: Done 1246 tasks      | elapsed:  2.4min\n",
            "[Parallel(n_jobs=-1)]: Done 1500 out of 1500 | elapsed:  2.9min finished\n"
          ],
          "name": "stderr"
        },
        {
          "output_type": "stream",
          "text": [
            "Best hiperparameters:  {'max_depth': 15, 'min_samples_leaf': 2, 'min_samples_split': 2, 'n_estimators': 70}\n"
          ],
          "name": "stdout"
        }
      ]
    },
    {
      "cell_type": "markdown",
      "metadata": {
        "id": "dCwnmEdoURFc"
      },
      "source": [
        "### Model Neural Network dla danych z wyrównaniem"
      ]
    },
    {
      "cell_type": "code",
      "metadata": {
        "id": "Ig1SCBUQURFd",
        "colab": {
          "base_uri": "https://localhost:8080/"
        },
        "outputId": "960c6b2c-6585-4e55-b72c-eca703834fc0"
      },
      "source": [
        "network_deskewed = create_model()\n",
        "model_deskewed_NN = NeuralNetworkGridSrearch(nn_train_deskewed, encoded_train_labels)\n",
        "network_deskewed.fit(nn_train_deskewed, encoded_train_labels, epochs=model_deskewed_NN.get('epochs'), batch_size=model_deskewed_NN.get('batch_size'))\n",
        "pred_probabilities_deskewed_NN = network_deskewed.predict(nn_test_deskewed)\n",
        "pred_labels_deskewed_NN = np.argmax(pred_probabilities_deskewed_NN,-1)"
      ],
      "execution_count": 20,
      "outputs": [
        {
          "output_type": "stream",
          "text": [
            "/usr/local/lib/python3.7/dist-packages/joblib/externals/loky/process_executor.py:691: UserWarning: A worker stopped while some jobs were given to the executor. This can be caused by a too short worker timeout or by a memory leak.\n",
            "  \"timeout or by a memory leak.\", UserWarning\n"
          ],
          "name": "stderr"
        },
        {
          "output_type": "stream",
          "text": [
            "Best hiperparameters:  {'batch_size': 30, 'epochs': 15}\n",
            "Epoch 1/15\n",
            "2000/2000 [==============================] - 4s 2ms/step - loss: 2.0718 - accuracy: 0.3248\n",
            "Epoch 2/15\n",
            "2000/2000 [==============================] - 3s 2ms/step - loss: 1.0326 - accuracy: 0.7659\n",
            "Epoch 3/15\n",
            "2000/2000 [==============================] - 3s 2ms/step - loss: 0.5857 - accuracy: 0.8489\n",
            "Epoch 4/15\n",
            "2000/2000 [==============================] - 3s 2ms/step - loss: 0.4124 - accuracy: 0.8865\n",
            "Epoch 5/15\n",
            "2000/2000 [==============================] - 3s 2ms/step - loss: 0.3271 - accuracy: 0.9087\n",
            "Epoch 6/15\n",
            "2000/2000 [==============================] - 3s 2ms/step - loss: 0.2732 - accuracy: 0.9204\n",
            "Epoch 7/15\n",
            "2000/2000 [==============================] - 3s 2ms/step - loss: 0.2416 - accuracy: 0.9281\n",
            "Epoch 8/15\n",
            "2000/2000 [==============================] - 3s 2ms/step - loss: 0.2136 - accuracy: 0.9357\n",
            "Epoch 9/15\n",
            "2000/2000 [==============================] - 3s 2ms/step - loss: 0.1981 - accuracy: 0.9395\n",
            "Epoch 10/15\n",
            "2000/2000 [==============================] - 3s 2ms/step - loss: 0.1872 - accuracy: 0.9422\n",
            "Epoch 11/15\n",
            "2000/2000 [==============================] - 3s 2ms/step - loss: 0.1739 - accuracy: 0.9465\n",
            "Epoch 12/15\n",
            "2000/2000 [==============================] - 3s 2ms/step - loss: 0.1655 - accuracy: 0.9495\n",
            "Epoch 13/15\n",
            "2000/2000 [==============================] - 3s 2ms/step - loss: 0.1566 - accuracy: 0.9506\n",
            "Epoch 14/15\n",
            "2000/2000 [==============================] - 3s 2ms/step - loss: 0.1537 - accuracy: 0.9531\n",
            "Epoch 15/15\n",
            "2000/2000 [==============================] - 3s 2ms/step - loss: 0.1518 - accuracy: 0.9529\n"
          ],
          "name": "stdout"
        }
      ]
    },
    {
      "cell_type": "code",
      "metadata": {
        "id": "VpsHJ1WvZCcI"
      },
      "source": [
        ""
      ],
      "execution_count": 20,
      "outputs": []
    },
    {
      "cell_type": "markdown",
      "metadata": {
        "id": "jWvxPlNUURFd"
      },
      "source": [
        "###  Model SVM dla danych bez wyrównania"
      ]
    },
    {
      "cell_type": "code",
      "metadata": {
        "id": "QaVhDN3iURFd",
        "colab": {
          "base_uri": "https://localhost:8080/"
        },
        "outputId": "a08cdfaf-87a3-4646-f30a-37cc37cba7cd"
      },
      "source": [
        "model_non_deskewed_SVM = SVMGridSearch(hogdata_train_short, train_labels_short)\n",
        "model_non_deskewed_SVM.fit(hogdata_train, train_labels)\n",
        "pred_labels_non_deskewed_SVM = model_non_deskewed_SVM.predict(hogdata_test)"
      ],
      "execution_count": 21,
      "outputs": [
        {
          "output_type": "stream",
          "text": [
            "Best hiperparameters:  {'C': 0.8577142857142857, 'kernel': 'linear'}\n"
          ],
          "name": "stdout"
        }
      ]
    },
    {
      "cell_type": "markdown",
      "metadata": {
        "id": "aHUMedRPURFe"
      },
      "source": [
        "### Model RandomForest dla danych bez wyrównania"
      ]
    },
    {
      "cell_type": "code",
      "metadata": {
        "id": "2EgEEPfTURFe",
        "colab": {
          "base_uri": "https://localhost:8080/"
        },
        "outputId": "a78a822c-247d-4947-be2e-93b61b3c53e4"
      },
      "source": [
        "model_non_deskewed_RF = RandomForestGridSearch(hogdata_train_short, train_labels_short)\n",
        "model_non_deskewed_RF.fit(hogdata_train, train_labels)\n",
        "pred_labels_non_deskewed_RF = model_non_deskewed_RF.predict(hogdata_test)"
      ],
      "execution_count": null,
      "outputs": [
        {
          "output_type": "stream",
          "text": [
            "Fitting 3 folds for each of 500 candidates, totalling 1500 fits\n"
          ],
          "name": "stdout"
        },
        {
          "output_type": "stream",
          "text": [
            "[Parallel(n_jobs=-1)]: Using backend LokyBackend with 2 concurrent workers.\n",
            "[Parallel(n_jobs=-1)]: Done  88 tasks      | elapsed:    9.6s\n"
          ],
          "name": "stderr"
        }
      ]
    },
    {
      "cell_type": "markdown",
      "metadata": {
        "id": "xkREF30FURFe"
      },
      "source": [
        "### Model Neural Network dla danych bez wyrównania"
      ]
    },
    {
      "cell_type": "code",
      "metadata": {
        "id": "FWyEs2r9URFe"
      },
      "source": [
        "network_non_deskewed = create_model()\n",
        "model_non_deskewed_NN = NeuralNetworkGridSrearch(nn_train_non_deskewed, encoded_train_labels)\n",
        "network_non_deskewed.fit(nn_train_non_deskewed, encoded_train_labels, epochs=model_non_deskewed_NN.get('epochs'), batch_size=model_non_deskewed_NN.get('batch_size'))\n",
        "pred_probabilities_non_deskewed = network_non_deskewed.predict(nn_test_non_deskewed)\n",
        "pred_labels_non_deskewed_NN = np.argmax(pred_probabilities_non_deskewed,-1)\n"
      ],
      "execution_count": null,
      "outputs": []
    },
    {
      "cell_type": "markdown",
      "metadata": {
        "id": "syWvOSXNURFf"
      },
      "source": [
        "## Wyniki"
      ]
    },
    {
      "cell_type": "code",
      "metadata": {
        "id": "KbUS6FEYVqKt"
      },
      "source": [
        "#SVM wyrownane\n",
        "single_result(test_labels,pred_labels_deskewed_SVM,\"dane wyrownane SVM\")\n",
        "print(\"-------------------------------------------------------------\")\n",
        "#SVM bez wyrownania\n",
        "single_result(test_labels,pred_labels_non_deskewed_SVM,\"dane nie wyrownane SVM\")\n",
        "print(\"-------------------------------------------------------------\")\n",
        "#RandomForest wyrownane\n",
        "single_result(test_labels,pred_labels_deskewed_RF,\"dane wyrownane RF\")\n",
        "print(\"-------------------------------------------------------------\")\n",
        "#RandomForest bez wyrownania\n",
        "single_result(test_labels,pred_labels_non_deskewed_RF,\"dane nie wyrownane RF\")\n",
        "print(\"-------------------------------------------------------------\")\n",
        "\n",
        "#Neural Network wyrownane\n",
        "single_result(test_labels,pred_labels_non_deskewed_NN,\"dane nie wyrownane NN\")\n",
        "print(\"-------------------------------------------------------------\")\n",
        "#Neural Network bez wyrownania\n",
        "single_result(test_labels,pred_labels_deskewed_NN,\"dane wyrownane NN\")\n",
        "print(\"-------------------------------------------------------------\")\n"
      ],
      "execution_count": null,
      "outputs": []
    },
    {
      "cell_type": "markdown",
      "metadata": {
        "id": "B5zfM1dXWCut"
      },
      "source": [
        "# Wnioski\n",
        "Modele w których były stosowane dane bez wyrównania (non_deskewed) były mniej dokładniejsze (Accuracy) niż te w których stosowane dane wyrównane (deskewed). Jest to związane z tym że funkcja wyrówniająca robi kształty cyfer bardziej jednolitymi i algorytmy lepiej wykrywają pobobieństwo między nimi.\n"
      ]
    },
    {
      "cell_type": "markdown",
      "metadata": {
        "id": "lZ55d7vFURFf"
      },
      "source": [
        "# Zadanie 3\n",
        "Powtórzyć trening klasycznych klasyfikatorów dla danych surowych wgranych na wejście klasyfikatora (db)"
      ]
    },
    {
      "cell_type": "markdown",
      "metadata": {
        "id": "be0zJSJlURFf"
      },
      "source": [
        "###  Model SVM dla surowych danych"
      ]
    },
    {
      "cell_type": "code",
      "metadata": {
        "id": "d1JItjYbURFf"
      },
      "source": [
        "model_raw_deskewed = SVMGridSearch(rawdata_train_deskewed_short, train_labels_short)"
      ],
      "execution_count": null,
      "outputs": []
    },
    {
      "cell_type": "code",
      "metadata": {
        "id": "mnhlFNjSURFg"
      },
      "source": [
        "idx = np.random.choice(np.arange(len(train_deskewed)), 6000, replace=False)\n",
        "train_deskewed_random = train_deskewed[idx]\n",
        "train_labels_random = train_labels[idx]\n",
        "\n",
        "model_raw_deskewed.fit(train_deskewed_random,train_labels_random)\n",
        "pred_labels_raw_deskewed_SVM = model_raw_deskewed.predict(test_deskewed)"
      ],
      "execution_count": null,
      "outputs": []
    },
    {
      "cell_type": "code",
      "metadata": {
        "id": "gBFgNoSIURFg"
      },
      "source": [
        ""
      ],
      "execution_count": null,
      "outputs": []
    },
    {
      "cell_type": "code",
      "metadata": {
        "id": "CrBxBHvkURFg"
      },
      "source": [
        ""
      ],
      "execution_count": null,
      "outputs": []
    },
    {
      "cell_type": "markdown",
      "metadata": {
        "id": "QoeY26uZURFg"
      },
      "source": [
        "### Model RandomForest dla surowych danych"
      ]
    },
    {
      "cell_type": "code",
      "metadata": {
        "id": "6YSxm5HaURFh"
      },
      "source": [
        "model_raw_deskewed = RandomForestGridSearch(rawdata_train_deskewed_short, train_labels_short)\n",
        "model_raw_deskewed.fit(train_deskewed, train_labels)\n",
        "pred_labels_raw_deskewed_RF = model_raw_deskewed.predict(test_deskewed)"
      ],
      "execution_count": null,
      "outputs": []
    },
    {
      "cell_type": "code",
      "metadata": {
        "id": "F8cHXdqKURFh"
      },
      "source": [
        ""
      ],
      "execution_count": null,
      "outputs": []
    },
    {
      "cell_type": "markdown",
      "metadata": {
        "id": "uzshsYq8URFh"
      },
      "source": [
        "### Model Neural Network dla surowych danych"
      ]
    },
    {
      "cell_type": "code",
      "metadata": {
        "id": "T5EfnV-DURFh"
      },
      "source": [
        "network_raw_deskewed = create_model()\n",
        "model_raw_deskewed = NeuralNetworkGridSrearch(nn_train_raw_deskewed, encoded_train_labels)\n",
        "network_raw_deskewed.fit(nn_train_raw_deskewed, encoded_train_labels, epochs=model_raw_deskewed.get('epochs'), batch_size=model_raw_deskewed.get('batch_size'))\n",
        "pred_probabilities_raw_deskewed = network_raw_deskewed.predict(nn_test_raw_deskewed)\n",
        "pred_labels_raw_deskewed_NN = np.argmax(pred_probabilities_raw_deskewed,-1)\n"
      ],
      "execution_count": null,
      "outputs": []
    },
    {
      "cell_type": "markdown",
      "metadata": {
        "id": "jxtGv_QQ4E30"
      },
      "source": [
        "## Wyniki"
      ]
    },
    {
      "cell_type": "code",
      "metadata": {
        "id": "JVAT4N5t2dMk"
      },
      "source": [
        "#SVM surowe\n",
        "single_result(test_labels,pred_labels_raw_deskewed_SVM,\"dane surowe SVM\")\n",
        "print(\"-------------------------------------------------------------\")\n",
        "#RandomForest surowe\n",
        "single_result(test_labels,pred_labels_raw_deskewed_RF,\"dane surowe RF\")\n",
        "print(\"-------------------------------------------------------------\")\n",
        "#Neural Network surowe\n",
        "single_result(test_labels,pred_labels_raw_deskewed_NN,\"dane surowe NN\")\n",
        "print(\"-------------------------------------------------------------\")"
      ],
      "execution_count": null,
      "outputs": []
    },
    {
      "cell_type": "markdown",
      "metadata": {
        "id": "7aHQiMaK4DTx"
      },
      "source": [
        "## Wnioski\n",
        "Porównując dane surowe (raw_deskewed) do danych poprzednie przetworzonych przez HOG, to można zauważyć że HOG pozwala usunąć możliwy szum w obrazkach i zmniejszych ilość informacji do przetwarazania, co powoduje o wielie szybszy czas trenowania modelu. Czas trenowania z użyciem 6000 surowych obrazków był prawie taki sam jak dla trenowania z użyciem przetworozynch  60 000 obrazków."
      ]
    },
    {
      "cell_type": "markdown",
      "metadata": {
        "id": "DjhkCVeoURFi"
      },
      "source": [
        "# Zadanie 4\n",
        "Powtórzyć trening klasycznych klasyfikatorów dla zmieszanych danych surowych wgranych na wejście klasyfikatora (bdb)"
      ]
    },
    {
      "cell_type": "markdown",
      "metadata": {
        "id": "eww2cRaSURFi"
      },
      "source": [
        "### Model SVM dla zmieszanych danych surowych "
      ]
    },
    {
      "cell_type": "code",
      "metadata": {
        "id": "uQt7xB9dURFi"
      },
      "source": [
        "model_shuffle = SVMGridSearch(train_shuffle_short, train_labels_short)\n",
        "idx = np.random.choice(np.arange(len(train_shuffle)), 6000, replace=False)\n",
        "train_shuffle_random = train_shuffle[idx]\n",
        "train_labels_random = train_labels[idx]\n",
        "\n",
        "model_shuffle.fit(train_shuffle_random,train_labels_random)\n",
        "pred_labels_shuffle_SVM = model_shuffle.predict(test_shuffle)\n"
      ],
      "execution_count": null,
      "outputs": []
    },
    {
      "cell_type": "markdown",
      "metadata": {
        "id": "CUcp5anGURFj"
      },
      "source": [
        "### Model Random Forest dla zmieszanych danych surowych "
      ]
    },
    {
      "cell_type": "code",
      "metadata": {
        "id": "Tq6JRx-iURFj"
      },
      "source": [
        "model_shuffle = RandomForestGridSearch(train_shuffle_short, train_labels_short)\n",
        "model_shuffle.fit(train_shuffle, train_labels)\n",
        "pred_labels_shuffle_RF = model_shuffle.predict(test_shuffle)"
      ],
      "execution_count": null,
      "outputs": []
    },
    {
      "cell_type": "markdown",
      "metadata": {
        "id": "YLKIXll3URFj"
      },
      "source": [
        "### Model Neural Network dla zmieszanych danych surowych "
      ]
    },
    {
      "cell_type": "code",
      "metadata": {
        "id": "8vvi2sSTURFj"
      },
      "source": [
        "network_shuffle = create_model()\n",
        "model_shuffle = NeuralNetworkGridSrearch(nn_train_shuffle, encoded_train_labels)\n",
        "network_shuffle.fit(nn_train_shuffle,encoded_train_labels, epochs=model_shuffle.get('epochs'), batch_size=model_shuffle.get('batch_size'))\n",
        "pred_probabilities_shuffle = network_shuffle.predict(nn_test_shuffle)\n",
        "pred_labels_shuffle_NN = np.argmax(pred_probabilities_shuffle,-1)\n"
      ],
      "execution_count": null,
      "outputs": []
    },
    {
      "cell_type": "code",
      "metadata": {
        "id": "KZJbMz232q_r"
      },
      "source": [
        "#SVM mieszane\n",
        "single_result(test_labels,pred_labels_shuffle_SVM,\"dane mieszane SVM\")\n",
        "print(\"-------------------------------------------------------------\")\n",
        "#RandomForest mieszane\n",
        "single_result(test_labels,pred_labels_shuffle_RF,\"dane mieszane RF\")\n",
        "print(\"-------------------------------------------------------------\")\n",
        "#Neural Network mieszane\n",
        "single_result(test_labels,pred_labels_shuffle_NN,\"dane mieszane NN\")\n",
        "print(\"-------------------------------------------------------------\")"
      ],
      "execution_count": null,
      "outputs": []
    },
    {
      "cell_type": "markdown",
      "metadata": {
        "id": "ZGYK53wC6uli"
      },
      "source": [
        "# Wnioski\n",
        "Porównując wyniki danych mieszanych surowych i surowych danych widzimy że dokładnośc znacząca zwiększyła się, co pokazuję że HOG naprawdę ulepsza dokładność oraz czas obliczeń."
      ]
    }
  ]
}