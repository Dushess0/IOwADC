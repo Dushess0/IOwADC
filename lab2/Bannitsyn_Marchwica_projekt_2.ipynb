{
  "nbformat": 4,
  "nbformat_minor": 0,
  "metadata": {
    "colab": {
      "name": "Bannitsyn_Marchwica_projekt_2.ipynb",
      "provenance": [],
      "collapsed_sections": []
    },
    "kernelspec": {
      "name": "python385jvsc74a57bd097e84bb5e4a3161ab39da84663701e6c02adafdda12e03d1d966874dc1a30b83",
      "display_name": "Python 3.8.5 64-bit (conda)"
    },
    "language_info": {
      "name": "python",
      "version": "3.8.5-final"
    }
  },
  "cells": [
    {
      "cell_type": "markdown",
      "metadata": {
        "id": "6x8j9URhcmDj"
      },
      "source": [
        "Illia Bannitsyn illiabann@student.agh.edu.pl\n",
        "\n",
        "Patrycja Marchwica patmar@student.agh.edu.pl"
      ]
    },
    {
      "cell_type": "markdown",
      "metadata": {
        "id": "0ejUl35TgOXO"
      },
      "source": [
        "# Import danych"
      ]
    },
    {
      "cell_type": "code",
      "metadata": {
        "id": "arHSRml7cndW"
      },
      "source": [
        "import cv2\n",
        "import numpy as np\n",
        "import matplotlib.pyplot as plt\n",
        "from keras.datasets import mnist\n",
        "from sklearn import svm\n",
        "from sklearn.model_selection import GridSearchCV\n",
        "from sklearn.model_selection import StratifiedKFold\n",
        "from sklearn.metrics import classification_report, confusion_matrix, accuracy_score\n",
        "from sklearn.ensemble import RandomForestClassifier\n",
        "from keras import models\n",
        "from keras import layers\n",
        "from keras.utils import to_categorical\n",
        "from keras.wrappers.scikit_learn import KerasClassifier\n",
        "\n",
        "(train_images, train_labels), (test_images, test_labels) = mnist.load_data()\n"
      ],
      "execution_count": 2,
      "outputs": [
        {
          "output_type": "error",
          "ename": "ModuleNotFoundError",
          "evalue": "No module named 'keras'",
          "traceback": [
            "\u001b[1;31m---------------------------------------------------------------------------\u001b[0m",
            "\u001b[1;31mModuleNotFoundError\u001b[0m                       Traceback (most recent call last)",
            "\u001b[1;32m<ipython-input-2-7c67fc77a52d>\u001b[0m in \u001b[0;36m<module>\u001b[1;34m\u001b[0m\n\u001b[0;32m      2\u001b[0m \u001b[1;32mimport\u001b[0m \u001b[0mnumpy\u001b[0m \u001b[1;32mas\u001b[0m \u001b[0mnp\u001b[0m\u001b[1;33m\u001b[0m\u001b[1;33m\u001b[0m\u001b[0m\n\u001b[0;32m      3\u001b[0m \u001b[1;32mimport\u001b[0m \u001b[0mmatplotlib\u001b[0m\u001b[1;33m.\u001b[0m\u001b[0mpyplot\u001b[0m \u001b[1;32mas\u001b[0m \u001b[0mplt\u001b[0m\u001b[1;33m\u001b[0m\u001b[1;33m\u001b[0m\u001b[0m\n\u001b[1;32m----> 4\u001b[1;33m \u001b[1;32mfrom\u001b[0m \u001b[0mkeras\u001b[0m\u001b[1;33m.\u001b[0m\u001b[0mdatasets\u001b[0m \u001b[1;32mimport\u001b[0m \u001b[0mmnist\u001b[0m\u001b[1;33m\u001b[0m\u001b[1;33m\u001b[0m\u001b[0m\n\u001b[0m\u001b[0;32m      5\u001b[0m \u001b[1;32mfrom\u001b[0m \u001b[0msklearn\u001b[0m \u001b[1;32mimport\u001b[0m \u001b[0msvm\u001b[0m\u001b[1;33m\u001b[0m\u001b[1;33m\u001b[0m\u001b[0m\n\u001b[0;32m      6\u001b[0m \u001b[1;32mfrom\u001b[0m \u001b[0msklearn\u001b[0m\u001b[1;33m.\u001b[0m\u001b[0mmodel_selection\u001b[0m \u001b[1;32mimport\u001b[0m \u001b[0mGridSearchCV\u001b[0m\u001b[1;33m\u001b[0m\u001b[1;33m\u001b[0m\u001b[0m\n",
            "\u001b[1;31mModuleNotFoundError\u001b[0m: No module named 'keras'"
          ]
        }
      ]
    },
    {
      "cell_type": "markdown",
      "metadata": {
        "id": "X45dq8-AiMOr"
      },
      "source": [
        "# Funkcje"
      ]
    },
    {
      "cell_type": "markdown",
      "metadata": {
        "id": "1WFZBeoOdPMi"
      },
      "source": [
        "## Deskew\n",
        "\n"
      ]
    },
    {
      "cell_type": "code",
      "metadata": {
        "id": "S13smJ_ldG_j"
      },
      "source": [
        "SZ=28\n",
        "affine_flags = cv2.WARP_INVERSE_MAP|cv2.INTER_LINEAR\n",
        "\n",
        "def deskew(img):\n",
        "    m = cv2.moments(img)\n",
        "    if abs(m['mu02']) < 1e-2:\n",
        "        return img.copy()\n",
        "    skew = m['mu11']/m['mu02']\n",
        "    M = np.float32([[1, skew, -0.5*SZ*skew], [0, 1, 0]])\n",
        "    img = cv2.warpAffine(img,M,(SZ, SZ),flags=affine_flags)\n",
        "    return img"
      ],
      "execution_count": null,
      "outputs": []
    },
    {
      "cell_type": "markdown",
      "metadata": {
        "id": "ralTuOycdZ-f"
      },
      "source": [
        "## HOG (Histogram of Oriented Gradients)\n",
        "\n"
      ]
    },
    {
      "cell_type": "code",
      "metadata": {
        "id": "cC5skUohdVck"
      },
      "source": [
        "def HOG(im):\n",
        "    winSize = (20,20)\n",
        "    blockSize = (10,10)\n",
        "    blockStride = (5,5)\n",
        "    cellSize = (10,10)\n",
        "    nbins = 9\n",
        "    derivAperture = 1\n",
        "    winSigma = -1.\n",
        "    histogramNormType = 0\n",
        "    L2HysThreshold = 0.2\n",
        "    gammaCorrection = 1\n",
        "    nlevels = 64\n",
        "    signedGradients = True\n",
        "\n",
        "    hog = cv2.HOGDescriptor(winSize,blockSize,blockStride,cellSize,nbins,derivAperture,winSigma,histogramNormType,L2HysThreshold,gammaCorrection,nlevels, signedGradients)\n",
        "    descriptor = np.ravel(hog.compute(im))\n",
        "    \n",
        "    return descriptor"
      ],
      "execution_count": null,
      "outputs": []
    },
    {
      "cell_type": "markdown",
      "metadata": {
        "id": "8lvJZtK1f-4s"
      },
      "source": [
        "## Tworzenie modelu dla sieci\n"
      ]
    },
    {
      "cell_type": "code",
      "metadata": {
        "id": "TMehy0nVfBsF"
      },
      "source": [
        "def create_model():\n",
        "  model = models.Sequential()\n",
        "  model.add(layers.Dense(512, activation='relu', input_shape=(81,)))\n",
        "  model.add(layers.Dense(10, activation='softmax'))\n",
        "  model.compile(optimizer='rmsprop',\n",
        "                loss='categorical_crossentropy',\n",
        "                metrics=['accuracy'])\n",
        "  return model"
      ],
      "execution_count": null,
      "outputs": []
    },
    {
      "cell_type": "markdown",
      "metadata": {
        "id": "V6f5pQBuf2dH"
      },
      "source": [
        "## Grid Search - Walidacja krzyżowa"
      ]
    },
    {
      "cell_type": "code",
      "metadata": {
        "id": "DdMjje8vd1Kx"
      },
      "source": [
        "def SVMGridSearch(train_data, train_labels):\n",
        "  parameters = {'kernel':('linear', 'rbf'), 'C': np.linspace(start = 0.001, stop = 2, num = 200)}\n",
        "  svc = svm.SVC()\n",
        "  clf = GridSearchCV(svc, parameters, scoring='accuracy', cv=StratifiedKFold())\n",
        "  clf.fit(train_data, train_labels)\n",
        "  best_params = clf.best_params_\n",
        "  my_svc = clf.best_estimator_\n",
        "  \n",
        "  print(\"Best hiperparameters: \", best_params)\n",
        "  \n",
        "  return my_svc"
      ],
      "execution_count": null,
      "outputs": []
    },
    {
      "cell_type": "code",
      "metadata": {
        "id": "U-2WrrpEeYbY"
      },
      "source": [
        "def RandomForestGridSearch(train_data, train_labels):\n",
        "  parameters = {\n",
        "    'max_depth': [5, 8, 15, 25, 30],\n",
        "    'min_samples_leaf': [1, 2, 5, 10],\n",
        "    'min_samples_split': [2, 5, 10, 15, 100],\n",
        "    'n_estimators': [20, 30, 50, 70, 100]\n",
        "  }\n",
        "\n",
        "  rf = RandomForestClassifier()\n",
        "  clf = GridSearchCV(estimator = rf, param_grid = parameters, cv = 3, n_jobs = -1, verbose = 1)\n",
        "  clf.fit(train_data, train_labels)\n",
        "  best_params = clf.best_params_\n",
        "  my_rf = clf.best_estimator_\n",
        "  \n",
        "  print(\"Best hiperparameters: \", best_params)\n",
        "\n",
        "  return my_rf"
      ],
      "execution_count": null,
      "outputs": []
    },
    {
      "cell_type": "code",
      "metadata": {
        "id": "y-6fO3O8e7gm"
      },
      "source": [
        "def NeuralNetworkGridSrearch(train_data, train_labels):\n",
        "  parameters = {\n",
        "      'batch_size': [30, 50, 100],\n",
        "      'epochs': [5, 10, 15]\n",
        "      }\n",
        "  kc = KerasClassifier(build_fn=create_model, verbose=0)\n",
        "  clf = GridSearchCV(estimator=kc, param_grid=parameters, n_jobs=-1, cv=3)\n",
        "  clf.fit(train_data, train_labels)\n",
        "  best_params = clf.best_params_\n",
        "\n",
        "  print(\"Best hiperparameters: \", best_params)\n",
        "\n",
        "  return best_params"
      ],
      "execution_count": null,
      "outputs": []
    },
    {
      "cell_type": "markdown",
      "metadata": {
        "id": "pQaTkTbgwhVd"
      },
      "source": [
        "## Macierz pomyłek i raporty"
      ]
    },
    {
      "cell_type": "code",
      "metadata": {
        "id": "TZ6PX-EpwnSr"
      },
      "source": [
        "def getConfMatrix(test_labels, pred_labels_deskewed, pred_labels_non_deskewed,pred_labels_raw_deskewed):\n",
        "  cm_deskewed = confusion_matrix(test_labels, pred_labels_deskewed)\n",
        "  cm_non_deskewed = confusion_matrix(test_labels, pred_labels_non_deskewed)\n",
        "  cm_raw_deskewed = confusion_matrix(test_labels, pred_labels_raw_deskewed)\n",
        "  # cm_shuffle = \n",
        "\n",
        "\n",
        "  print(\"Macierz pomyłek - dane wyrównane:\")\n",
        "  print(cm_deskewed)\n",
        "  print(\"Macierz pomyłek - dane niewyrównane:\")\n",
        "  print(cm_non_deskewed)\n",
        "  print(\"Macierz pomyłek - dane surowe:\")\n",
        "  # print(cm_raw_deskewed)\n",
        "  print(\"Macierz pomyłek - dane zmieszane:\")\n",
        "  # print(cm_shuffle)"
      ],
      "execution_count": null,
      "outputs": []
    },
    {
      "cell_type": "code",
      "metadata": {
        "id": "FhSNwocqyMYJ"
      },
      "source": [
        "def getReports(test_labels, pred_labels_deskewed, pred_labels_non_deskewed,pred_labels_raw_deskewed):\n",
        "  print(\"Raport - dane wyrównane:\")\n",
        "  print(classification_report(test_labels, pred_labels_deskewed))\n",
        "  print(\"Raport - dane niewyrównane:\")\n",
        "  print(classification_report(test_labels, pred_labels_non_deskewed))\n",
        "  print(\"Raport - dane surowe:\")\n",
        "  print(classification_report(test_labels, pred_labels_raw_deskewed))\n",
        "  print(\"Raport - dane zmieszane:\")\n",
        "  # print()"
      ],
      "execution_count": null,
      "outputs": []
    },
    {
      "cell_type": "code",
      "metadata": {
        "id": "rUXlzWXlylZv"
      },
      "source": [
        "def getAccuracy(test_labels, pred_labels_deskewed, pred_labels_non_deskewed,pred_labels_raw_deskewed):\n",
        "  print(\"Accuracy - dane wyrównane: \" + str(accuracy_score(test_labels, pred_labels_deskewed)))\n",
        "  print(\"Accuracy - dane niewyrównane: \" + str(accuracy_score(test_labels, pred_labels_non_deskewed)))\n",
        "  print(\"Accuracy - dane surowe: \" + str(accuracy_score(test_labels, pred_labels_raw_deskewed)))\n",
        "  print(\"Accuracy - dane zmieszane: \")"
      ],
      "execution_count": null,
      "outputs": []
    },
    {
      "cell_type": "markdown",
      "metadata": {
        "id": "g6biV2QIf0Bu"
      },
      "source": [
        "# Preprocessing\n",
        "\n"
      ]
    },
    {
      "cell_type": "markdown",
      "metadata": {
        "id": "IWlrg0Mvgeyy"
      },
      "source": [
        "Surowe dane"
      ]
    },
    {
      "cell_type": "code",
      "metadata": {
        "id": "lK-H-LhFgH1z"
      },
      "source": [
        "train_raw = train_images.reshape(len(train_images), 28 * 28)\n",
        "test_raw = test_images.reshape(len(test_images), 28 * 28)"
      ],
      "execution_count": null,
      "outputs": []
    },
    {
      "cell_type": "markdown",
      "metadata": {
        "id": "XaBSct4eghyj"
      },
      "source": [
        "Dane poddane wyrównaniu"
      ]
    },
    {
      "cell_type": "code",
      "metadata": {
        "id": "zy3BbqBRglUF"
      },
      "source": [
        "train_deskewed = np.float32([deskew(im) for im in train_raw])\n",
        "test_deskewed = np.float32([deskew(im) for im in test_raw])\n",
        "\n",
        "train_deskewed = np.asarray(train_deskewed).reshape(-1,28*28)\n",
        "test_deskewed = np.asarray(test_deskewed).reshape(-1,28*28)"
      ],
      "execution_count": null,
      "outputs": []
    },
    {
      "cell_type": "markdown",
      "metadata": {
        "id": "KElWBwMug5xI"
      },
      "source": []
    },
    {
      "cell_type": "code",
      "metadata": {
        "id": "oFF3QEGDhF1v"
      },
      "source": [
        "hogdata_train = np.float32([HOG(im) for im in train_images]).reshape(-1,81)\n",
        "hogdata_test = np.float32([HOG(im) for im in test_images]).reshape(-1,81)\n",
        "\n",
        "hogdata_train_deskewed = np.float32([HOG(deskew(im)) for im in train_images]).reshape(-1,81)\n",
        "hogdata_test_deskewed = np.float32([HOG(deskew(im)) for im in test_images]).reshape(-1,81)"
      ],
      "execution_count": null,
      "outputs": []
    },
    {
      "cell_type": "markdown",
      "metadata": {
        "id": "0MKt4DJRhoQT"
      },
      "source": [
        "Dane dla walidacji krzyżowej"
      ]
    },
    {
      "cell_type": "code",
      "metadata": {
        "id": "L6T75RR0hsB_"
      },
      "source": [
        "hogdata_train_short = hogdata_train[:600]\n",
        "hogdata_train_deskewed_short = hogdata_train_deskewed[:600]\n",
        "\n",
        "# Surowe dane \n",
        "rawdata_train_deskewed_short = train_deskewed[:600]\n",
        "\n",
        "# Zmieszane dane surowe \n",
        "# TODO\n",
        "\n",
        "train_labels_short = train_labels[:600]"
      ],
      "execution_count": null,
      "outputs": []
    },
    {
      "cell_type": "markdown",
      "metadata": {
        "id": "c0Oi8EPYiCqh"
      },
      "source": [
        "# Model SVM"
      ]
    },
    {
      "cell_type": "markdown",
      "metadata": {
        "id": "antcuvKEi2ay"
      },
      "source": [
        "## Walidacja krzyżowa"
      ]
    },
    {
      "cell_type": "markdown",
      "metadata": {
        "id": "spuajqwAjETl"
      },
      "source": [
        "Dane wyrównane"
      ]
    },
    {
      "cell_type": "code",
      "metadata": {
        "id": "9LLJImvdiHmq"
      },
      "source": [
        "model_deskewed = SVMGridSearch(hogdata_train_deskewed_short, train_labels_short)"
      ],
      "execution_count": null,
      "outputs": []
    },
    {
      "cell_type": "markdown",
      "metadata": {
        "id": "OrJ-k3-Jjkee"
      },
      "source": [
        "Dane niewyrównane"
      ]
    },
    {
      "cell_type": "code",
      "metadata": {
        "id": "JpoWAN1Xjm2f"
      },
      "source": [
        "model_non_deskewed = SVMGridSearch(hogdata_train_short, train_labels_short)"
      ],
      "execution_count": null,
      "outputs": []
    },
    {
      "cell_type": "markdown",
      "metadata": {
        "id": "8Hil4d7Mj5TM"
      },
      "source": [
        "Dane surowe"
      ]
    },
    {
      "cell_type": "code",
      "metadata": {
        "id": "UWowZtvNj69p"
      },
      "source": [
        "model_raw_deskewed = SVMGridSearch(rawdata_train_deskewed_short, train_labels_short)"
      ],
      "execution_count": null,
      "outputs": []
    },
    {
      "cell_type": "markdown",
      "metadata": {
        "id": "CeysRaaqkoN3"
      },
      "source": [
        "Zmieszane dane surowe"
      ]
    },
    {
      "cell_type": "code",
      "metadata": {
        "id": "pu0t5_tvkuo7"
      },
      "source": [
        "# TODO"
      ],
      "execution_count": null,
      "outputs": []
    },
    {
      "cell_type": "markdown",
      "metadata": {
        "id": "mvFnguu_kB3E"
      },
      "source": [
        "## Trenowanie modelu"
      ]
    },
    {
      "cell_type": "markdown",
      "metadata": {
        "id": "Glvnv2cfkIV9"
      },
      "source": [
        "Klasyfikacja"
      ]
    },
    {
      "cell_type": "code",
      "metadata": {
        "id": "5S5vqED0kGPS"
      },
      "source": [
        "model_deskewed.fit(hogdata_train_deskewed, train_labels)\n",
        "model_non_deskewed.fit(hogdata_train, train_labels)\n",
        "model_raw_deskewed.fit(train_deskewed, train_labels)\n",
        "\n",
        "pred_labels_deskewed = model_deskewed.predict(hogdata_test_deskewed)\n",
        "pred_labels_non_deskewed = model_non_deskewed.predict(hogdata_test)\n",
        "pred_labels_raw_deskewed = model_raw_deskewed.predict(test_deskewed)"
      ],
      "execution_count": null,
      "outputs": []
    },
    {
      "cell_type": "markdown",
      "metadata": {
        "id": "hgx-k3LjkZCz"
      },
      "source": [
        "Accuracy"
      ]
    },
    {
      "cell_type": "code",
      "metadata": {
        "id": "wTlDxOJ4kZaF"
      },
      "source": [
        "getAccuracy(test_labels, pred_labels_deskewed,pred_labels_non_deskewed,pred_labels_raw_deskewed)"
      ],
      "execution_count": null,
      "outputs": []
    },
    {
      "cell_type": "markdown",
      "metadata": {
        "id": "zHv2avGzn7WO"
      },
      "source": [
        "Macierze pomyłek"
      ]
    },
    {
      "cell_type": "code",
      "metadata": {
        "id": "A23bzfl-lC1e"
      },
      "source": [
        "getConfMatrix(test_labels, pred_labels_deskewed,pred_labels_non_deskewed,pred_labels_raw_deskewed)"
      ],
      "execution_count": null,
      "outputs": []
    },
    {
      "cell_type": "markdown",
      "metadata": {
        "id": "VdffqhOhn_LW"
      },
      "source": [
        "Raporty"
      ]
    },
    {
      "cell_type": "code",
      "metadata": {
        "id": "V2jcf1slnSaN"
      },
      "source": [
        "getReports(test_labels, pred_labels_deskewed,pred_labels_non_deskewed,pred_labels_raw_deskewed)"
      ],
      "execution_count": null,
      "outputs": []
    },
    {
      "cell_type": "markdown",
      "metadata": {
        "id": "CZvN3pikFHR-"
      },
      "source": [
        "## Wnioski"
      ]
    },
    {
      "cell_type": "markdown",
      "metadata": {
        "id": "O1eVHzkmFKPn"
      },
      "source": [
        "**TODO**\n"
      ]
    },
    {
      "cell_type": "markdown",
      "metadata": {
        "id": "YYIWUFHdoeit"
      },
      "source": [
        "# Model RandomForest"
      ]
    },
    {
      "cell_type": "markdown",
      "metadata": {
        "id": "Hl-cKZuPowZ-"
      },
      "source": [
        "## Walidacja krzyżowa"
      ]
    },
    {
      "cell_type": "markdown",
      "metadata": {
        "id": "QL-FT7iPo5uw"
      },
      "source": [
        "Dane wyrównane"
      ]
    },
    {
      "cell_type": "code",
      "metadata": {
        "id": "zNk-u3y4o9K-"
      },
      "source": [
        "model_deskewed = RandomForestGridSearch(hogdata_train_deskewed_short, train_labels_short)"
      ],
      "execution_count": null,
      "outputs": []
    },
    {
      "cell_type": "markdown",
      "metadata": {
        "id": "FZRaG7Uzpgy1"
      },
      "source": [
        "Dane niewyrównane"
      ]
    },
    {
      "cell_type": "code",
      "metadata": {
        "id": "DE3ZYhqipi01"
      },
      "source": [
        "model_non_deskewed = RandomForestGridSearch(hogdata_train_short, train_labels_short)"
      ],
      "execution_count": null,
      "outputs": []
    },
    {
      "cell_type": "markdown",
      "metadata": {
        "id": "kjBmeLr1pzU3"
      },
      "source": [
        "Dane surowe"
      ]
    },
    {
      "cell_type": "code",
      "metadata": {
        "id": "7LW_lHxqp0qQ"
      },
      "source": [
        "model_raw_deskewed = RandomForestGridSearch(rawdata_train_deskewed_short, train_labels_short)"
      ],
      "execution_count": null,
      "outputs": []
    },
    {
      "cell_type": "markdown",
      "metadata": {
        "id": "RufeWetop1AV"
      },
      "source": [
        "Zmieszane dane surowe"
      ]
    },
    {
      "cell_type": "code",
      "metadata": {
        "id": "gOBh-N64p2q2"
      },
      "source": [
        "# TODO"
      ],
      "execution_count": null,
      "outputs": []
    },
    {
      "cell_type": "markdown",
      "metadata": {
        "id": "Lcyg18pJp_-s"
      },
      "source": [
        "## Trenowanie modelu"
      ]
    },
    {
      "cell_type": "markdown",
      "metadata": {
        "id": "yCj9gRrJqEKo"
      },
      "source": [
        "Klasyfikacja"
      ]
    },
    {
      "cell_type": "code",
      "metadata": {
        "id": "TmHoDJVhqG9r"
      },
      "source": [
        "model_deskewed.fit(hogdata_train_deskewed, train_labels)\n",
        "model_non_deskewed.fit(hogdata_train, train_labels)\n",
        "model_raw_deskewed.fit(train_deskewed, train_labels)\n",
        "\n",
        "pred_labels_deskewed = model_deskewed.predict(hogdata_test_deskewed)\n",
        "pred_labels_non_deskewed = model_non_deskewed.predict(hogdata_test)\n",
        "pred_labels_raw_deskewed = model_raw_deskewed.predict(test_deskewed)"
      ],
      "execution_count": null,
      "outputs": []
    },
    {
      "cell_type": "markdown",
      "metadata": {
        "id": "TP6zqK1-qQKC"
      },
      "source": [
        "Accuracy"
      ]
    },
    {
      "cell_type": "code",
      "metadata": {
        "id": "tmZcpjbUqRNP"
      },
      "source": [
        "getAccuracy(test_labels, pred_labels_deskewed,pred_labels_non_deskewed,pred_labels_raw_deskewed)"
      ],
      "execution_count": null,
      "outputs": []
    },
    {
      "cell_type": "markdown",
      "metadata": {
        "id": "xwV4v-lLqRm1"
      },
      "source": [
        "Macierz pomyłek"
      ]
    },
    {
      "cell_type": "code",
      "metadata": {
        "id": "aC99U6fZqUGD"
      },
      "source": [
        "getConfMatrix(test_labels, pred_labels_deskewed,pred_labels_non_deskewed,pred_labels_raw_deskewed)"
      ],
      "execution_count": null,
      "outputs": []
    },
    {
      "cell_type": "markdown",
      "metadata": {
        "id": "PGcCBYLFqUmv"
      },
      "source": [
        "Raporty"
      ]
    },
    {
      "cell_type": "code",
      "metadata": {
        "id": "uS0moAi-qWEP"
      },
      "source": [
        "getReports(test_labels, pred_labels_deskewed,pred_labels_non_deskewed,pred_labels_raw_deskewed)"
      ],
      "execution_count": null,
      "outputs": []
    },
    {
      "cell_type": "markdown",
      "metadata": {
        "id": "F1S2zE1VFj2t"
      },
      "source": [
        "# Wnioski"
      ]
    },
    {
      "cell_type": "markdown",
      "metadata": {
        "id": "-fmZvKF5FrpT"
      },
      "source": [
        "**TODO**"
      ]
    },
    {
      "cell_type": "markdown",
      "metadata": {
        "id": "QKkcRllnsus3"
      },
      "source": [
        "# Model Neural Network"
      ]
    },
    {
      "cell_type": "markdown",
      "metadata": {
        "id": "xkVBfwGWsyTH"
      },
      "source": [
        "## Stworzenie modelu"
      ]
    },
    {
      "cell_type": "code",
      "metadata": {
        "id": "4BmECZ0Us5FQ"
      },
      "source": [
        "network_deskewed = create_model()\n",
        "network_non_deskewed = create_model()\n",
        "network_raw_deskewed = create_model()\n",
        "# network_shuffle = create_model()"
      ],
      "execution_count": null,
      "outputs": []
    },
    {
      "cell_type": "markdown",
      "metadata": {
        "id": "5DPd6g0etJi1"
      },
      "source": []
    },
    {
      "cell_type": "code",
      "metadata": {
        "id": "aDYCCmlqtJ2Z"
      },
      "source": [
        "nn_train_deskewed = np.array(hogdata_train_deskewed).reshape((60000, 81))\n",
        "nn_train_deskewed = nn_train_deskewed.astype('float32') / 255\n",
        "\n",
        "nn_test_deskewed = np.array(hogdata_test_deskewed).reshape((10000, 81))\n",
        "nn_test_deskewed = nn_test_deskewed.astype('float32') / 255\n",
        "\n",
        "nn_train_non_deskewed = np.array(hogdata_train).reshape((60000, 81))\n",
        "nn_train_non_deskewed = nn_train_non_deskewed.astype('float32') / 255\n",
        "\n",
        "nn_test_non_deskewed = np.array(hogdata_test).reshape((10000, 81))\n",
        "nn_test_non_deskewed = nn_test_non_deskewed.astype('float32') / 255\n",
        "\n",
        "nn_train_raw_deskewed = np.array(train_deskewed).reshape((60000, 81))\n",
        "nn_train_raw_deskewed = nn_train_non_deskewed.astype('float32') / 255\n",
        "\n",
        "nn_test_raw_deskewed = np.array(test_deskewed).reshape((10000, 81))\n",
        "nn_test_raw_deskewed = nn_test_non_deskewed.astype('float32') / 255"
      ],
      "execution_count": null,
      "outputs": []
    },
    {
      "cell_type": "code",
      "metadata": {
        "id": "tY-liRIEtOp-"
      },
      "source": [
        "encoded_train_labels = to_categorical(train_labels)\n",
        "encoded_test_labels = to_categorical(test_labels)"
      ],
      "execution_count": null,
      "outputs": []
    },
    {
      "cell_type": "markdown",
      "metadata": {
        "id": "mJro_hRWtVxZ"
      },
      "source": [
        "## Walidacja krzyżowa"
      ]
    },
    {
      "cell_type": "markdown",
      "metadata": {
        "id": "dDS23CnbtXxy"
      },
      "source": [
        "Dane wyrównane"
      ]
    },
    {
      "cell_type": "code",
      "metadata": {
        "id": "GyAypMjdtZeJ"
      },
      "source": [
        "model_deskewed = NeuralNetworkGridSrearch(nn_train_deskewed, encoded_train_labels)"
      ],
      "execution_count": null,
      "outputs": []
    },
    {
      "cell_type": "markdown",
      "metadata": {
        "id": "I9BpoWrQtaI0"
      },
      "source": [
        "Dane niewyrównane"
      ]
    },
    {
      "cell_type": "code",
      "metadata": {
        "id": "vhGOLMW0tcRi"
      },
      "source": [
        "model_non_deskewed = NeuralNetworkGridSrearch(nn_train_non_deskewed, encoded_train_labels)"
      ],
      "execution_count": null,
      "outputs": []
    },
    {
      "cell_type": "markdown",
      "metadata": {
        "id": "6MEBZcQFtcfJ"
      },
      "source": [
        "Dane surowe"
      ]
    },
    {
      "cell_type": "code",
      "metadata": {
        "id": "c2SOsz5ftdf5"
      },
      "source": [
        "model_raw_deskewed = NeuralNetworkGridSrearch(nn_train_raw_deskewed, encoded_train_labels)"
      ],
      "execution_count": null,
      "outputs": []
    },
    {
      "cell_type": "markdown",
      "metadata": {
        "id": "TmTbC6fMtdvx"
      },
      "source": [
        "Zmieszane dane surowe"
      ]
    },
    {
      "cell_type": "code",
      "metadata": {
        "id": "ZcTLpnM5tfdm"
      },
      "source": [
        "# TODO"
      ],
      "execution_count": null,
      "outputs": []
    },
    {
      "cell_type": "markdown",
      "metadata": {
        "id": "4b-3lpguuQ7W"
      },
      "source": [
        "## Trenowanie modelu"
      ]
    },
    {
      "cell_type": "markdown",
      "metadata": {
        "id": "TgZLgn_7uqHx"
      },
      "source": [
        "Dane wyrównane"
      ]
    },
    {
      "cell_type": "code",
      "metadata": {
        "id": "VpKznUcvuT32"
      },
      "source": [
        "network_deskewed.fit(nn_train_deskewed, encoded_train_labels, epochs=model_deskewed.get('epochs'), batch_size=model_deskewed.get('batch_size'))"
      ],
      "execution_count": null,
      "outputs": []
    },
    {
      "cell_type": "markdown",
      "metadata": {
        "id": "y1-noZQ2utGV"
      },
      "source": [
        "Dane niewyrównane"
      ]
    },
    {
      "cell_type": "code",
      "metadata": {
        "id": "vhYOR1UbulAR"
      },
      "source": [
        "network_non_deskewed.fit(nn_train_non_deskewed, encoded_train_labels, epochs=model_non_deskewed.get('epochs'), batch_size=model_non_deskewed.get('batch_size'))"
      ],
      "execution_count": null,
      "outputs": []
    },
    {
      "cell_type": "markdown",
      "metadata": {
        "id": "TqM1vg1Ouvb-"
      },
      "source": [
        "Dane surowe"
      ]
    },
    {
      "cell_type": "code",
      "metadata": {
        "id": "Ew3wGPn-uwby"
      },
      "source": [
        "network_deskewed.fit(nn_train_deskewed, encoded_train_labels, epochs=model_raw_deskewed.get('epochs'), batch_size=model_raw_deskewed.get('batch_size'))"
      ],
      "execution_count": null,
      "outputs": []
    },
    {
      "cell_type": "markdown",
      "metadata": {
        "id": "-sEYabN_uwpJ"
      },
      "source": [
        "Zmieszane dane surowe"
      ]
    },
    {
      "cell_type": "code",
      "metadata": {
        "id": "14NMz82Vuyu7"
      },
      "source": [
        "# TODO"
      ],
      "execution_count": null,
      "outputs": []
    },
    {
      "cell_type": "code",
      "metadata": {
        "id": "nz858Id0vAB1"
      },
      "source": [
        "pred_probabilities_deskewed = network_deskewed.predict(nn_test_deskewed)\n",
        "pred_probabilities_non_deskewed = network_non_deskewed.predict(nn_test_non_deskewed)\n",
        "pred_probabilities_raw_deskewed = network_non_deskewed.predict(nn_test_raw_deskewed)\n",
        "# pred_probabilities_shuffle = \n",
        "\n",
        "pred_labels_deskewed = np.argmax(pred_probabilities_deskewed,-1)\n",
        "pred_labels_non_deskewed = np.argmax(pred_probabilities_non_deskewed,-1)\n",
        "pred_labels_raw_deskewed = np.argmax(pred_probabilities_raw_deskewed,-1)\n",
        "# pred_labels_shuffle = "
      ],
      "execution_count": null,
      "outputs": []
    },
    {
      "cell_type": "markdown",
      "metadata": {
        "id": "KrKDbJKNvcTG"
      },
      "source": [
        "Accuracy"
      ]
    },
    {
      "cell_type": "code",
      "metadata": {
        "id": "ZhXq5UTXvdaL"
      },
      "source": [
        "getAccuracy(test_labels, pred_labels_deskewed,pred_labels_non_deskewed,pred_labels_raw_deskewed)"
      ],
      "execution_count": null,
      "outputs": []
    },
    {
      "cell_type": "markdown",
      "metadata": {
        "id": "IK_t98wJvkc-"
      },
      "source": [
        "Macierz pomyłek"
      ]
    },
    {
      "cell_type": "code",
      "metadata": {
        "id": "6l9yolqnvmoT"
      },
      "source": [
        "getConfMatrix(test_labels, pred_labels_deskewed,pred_labels_non_deskewed,pred_labels_raw_deskewed)"
      ],
      "execution_count": null,
      "outputs": []
    },
    {
      "cell_type": "markdown",
      "metadata": {
        "id": "O5NoLy8fvxVK"
      },
      "source": [
        "Raporty"
      ]
    },
    {
      "cell_type": "code",
      "metadata": {
        "id": "lmorDn0-vyXW"
      },
      "source": [
        "getReports(test_labels, pred_labels_deskewed,pred_labels_non_deskewed,pred_labels_raw_deskewed)"
      ],
      "execution_count": null,
      "outputs": []
    },
    {
      "cell_type": "markdown",
      "metadata": {
        "id": "rscuADrJFRd1"
      },
      "source": [
        "## Wnioski"
      ]
    },
    {
      "cell_type": "markdown",
      "metadata": {
        "id": "cZmJUDN1FTPf"
      },
      "source": [
        "**TODO**"
      ]
    },
    {
      "cell_type": "markdown",
      "metadata": {
        "id": "vlT8yP-6FWHi"
      },
      "source": [
        "# Podsumowanie"
      ]
    },
    {
      "cell_type": "markdown",
      "metadata": {
        "id": "7iu9mC7TFapr"
      },
      "source": [
        "**TODO**"
      ]
    }
  ]
}