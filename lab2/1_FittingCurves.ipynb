{
 "cells": [
  {
   "cell_type": "code",
   "execution_count": 27,
   "metadata": {},
   "outputs": [],
   "source": [
    "import numpy as np\n",
    "import math\n",
    "import matplotlib.pyplot as plt\n",
    "\n",
    "import lmfit\n",
    "from lmfit import Parameters, minimize\n",
    "from lmfit.printfuncs import report_fit"
   ]
  },
  {
   "cell_type": "markdown",
   "metadata": {},
   "source": [
    "# Linear model fitting"
   ]
  },
  {
   "cell_type": "code",
   "execution_count": 49,
   "metadata": {},
   "outputs": [],
   "source": [
    "## Blood Pressure data\n",
    "x = [22, 41, 52, 23, 41, 54, 24, 46, 56, 27, 47, 57, 28, 48, 58,  9, \n",
    "     49, 59, 30, 49, 63, 32, 50, 67, 33, 51, 71, 35, 51, 77, 40, 51, 81]\n",
    "y = [131, 139, 128, 128, 171, 105, 116, 137, 145, 106, 111, 141, 114, \n",
    "     115, 153, 123, 133, 157, 117, 128, 155, 122, 183,\n",
    "     176,  99, 130, 172, 121, 133, 178, 147, 144, 217] \n",
    "x = np.asarray(x, np.float32) \n",
    "y = np.asarray(y, np.float32) "
   ]
  },
  {
   "cell_type": "raw",
   "metadata": {},
   "source": [
    "#################\n",
    "## Simulate some data \n",
    "n = 50\n",
    "np.random.seed(42)\n",
    "x = np.random.normal(0,1,n)\n",
    "y = 1*x + 1 + np.random.normal(0,1,n) "
   ]
  },
  {
   "cell_type": "code",
   "execution_count": 3,
   "metadata": {},
   "outputs": [
    {
     "name": "stdout",
     "output_type": "stream",
     "text": [
      "[[Fit Statistics]]\n",
      "    # fitting method   = leastsq\n",
      "    # function evals   = 10\n",
      "    # data points      = 33\n",
      "    # variables        = 2\n",
      "    chi-square         = 11523.629\n",
      "    reduced chi-square = 371.729965\n",
      "    Akaike info crit   = 197.236362\n",
      "    Bayesian info crit = 200.229377\n",
      "[[Variables]]\n",
      "    a:  1.10505712 +/- 0.20604765 (18.65%) (init = 3)\n",
      "    b:  87.6698357 +/- 10.0795388 (11.50%) (init = 2)\n",
      "[[Correlations]] (unreported correlations are < 0.100)\n",
      "    C(a, b) = -0.943\n"
     ]
    }
   ],
   "source": [
    "def linModel(pars, x, data=None):\n",
    "\n",
    "    model = pars['a'] * x + pars['b']\n",
    "    \n",
    "    if data is None:\n",
    "        return model\n",
    "    \n",
    "    return model - data\n",
    "\n",
    "\n",
    "fit_params = Parameters()\n",
    "fit_params.add('a', value=3., max=10000., min=-10000.)\n",
    "fit_params.add('b', value=2., max=10000.,min=-10000.)\n",
    "\n",
    "model = minimize(linModel, fit_params, args=(x,), kws={'data': y})\n",
    "predictions = linModel(model.params, x)\n",
    "report_fit(model)\n"
   ]
  },
  {
   "cell_type": "code",
   "execution_count": 4,
   "metadata": {},
   "outputs": [
    {
     "name": "stdout",
     "output_type": "stream",
     "text": [
      "intercept =  1.105057123264487 solpe =  87.66983567201896\n",
      "intercept error =  0.20604765094263033 solpe error=  10.079538847459538\n",
      "chi squared =  11523.629\n",
      "reduced chi squared = chi squared/(data_points - number_of_parameters) =  371.72996471774195\n"
     ]
    },
    {
     "data": {
      "image/png": "[encoded data removed]",
      "text/plain": [
       "<Figure size 432x288 with 1 Axes>"
      ]
     },
     "metadata": {
      "needs_background": "light"
     },
     "output_type": "display_data"
    }
   ],
   "source": [
    "print(\"intercept = \",model.params['a'].value,\"solpe = \", model.params['b'].value)\n",
    "print(\"intercept error = \",model.params['a'].stderr,\"solpe error= \", model.params['b'].stderr)\n",
    "print('chi squared = ',model.chisqr)\n",
    "print('reduced chi squared = chi squared/(data_points - number_of_parameters) = ',model.redchi)\n",
    "\n",
    "plt.scatter(x=x,y=y)\n",
    "plt.title(\"simulated data\")\n",
    "plt.xlabel(\"x\")\n",
    "plt.ylabel(\"y\")\n",
    "\n",
    "plt.plot(x, predictions)\n",
    "\n",
    "plt.show()\n"
   ]
  },
  {
   "cell_type": "markdown",
   "metadata": {},
   "source": [
    "$$\n",
    "  grad_a = \\frac{\\partial}{\\partial a}\\frac{1}{n}\\sum_{i=1}^n(a x_i + b - y_i)^2 = \\frac{2}{n}\\sum_{i=1}^n(a x_i + b - y_i) x_i \n",
    "$$\n",
    "\n",
    "\n",
    "$$\n",
    "  grad_b = \\frac{\\partial}{\\partial b}\\frac{1}{n}\\sum_{i=1}^n(a x_i + b - y_i)^2 = \\frac{2}{n}\\sum_{i=1}^n(a x_i + b - y_i)  \n",
    "$$"
   ]
  },
  {
   "cell_type": "code",
   "execution_count": 5,
   "metadata": {},
   "outputs": [
    {
     "name": "stdout",
     "output_type": "stream",
     "text": [
      "a =  3.898751515151515 b =  4.9806060606060605 gard_a =  11012.484848484848 gard_b =  193.93939393939394 loss =  4551.628787878788\n",
      "a =  3.3246526515151515 b =  4.971374183238637 gard_a =  5740.988636363637 gard_b =  92.31877367424242 loss =  2043.9483901515152\n",
      "a =  3.0253574337121214 b =  4.967439779015744 gard_a =  2992.952178030303 gard_b =  39.34404222892992 loss =  1362.4498106060607\n",
      "a =  2.8693176491477272 b =  4.966266933371805 gard_a =  1560.3978456439395 gard_b =  11.72845643939394 loss =  1177.2244318181818\n",
      "a =  2.7879571141098483 b =  4.966533672679555 gard_a =  813.6053503787879 gard_b =  -2.6673930775035513 loss =  1126.8648200757575\n",
      "a =  2.7455267045454543 b =  4.9675508450132435 gard_a =  424.30409564393943 gard_b =  -10.17172333688447 loss =  1113.154356060606\n",
      "a =  2.723390830669981 b =  4.968959203592937 gard_a =  221.35873875473484 gard_b =  -14.083585796934186 loss =  1109.404356060606\n",
      "a =  2.711834444543087 b =  4.970571467220423 gard_a =  115.56386126893939 gard_b =  -16.122636274857953 loss =  1108.360321969697\n",
      "a =  2.705793215849905 b =  4.972290008036296 gard_a =  60.41228693181819 gard_b =  -17.185408158735797 loss =  1108.0522017045455\n",
      "a =  2.702626974949692 b =  4.974063930673311 gard_a =  31.662409002130683 gard_b =  -17.73922637014678 loss =  1107.9441287878788\n",
      "a =  2.700959492261482 b =  4.975866704998595 gard_a =  16.674826882102273 gard_b =  -18.02774325284091 loss =  1107.8901515151515\n",
      "a =  2.7000733291163588 b =  4.977684500445743 gard_a =  8.86163145123106 gard_b =  -18.17795447147254 loss =  1107.8512073863637\n",
      "a =  2.699594385135535 b =  4.97951010543361 gard_a =  4.789439808238637 gard_b =  -18.256049878669508 loss =  1107.8159327651515\n",
      "a =  2.699327749171401 b =  4.981339762416032 gard_a =  2.6663596413352275 gard_b =  -18.29656982421875 loss =  1107.7817234848485\n",
      "a =  2.6991718938654117 b =  4.983171514014043 gard_a =  1.5585530598958335 gard_b =  -18.317515980113637 loss =  1107.748106060606\n",
      "a =  2.6990737589518226 b =  4.985004337796299 gard_a =  0.9813491358901515 gard_b =  -18.328237822561555 loss =  1107.7143702651515\n",
      "a =  2.699005607466264 b =  4.986837698872885 gard_a =  0.6815148555871212 gard_b =  -18.333610765861742 loss =  1107.680634469697\n",
      "a =  2.6989531690192945 b =  4.988671322030734 gard_a =  0.5243844696969697 gard_b =  -18.336231578480113 loss =  1107.6470170454545\n",
      "a =  2.698908875991359 b =  4.990505061710244 gard_a =  0.4429302793560606 gard_b =  -18.337396795099433 loss =  1107.6135179924242\n",
      "a =  2.698868897224195 b =  4.9923388441143635 gard_a =  0.39978767163825757 gard_b =  -18.337824041193183 loss =  1107.5797821969697\n"
     ]
    }
   ],
   "source": [
    "def grad(a,b):\n",
    "    y_hat = a*x + b\n",
    "    n2 = 2.0 / len(x)\n",
    "    return n2*np.sum((y_hat - y)*x) , n2*np.sum((y_hat - y))\n",
    "\n",
    "\n",
    "def loss(a,b):\n",
    "    return 1/len(y)*(np.sum((a*x + b - y)**2))\n",
    "\n",
    "eta = 0.0001\n",
    "a_ = 5\n",
    "b_ = 5\n",
    "loss_ = loss(a_,b_)\n",
    "a_history = a_\n",
    "b_history = b_\n",
    "loss_history= loss_\n",
    "for i in range(2000000):\n",
    "    if i%100000==0:\n",
    "        grad_a, grad_b  = grad(a_,b_)\n",
    "        a_ = a_ - eta * grad_a\n",
    "        b_ = b_ - eta * grad_b\n",
    "        loss_= loss(a_,b_)\n",
    "        a_history =np.append(a_history,a_) \n",
    "        b_history =np.append(b_history,b_) \n",
    "        loss_history =np.append(loss_history,loss_) \n",
    "        print(\"a = \", a_, \"b = \", b_, \"gard_a = \", grad_a, \"gard_b = \", grad_b, \"loss = \", loss_)"
   ]
  },
  {
   "cell_type": "markdown",
   "metadata": {},
   "source": [
    "# Keras model fitting"
   ]
  },
  {
   "cell_type": "code",
   "execution_count": 6,
   "metadata": {},
   "outputs": [],
   "source": [
    "from tensorflow.keras.models import Sequential\n",
    "from tensorflow.keras.layers import Dense, Activation\n",
    "from tensorflow.keras import optimizers"
   ]
  },
  {
   "cell_type": "code",
   "execution_count": 7,
   "metadata": {},
   "outputs": [],
   "source": [
    "\n",
    "model = Sequential()\n",
    "\n",
    "model.add(Dense(1,input_dim=1))\n",
    "model.add(Activation('linear'))\n",
    "opt = optimizers.SGD(lr=0.0004)\n",
    "\n",
    "model.compile(loss='mean_squared_error',optimizer=opt)"
   ]
  },
  {
   "cell_type": "code",
   "execution_count": 8,
   "metadata": {},
   "outputs": [
    {
     "name": "stdout",
     "output_type": "stream",
     "text": [
      "[array([[0.7361063]], dtype=float32), array([0.], dtype=float32)]\n",
      "Model: \"sequential\"\n",
      "_________________________________________________________________\n",
      "Layer (type)                 Output Shape              Param #   \n",
      "=================================================================\n",
      "dense (Dense)                (None, 1)                 2         \n",
      "_________________________________________________________________\n",
      "activation (Activation)      (None, 1)                 0         \n",
      "=================================================================\n",
      "Total params: 2\n",
      "Trainable params: 2\n",
      "Non-trainable params: 0\n",
      "_________________________________________________________________\n"
     ]
    }
   ],
   "source": [
    "w = model.get_weights()\n",
    "print(w)\n",
    "\n",
    "model.summary()"
   ]
  },
  {
   "cell_type": "code",
   "execution_count": 9,
   "metadata": {},
   "outputs": [
    {
     "name": "stdout",
     "output_type": "stream",
     "text": [
      "[[0.]] [139.]\n"
     ]
    }
   ],
   "source": [
    "a=np.array(0,dtype=\"float32\",ndmin=2)\n",
    "b=np.array(139,dtype=\"float32\",ndmin=1)\n",
    "print(a,b)"
   ]
  },
  {
   "cell_type": "code",
   "execution_count": 10,
   "metadata": {},
   "outputs": [
    {
     "name": "stdout",
     "output_type": "stream",
     "text": [
      "2/2 - 0s - loss: 673.4545\n"
     ]
    },
    {
     "data": {
      "text/plain": [
       "673.4545288085938"
      ]
     },
     "execution_count": 10,
     "metadata": {},
     "output_type": "execute_result"
    }
   ],
   "source": [
    "model.set_weights([a,b])\n",
    "model.evaluate(x,y,verbose=2)"
   ]
  },
  {
   "cell_type": "code",
   "execution_count": 62,
   "metadata": {},
   "outputs": [
    {
     "name": "stdout",
     "output_type": "stream",
     "text": [
      "Epoch: 5000 slope= 0.47003523 intercept= 120.61076 MSE= 469.57272\n",
      "Epoch: 10000 slope= 0.6975451 intercept= 108.80889 MSE= 398.76883\n",
      "Epoch: 15000 slope= 0.84354 intercept= 101.23554 MSE= 369.61255\n",
      "Epoch: 20000 slope= 0.93722606 intercept= 96.37567 MSE= 357.60617\n",
      "Epoch: 25000 slope= 0.9973445 intercept= 93.25709 MSE= 352.66223\n",
      "Epoch: 30000 slope= 1.0359242 intercept= 91.25578 MSE= 350.62625\n",
      "Epoch: 35000 slope= 1.0606792 intercept= 89.97166 MSE= 349.7879\n",
      "Epoch: 40000 slope= 1.076562 intercept= 89.14775 MSE= 349.4427\n",
      "Epoch: 45000 slope= 1.0867506 intercept= 88.61922 MSE= 349.30048\n",
      "Epoch: 50000 slope= 1.093286 intercept= 88.280205 MSE= 349.242\n",
      "Epoch: 55000 slope= 1.0975139 intercept= 88.06088 MSE= 349.21765\n",
      "Epoch: 60000 slope= 1.1001546 intercept= 87.9239 MSE= 349.20795\n",
      "Epoch: 65000 slope= 1.1018678 intercept= 87.83504 MSE= 349.20386\n",
      "Epoch: 70000 slope= 1.1029379 intercept= 87.77952 MSE= 349.20215\n",
      "Epoch: 75000 slope= 1.1036732 intercept= 87.74137 MSE= 349.2014\n",
      "Epoch: 80000 slope= 1.1041985 intercept= 87.71413 MSE= 349.2011\n"
     ]
    }
   ],
   "source": [
    "for i in range(0,int(80000/5000)):\n",
    "    model.fit(x=x,y=y,batch_size=33,epochs=5000,verbose = 0)\n",
    "    a,b=model.get_weights()\n",
    "    mse=np.mean(np.square(model.predict(x).reshape(len(x),)-y))\n",
    "    print(\"Epoch:\",i*5000+5000,\"slope=\",a[0][0],\"intercept=\",b[0],\"MSE=\",mse)"
   ]
  },
  {
   "cell_type": "markdown",
   "metadata": {},
   "source": [
    "# Predicting uncertainties"
   ]
  },
  {
   "cell_type": "code",
   "execution_count": 17,
   "metadata": {},
   "outputs": [],
   "source": [
    "def create_sine_data(n = 300):\n",
    "    np.random.seed(32)\n",
    "    n = 300\n",
    "    x = np.linspace(0,1*2*np.pi,n)\n",
    "    y1 = 3*np.sin(x)\n",
    "    y1 = np.concatenate((np.zeros(60), y1+np.random.normal(0,0.15*np.abs(y1),n),np.zeros(60)))\n",
    "    x=np.concatenate((np.linspace(-3,0,60),np.linspace(0,3*2*np.pi,n),np.linspace(3*2*np.pi,3*2*np.pi+3,60)))\n",
    "    y2 = 0.1*x+1\n",
    "    y=y1+y2\n",
    "    return x,y"
   ]
  },
  {
   "cell_type": "code",
   "execution_count": 18,
   "metadata": {},
   "outputs": [
    {
     "data": {
      "image/png": "[encoded data removed]",
      "text/plain": [
       "<Figure size 432x288 with 1 Axes>"
      ]
     },
     "metadata": {
      "needs_background": "light"
     },
     "output_type": "display_data"
    }
   ],
   "source": [
    "x,y = create_sine_data(n=300) #A\n",
    "plt.scatter(x=x,y=y,marker='o')\n",
    "plt.title(\"simulated data\")\n",
    "plt.xlabel(\"x\")\n",
    "plt.ylabel(\"y\")\n",
    "n=len(x)"
   ]
  },
  {
   "cell_type": "code",
   "execution_count": 29,
   "metadata": {},
   "outputs": [],
   "source": [
    "model = Sequential()\n",
    "model.add(Dense(20, activation='relu',\n",
    "                batch_input_shape=(None, 1)))\n",
    "model.add(Dense(50, activation='relu'))\n",
    "model.add(Dense(20, activation='relu'))\n",
    "model.add(Dense(1, activation='linear'))\n",
    "model.compile(loss='mean_squared_error',optimizer=\"adam\")"
   ]
  },
  {
   "cell_type": "code",
   "execution_count": 30,
   "metadata": {},
   "outputs": [
    {
     "name": "stdout",
     "output_type": "stream",
     "text": [
      "Model: \"sequential_4\"\n",
      "_________________________________________________________________\n",
      "Layer (type)                 Output Shape              Param #   \n",
      "=================================================================\n",
      "dense_13 (Dense)             (None, 20)                40        \n",
      "_________________________________________________________________\n",
      "dense_14 (Dense)             (None, 50)                1050      \n",
      "_________________________________________________________________\n",
      "dense_15 (Dense)             (None, 20)                1020      \n",
      "_________________________________________________________________\n",
      "dense_16 (Dense)             (None, 1)                 21        \n",
      "=================================================================\n",
      "Total params: 2,131\n",
      "Trainable params: 2,131\n",
      "Non-trainable params: 0\n",
      "_________________________________________________________________\n"
     ]
    }
   ],
   "source": [
    "model.summary()"
   ]
  },
  {
   "cell_type": "code",
   "execution_count": null,
   "metadata": {},
   "outputs": [],
   "source": [
    "history=model.fit(x, y, \n",
    "                  batch_size=16, \n",
    "                  epochs=1000,\n",
    "                  verbose=True, \n",
    "                 )"
   ]
  },
  {
   "cell_type": "code",
   "execution_count": 33,
   "metadata": {},
   "outputs": [
    {
     "name": "stdout",
     "output_type": "stream",
     "text": [
      "2/2 - 0s - loss: 772.6802\n"
     ]
    },
    {
     "data": {
      "image/png": "[encoded data removed]",
      "text/plain": [
       "<Figure size 432x288 with 1 Axes>"
      ]
     },
     "metadata": {
      "needs_background": "light"
     },
     "output_type": "display_data"
    }
   ],
   "source": [
    "# evaluation of the MSE loss\n",
    "model.evaluate(x,y,verbose=2)\n",
    "\n",
    "# show the data along with the fit\n",
    "plt.scatter(x=x,y=y,marker='o')\n",
    "plt.plot(np.linspace(0,90,5),model.predict(np.linspace(0,90,5)),c=\"black\")\n",
    "plt.title(\"simulated data\")\n",
    "plt.xlabel(\"x\")\n",
    "plt.ylabel(\"y\")\n",
    "plt.show()\n"
   ]
  },
  {
   "cell_type": "code",
   "execution_count": 34,
   "metadata": {},
   "outputs": [],
   "source": [
    "import tensorflow as tf\n",
    "import math\n",
    "\n",
    "def my_NLL_loss(y_true,y_pred):\n",
    "    mu=tf.slice(y_pred,[0,0],[-1,1])              # A     \n",
    "    sigma=tf.math.exp(tf.slice(y_pred,[0,1],[-1,1]))   # B \n",
    "\n",
    "    a=1/(tf.sqrt(2.*math.pi)*sigma) \n",
    "    b1=tf.square(mu-y_true)\n",
    "    b2=2*tf.square(sigma)\n",
    "    b=b1/b2\n",
    "\n",
    "    loss = tf.reduce_sum(-tf.math.log(a)+b,axis=0)\n",
    "    return loss\n",
    "\n",
    "#A extract first column for μ \n",
    "#B extract second column for σ"
   ]
  },
  {
   "cell_type": "code",
   "execution_count": 35,
   "metadata": {},
   "outputs": [
    {
     "name": "stdout",
     "output_type": "stream",
     "text": [
      "Model: \"sequential_5\"\n",
      "_________________________________________________________________\n",
      "Layer (type)                 Output Shape              Param #   \n",
      "=================================================================\n",
      "dense_17 (Dense)             (None, 20)                40        \n",
      "_________________________________________________________________\n",
      "dense_18 (Dense)             (None, 50)                1050      \n",
      "_________________________________________________________________\n",
      "dense_19 (Dense)             (None, 20)                1020      \n",
      "_________________________________________________________________\n",
      "dense_20 (Dense)             (None, 2)                 42        \n",
      "=================================================================\n",
      "Total params: 2,152\n",
      "Trainable params: 2,152\n",
      "Non-trainable params: 0\n",
      "_________________________________________________________________\n"
     ]
    }
   ],
   "source": [
    "model =  Sequential()\n",
    "model.add(Dense(20, activation='relu',batch_input_shape=(None, 1)))\n",
    "model.add(Dense(50, activation='relu'))\n",
    "model.add(Dense(20, activation='relu'))\n",
    "model.add(Dense(2, activation='linear'))\n",
    "\n",
    "model.compile(loss=my_NLL_loss,optimizer=\"adam\",metrics=[my_NLL_loss])\n",
    "model.summary()"
   ]
  },
  {
   "cell_type": "code",
   "execution_count": null,
   "metadata": {},
   "outputs": [],
   "source": [
    "history=model.fit(x, y, \n",
    "                  batch_size=16, \n",
    "                  epochs=1000,\n",
    "                  verbose=True\n",
    "                 )"
   ]
  },
  {
   "cell_type": "code",
   "execution_count": 37,
   "metadata": {},
   "outputs": [
    {
     "data": {
      "image/png": "[encoded data removed]",
      "text/plain": [
       "<Figure size 432x288 with 1 Axes>"
      ]
     },
     "metadata": {
      "needs_background": "light"
     },
     "output_type": "display_data"
    }
   ],
   "source": [
    "x_pred=np.linspace(0,90,5).reshape(-1,1)\n",
    "pred_mu=model.predict(np.linspace(0,90,5).reshape(-1,1))[:,0]\n",
    "pred_log_sigma=model.predict(np.linspace(0,90,5).reshape(-1,1))[:,1]\n",
    "plt.scatter(x,y,marker='o')\n",
    "plt.plot(x_pred,pred_mu,c=\"black\")\n",
    "\n",
    "pred_1_sd_p = pred_mu+(np.exp(pred_log_sigma))\n",
    "pred_1_sd_m = pred_mu-(np.exp(pred_log_sigma))\n",
    "\n",
    "plt.plot(x_pred,pred_1_sd_p, 'b', linewidth=0.5)\n",
    "plt.plot(x_pred,pred_1_sd_m, 'b', linewidth=0.5)\n",
    "\n",
    "pred_2_sd_p = pred_mu+2*(np.exp(pred_log_sigma))\n",
    "pred_2_sd_m = pred_mu-2*(np.exp(pred_log_sigma))\n",
    "\n",
    "plt.plot(x_pred,pred_2_sd_p, 'b', linewidth=0.5)\n",
    "plt.plot(x_pred,pred_2_sd_m, 'b', linewidth=0.5)\n",
    "\n",
    "plt.plot(x_pred,pred_mu+2*(np.exp(pred_log_sigma)), 'b', linewidth=0.5)\n",
    "plt.plot(x_pred,pred_mu-2*(np.exp(pred_log_sigma)), 'b', linewidth=0.5)\n",
    "\n",
    "plt.fill(np.concatenate([x_pred, x_pred[::-1]]),\n",
    "         np.concatenate([pred_2_sd_p,\n",
    "                         pred_2_sd_m[::-1]]),alpha=0.3, fc='lightskyblue', ec='None')\n",
    "plt.fill(np.concatenate([x_pred, x_pred[::-1]]),\n",
    "         np.concatenate([pred_1_sd_p,\n",
    "                         pred_1_sd_m[::-1]]),alpha=0.3, fc='deepskyblue', ec='None')\n",
    "plt.title(\"simulated data\")\n",
    "plt.xlabel(\"x\")\n",
    "plt.ylabel(\"y\")\n",
    "plt.show()"
   ]
  },
  {
   "cell_type": "code",
   "execution_count": null,
   "metadata": {},
   "outputs": [],
   "source": []
  }
 ],
 "metadata": {
  "kernelspec": {
   "display_name": "Python 3",
   "language": "python",
   "name": "python3"
  },
  "language_info": {
   "codemirror_mode": {
    "name": "ipython",
    "version": 3
   },
   "file_extension": ".py",
   "mimetype": "text/x-python",
   "name": "python",
   "nbconvert_exporter": "python",
   "pygments_lexer": "ipython3",
   "version": "3.6.10"
  }
 },
 "nbformat": 4,
 "nbformat_minor": 4
}
