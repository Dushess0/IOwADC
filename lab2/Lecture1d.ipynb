{
 "cells": [
  {
   "cell_type": "markdown",
   "metadata": {
    "colab_type": "text",
    "id": "sOWzyjxvP5GZ"
   },
   "source": [
    "# Data\n",
    "\n",
    "![alt text](https://sites.google.com/site/zbislawtabor/dydaktyka/ml/Fig9.png)\n",
    "\n",
    "# Fully connected architecture\n",
    "\n",
    "![alt text](https://sites.google.com/site/zbislawtabor/dydaktyka/ml/Fig10.png)\n",
    "\n",
    "# Weights\n",
    "\n",
    "![alt text](https://sites.google.com/site/zbislawtabor/dydaktyka/ml/Fig11.png)\n"
   ]
  },
  {
   "cell_type": "code",
   "execution_count": 1,
   "metadata": {
    "colab": {},
    "colab_type": "code",
    "id": "gCobY11zMn-E"
   },
   "outputs": [],
   "source": [
    "import numpy as np\n",
    "\n",
    "class NeuralNetwork:\n",
    "\tdef __init__(self, layers, alpha=0.1):\n",
    "\t\t# initialize the list of weights matrices, then store the\n",
    "\t\t# network architecture and learning rate\n",
    "\t\tself.W = []\n",
    "\t\tself.layers = layers\n",
    "\t\tself.alpha = alpha\n",
    "\n",
    "\t\t# start looping from the index of the first layer but\n",
    "\t\t# stop before we reach the last two layers\n",
    "\t\tfor i in np.arange(0, len(layers) - 2):\n",
    "\t\t\t# randomly initialize a weight matrix connecting the\n",
    "\t\t\t# number of nodes in each respective layer together,\n",
    "\t\t\t# adding an extra node for the bias\n",
    "\t\t\tw = np.random.randn(layers[i] + 1, layers[i + 1] + 1)\n",
    "\t\t\tself.W.append(w / np.sqrt(layers[i]))\n",
    "\n",
    "\t\t# the last two layers are a special case where the input\n",
    "\t\t# connections need a bias term but the output does not\n",
    "\t\tw = np.random.randn(layers[-2] + 1, layers[-1])\n",
    "\t\tself.W.append(w / np.sqrt(layers[-2]))\n",
    "\n",
    "\tdef __repr__(self):\n",
    "\t\t# construct and return a string that represents the network\n",
    "\t\t# architecture\n",
    "\t\treturn \"NeuralNetwork: {}\".format(\n",
    "\t\t\t\"-\".join(str(l) for l in self.layers))\n",
    "\n",
    "\tdef sigmoid(self, x):\n",
    "\t\t# compute and return the sigmoid activation value for a\n",
    "\t\t# given input value\n",
    "\t\treturn 1.0 / (1 + np.exp(-x))\n",
    "\n",
    "\tdef sigmoid_deriv(self, x):\n",
    "\t\t# compute the derivative of the sigmoid function ASSUMING\n",
    "\t\t# that `x` has already been passed through the `sigmoid`\n",
    "\t\t# function\n",
    "\t\treturn x * (1 - x)\n",
    "\n",
    "\tdef fit(self, X, y, epochs=1000, displayUpdate=100):\n",
    "\t\t# insert a column of 1's as the last entry in the feature\n",
    "\t\t# matrix -- this little trick allows us to treat the bias\n",
    "\t\t# as a trainable parameter within the weight matrix\n",
    "\t\tX = np.c_[X, np.ones((X.shape[0]))]\n",
    "\n",
    "\t\t# loop over the desired number of epochs\n",
    "\t\tfor epoch in np.arange(0, epochs):\n",
    "\t\t\t# loop over each individual data point and train\n",
    "\t\t\t# our network on it\n",
    "\t\t\tfor (x, target) in zip(X, y):\n",
    "\t\t\t\tself.fit_partial(x, target)\n",
    "\n",
    "\t\t\t# check to see if we should display a training update\n",
    "\t\t\tif epoch == 0 or (epoch + 1) % displayUpdate == 0:\n",
    "\t\t\t\tloss = self.calculate_loss(X, y)\n",
    "\t\t\t\tprint(\"[INFO] epoch={}, loss={:.7f}\".format(\n",
    "\t\t\t\t\tepoch + 1, loss))\n",
    "\n",
    "\tdef fit_partial(self, x, y):\n",
    "\t\t# construct our list of output activations for each layer\n",
    "\t\t# as our data point flows through the network; the first\n",
    "\t\t# activation is a special case -- it's just the input\n",
    "\t\t# feature vector itself\n",
    "\t\tA = [np.atleast_2d(x)]\n",
    "\n",
    "\t\t# FEEDFORWARD:\n",
    "\t\t# loop over the layers in the network\n",
    "\t\tfor layer in np.arange(0, len(self.W)):\n",
    "\t\t\t# feedforward the activation at the current layer by\n",
    "\t\t\t# taking the dot product between the activation and\n",
    "\t\t\t# the weight matrix -- this is called the \"net input\"\n",
    "\t\t\t# to the current layer\n",
    "\t\t\tnet = A[layer].dot(self.W[layer])\n",
    "\n",
    "\t\t\t# computing the \"net output\" is simply applying our\n",
    "\t\t\t# non-linear activation function to the net input\n",
    "\t\t\tout = self.sigmoid(net)\n",
    "\n",
    "\t\t\t# once we have the net output, add it to our list of\n",
    "\t\t\t# activations\n",
    "\t\t\tA.append(out)\n",
    "\n",
    "\t\t# BACKPROPAGATION\n",
    "\t\t# the first phase of backpropagation is to compute the\n",
    "\t\t# difference between our *prediction* (the final output\n",
    "\t\t# activation in the activations list) and the true target\n",
    "\t\t# value\n",
    "\t\terror = A[-1] - y\n",
    "\n",
    "\t\t# from here, we need to apply the chain rule and build our\n",
    "\t\t# list of deltas `D`; the first entry in the deltas is\n",
    "\t\t# simply the error of the output layer times the derivative\n",
    "\t\t# of our activation function for the output value\n",
    "\t\tD = [error * self.sigmoid_deriv(A[-1])]\n",
    "\n",
    "\t\t# once you understand the chain rule it becomes super easy\n",
    "\t\t# to implement with a `for` loop -- simply loop over the\n",
    "\t\t# layers in reverse order (ignoring the last two since we\n",
    "\t\t# already have taken them into account)\n",
    "\t\tfor layer in np.arange(len(A) - 2, 0, -1):\n",
    "\t\t\t# the delta for the current layer is equal to the delta\n",
    "\t\t\t# of the *previous layer* dotted with the weight matrix\n",
    "\t\t\t# of the current layer, followed by multiplying the delta\n",
    "\t\t\t# by the derivative of the non-linear activation function\n",
    "\t\t\t# for the activations of the current layer\n",
    "\t\t\tdelta = D[-1].dot(self.W[layer].T)\n",
    "\t\t\tdelta = delta * self.sigmoid_deriv(A[layer])\n",
    "\t\t\tD.append(delta)\n",
    "\n",
    "\t\t# since we looped over our layers in reverse order we need to\n",
    "\t\t# reverse the deltas\n",
    "\t\tD = D[::-1]\n",
    "\n",
    "\t\t# WEIGHT UPDATE PHASE\n",
    "\t\t# loop over the layers\n",
    "\t\tfor layer in np.arange(0, len(self.W)):\n",
    "\t\t\t# update our weights by taking the dot product of the layer\n",
    "\t\t\t# activations with their respective deltas, then multiplying\n",
    "\t\t\t# this value by some small learning rate and adding to our\n",
    "\t\t\t# weight matrix -- this is where the actual \"learning\" takes\n",
    "\t\t\t# place\n",
    "\t\t\tself.W[layer] += -self.alpha * A[layer].T.dot(D[layer])\n",
    "\n",
    "\tdef predict(self, X, addBias=True):\n",
    "\t\t# initialize the output prediction as the input features -- this\n",
    "\t\t# value will be (forward) propagated through the network to\n",
    "\t\t# obtain the final prediction\n",
    "\t\tp = np.atleast_2d(X)\n",
    "\n",
    "\t\t# check to see if the bias column should be added\n",
    "\t\tif addBias:\n",
    "\t\t\t# insert a column of 1's as the last entry in the feature\n",
    "\t\t\t# matrix (bias)\n",
    "\t\t\tp = np.c_[p, np.ones((p.shape[0]))]\n",
    "\n",
    "\t\t# loop over our layers in the network\n",
    "\t\tfor layer in np.arange(0, len(self.W)):\n",
    "\t\t\t# computing the output prediction is as simple as taking\n",
    "\t\t\t# the dot product between the current activation value `p`\n",
    "\t\t\t# and the weight matrix associated with the current layer,\n",
    "\t\t\t# then passing this value through a non-linear activation\n",
    "\t\t\t# function\n",
    "\t\t\tp = self.sigmoid(np.dot(p, self.W[layer]))\n",
    "\n",
    "\t\t# return the predicted value\n",
    "\t\treturn p\n",
    "\n",
    "\tdef calculate_loss(self, X, targets):\n",
    "\t\t# make predictions for the input data points then compute\n",
    "\t\t# the loss\n",
    "\t\ttargets = np.atleast_2d(targets)\n",
    "\t\tpredictions = self.predict(X, addBias=False)\n",
    "\t\tloss = 0.5 * np.sum((predictions - targets) ** 2)\n",
    "\n",
    "\t\t# return the loss\n",
    "\t\treturn loss"
   ]
  },
  {
   "cell_type": "code",
   "execution_count": 2,
   "metadata": {
    "colab": {
     "base_uri": "https://localhost:8080/",
     "height": 35
    },
    "colab_type": "code",
    "executionInfo": {
     "elapsed": 736,
     "status": "ok",
     "timestamp": 1583403768078,
     "user": {
      "displayName": "Zbisław Tabor",
      "photoUrl": "https://lh3.googleusercontent.com/a-/AOh14GihHgliefc3mumKqaCxhwnyI891sHQDAZ2h7sAhfw=s64",
      "userId": "16921256151317999512"
     },
     "user_tz": -60
    },
    "id": "M2PFh1vVN9pm",
    "outputId": "b92bb3ba-0c6f-49be-e857-6c81f17f6509"
   },
   "outputs": [
    {
     "name": "stdout",
     "output_type": "stream",
     "text": [
      "[INFO] loading MNIST (sample) dataset...\n"
     ]
    }
   ],
   "source": [
    "from sklearn.preprocessing import LabelBinarizer\n",
    "from sklearn.model_selection import train_test_split\n",
    "from sklearn.metrics import classification_report\n",
    "from sklearn import datasets\n",
    "\n",
    "# load the MNIST dataset and apply min/max scaling to scale the\n",
    "# pixel intensity values to the range [0, 1] (each image is\n",
    "# represented by an 8 x 8 = 64-dim feature vector)\n",
    "print(\"[INFO] loading MNIST (sample) dataset...\")\n",
    "digits = datasets.load_digits()"
   ]
  },
  {
   "cell_type": "code",
   "execution_count": 3,
   "metadata": {
    "colab": {
     "base_uri": "https://localhost:8080/",
     "height": 411
    },
    "colab_type": "code",
    "executionInfo": {
     "elapsed": 612,
     "status": "ok",
     "timestamp": 1583403971206,
     "user": {
      "displayName": "Zbisław Tabor",
      "photoUrl": "https://lh3.googleusercontent.com/a-/AOh14GihHgliefc3mumKqaCxhwnyI891sHQDAZ2h7sAhfw=s64",
      "userId": "16921256151317999512"
     },
     "user_tz": -60
    },
    "id": "VP2OVPTDOFj2",
    "outputId": "0dd68ae7-c955-40b8-da28-ec199138ff83"
   },
   "outputs": [
    {
     "name": "stdout",
     "output_type": "stream",
     "text": [
      "(64,)\n",
      "1\n"
     ]
    },
    {
     "data": {
      "image/png": "[encoded data removed]",
      "text/plain": [
       "<Figure size 432x432 with 1 Axes>"
      ]
     },
     "metadata": {
      "needs_background": "light"
     },
     "output_type": "display_data"
    }
   ],
   "source": [
    "import matplotlib.pyplot as plt\n",
    "def showOpencvImage(image, isGray=False):\n",
    "    fig = plt.figure(figsize=(6, 6))\n",
    "    plt.imshow(image, cmap = 'gray')\n",
    "    plt.show()\n",
    "\n",
    "print(digits.data[0].shape)\n",
    "print(digits.target[1])\n",
    "im = np.reshape(digits.data[1],(8,-1))\n",
    "showOpencvImage(im)"
   ]
  },
  {
   "cell_type": "code",
   "execution_count": 4,
   "metadata": {
    "colab": {
     "base_uri": "https://localhost:8080/",
     "height": 623
    },
    "colab_type": "code",
    "executionInfo": {
     "elapsed": 98073,
     "status": "ok",
     "timestamp": 1583403626240,
     "user": {
      "displayName": "Zbisław Tabor",
      "photoUrl": "https://lh3.googleusercontent.com/a-/AOh14GihHgliefc3mumKqaCxhwnyI891sHQDAZ2h7sAhfw=s64",
      "userId": "16921256151317999512"
     },
     "user_tz": -60
    },
    "id": "jhoyURn4M4Uv",
    "outputId": "20924bd4-90f4-42cb-958e-30221d9d4cda"
   },
   "outputs": [
    {
     "name": "stdout",
     "output_type": "stream",
     "text": [
      "[INFO] samples: 1797, dim: 64\n",
      "[INFO] training network...\n",
      "[INFO] NeuralNetwork: 64-32-16-10\n",
      "[INFO] epoch=1, loss=605.6280907\n",
      "[INFO] epoch=100, loss=9.5810016\n",
      "[INFO] epoch=200, loss=4.5653759\n",
      "[INFO] epoch=300, loss=3.1494275\n",
      "[INFO] epoch=400, loss=1.4561026\n",
      "[INFO] epoch=500, loss=1.3003318\n",
      "[INFO] epoch=600, loss=1.2250110\n",
      "[INFO] epoch=700, loss=1.1795966\n",
      "[INFO] epoch=800, loss=1.1491544\n",
      "[INFO] epoch=900, loss=1.1273399\n",
      "[INFO] epoch=1000, loss=1.1109575\n",
      "[INFO] evaluating network...\n",
      "              precision    recall  f1-score   support\n",
      "\n",
      "           0       1.00      0.98      0.99        51\n",
      "           1       0.94      0.96      0.95        52\n",
      "           2       0.91      1.00      0.95        42\n",
      "           3       1.00      0.96      0.98        53\n",
      "           4       0.97      1.00      0.99        37\n",
      "           5       1.00      0.95      0.97        41\n",
      "           6       0.97      1.00      0.99        39\n",
      "           7       0.98      1.00      0.99        41\n",
      "           8       0.95      0.89      0.92        45\n",
      "           9       0.98      0.98      0.98        49\n",
      "\n",
      "    accuracy                           0.97       450\n",
      "   macro avg       0.97      0.97      0.97       450\n",
      "weighted avg       0.97      0.97      0.97       450\n",
      "\n"
     ]
    }
   ],
   "source": [
    "data = digits.data.astype(\"float\")\n",
    "data = (data - data.min()) / (data.max() - data.min())\n",
    "print(\"[INFO] samples: {}, dim: {}\".format(data.shape[0],\n",
    "\tdata.shape[1]))\n",
    "\n",
    "# construct the training and testing splits\n",
    "(trainX, testX, trainY, testY) = train_test_split(data,\n",
    "\tdigits.target, test_size=0.25)\n",
    "\n",
    "# convert the labels from integers to vectors\n",
    "trainY = LabelBinarizer().fit_transform(trainY)\n",
    "testY = LabelBinarizer().fit_transform(testY)\n",
    "\n",
    "# train the network\n",
    "print(\"[INFO] training network...\")\n",
    "nn = NeuralNetwork([trainX.shape[1], 32, 16, 10])\n",
    "print(\"[INFO] {}\".format(nn))\n",
    "nn.fit(trainX, trainY, epochs=1000)\n",
    "\n",
    "# evaluate the network\n",
    "print(\"[INFO] evaluating network...\")\n",
    "predictions = nn.predict(testX)\n",
    "predictions = predictions.argmax(axis=1)\n",
    "print(classification_report(testY.argmax(axis=1), predictions))"
   ]
  },
  {
   "cell_type": "code",
   "execution_count": null,
   "metadata": {},
   "outputs": [],
   "source": []
  }
 ],
 "metadata": {
  "colab": {
   "authorship_tag": "ABX9TyPKZVoBKnHXar6pn4mvXvP0",
   "collapsed_sections": [],
   "name": "Lecture1d.ipynb",
   "provenance": []
  },
  "kernelspec": {
   "display_name": "Python 3",
   "language": "python",
   "name": "python3"
  },
  "language_info": {
   "codemirror_mode": {
    "name": "ipython",
    "version": 3
   },
   "file_extension": ".py",
   "mimetype": "text/x-python",
   "name": "python",
   "nbconvert_exporter": "python",
   "pygments_lexer": "ipython3",
   "version": "3.6.10"
  }
 },
 "nbformat": 4,
 "nbformat_minor": 4
}
