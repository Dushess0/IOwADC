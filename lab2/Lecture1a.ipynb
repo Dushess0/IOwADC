{
 "cells": [
  {
   "cell_type": "markdown",
   "metadata": {
    "colab_type": "text",
    "id": "FaNFXYvetmTc"
   },
   "source": [
    "The problem we are trying to solve here is to classify grayscale images of handwritten digits (28 pixels by 28 pixels), into their 10 \n",
    "categories (0 to 9). The dataset we will use is the MNIST dataset, a classic dataset in the machine learning community, which has been \n",
    "around for almost as long as the field itself and has been very intensively studied. It's a set of 60,000 training images, plus 10,000 test \n",
    "images, assembled by the National Institute of Standards and Technology (the NIST in MNIST) in the 1980s. You can think of \"solving\" MNIST \n",
    "as the \"Hello World\" of deep learning -- it's what you do to verify that your algorithms are working as expected. As you become a machine \n",
    "learning practitioner, you will see MNIST come up over and over again, in scientific papers, blog posts, and so on."
   ]
  },
  {
   "cell_type": "code",
   "execution_count": 21,
   "metadata": {
    "colab": {},
    "colab_type": "code",
    "id": "xpCGHhYWrLEi"
   },
   "outputs": [],
   "source": [
    "import cv2\n",
    "import numpy as np\n",
    "import matplotlib.pyplot as plt"
   ]
  },
  {
   "cell_type": "code",
   "execution_count": 22,
   "metadata": {
    "colab": {},
    "colab_type": "code",
    "id": "qN2OlmW3rUll"
   },
   "outputs": [],
   "source": [
    "## [deskew]\n",
    "SZ=28\n",
    "affine_flags = cv2.WARP_INVERSE_MAP|cv2.INTER_LINEAR\n",
    "\n",
    "def deskew(img):\n",
    "    m = cv2.moments(img)\n",
    "    if abs(m['mu02']) < 1e-2:\n",
    "        return img.copy()\n",
    "    skew = m['mu11']/m['mu02']\n",
    "    M = np.float32([[1, skew, -0.5*SZ*skew], [0, 1, 0]])\n",
    "    img = cv2.warpAffine(img,M,(SZ, SZ),flags=affine_flags)\n",
    "    return img\n",
    "## [deskew]\n"
   ]
  },
  {
   "cell_type": "code",
   "execution_count": 23,
   "metadata": {
    "colab": {},
    "colab_type": "code",
    "id": "UvIsa5nzrbzK"
   },
   "outputs": [],
   "source": [
    "def showOpencvImage(image, isGray=False):\n",
    "    fig = plt.figure(figsize=(6, 6))\n",
    "    plt.imshow(image, cmap = 'gray')\n",
    "    plt.show()"
   ]
  },
  {
   "cell_type": "code",
   "execution_count": 24,
   "metadata": {
    "colab": {},
    "colab_type": "code",
    "id": "kegBUVlCrepj"
   },
   "outputs": [],
   "source": [
    "def openCVHOG(im):\n",
    "    winSize = (20,20)\n",
    "    blockSize = (10,10)\n",
    "    blockStride = (5,5)\n",
    "    cellSize = (10,10)\n",
    "    nbins = 9\n",
    "    derivAperture = 1\n",
    "    winSigma = -1.\n",
    "    histogramNormType = 0\n",
    "    L2HysThreshold = 0.2\n",
    "    gammaCorrection = 1\n",
    "    nlevels = 64\n",
    "    signedGradients = True\n",
    "\n",
    "    hog = cv2.HOGDescriptor(winSize,blockSize,blockStride,cellSize,nbins,derivAperture,winSigma,histogramNormType,L2HysThreshold,gammaCorrection,nlevels, signedGradients)\n",
    "    descriptor = np.ravel(hog.compute(im))\n",
    "    \n",
    "    return descriptor"
   ]
  },
  {
   "cell_type": "markdown",
   "metadata": {
    "colab_type": "text",
    "id": "pdrhgmwhtuaa"
   },
   "source": [
    "The **MNIST dataset comes pre-loaded in Keras**, in the form of a set of four Numpy arrays:"
   ]
  },
  {
   "cell_type": "code",
   "execution_count": 25,
   "metadata": {
    "colab": {},
    "colab_type": "code",
    "id": "2xkMAbtsrhnc"
   },
   "outputs": [],
   "source": [
    "from keras.datasets import mnist\n",
    "\n",
    "(train_images, train_labels), (test_images, test_labels) = mnist.load_data()"
   ]
  },
  {
   "cell_type": "code",
   "execution_count": 26,
   "metadata": {
    "colab": {
     "base_uri": "https://localhost:8080/",
     "height": 783
    },
    "colab_type": "code",
    "executionInfo": {
     "elapsed": 2555,
     "status": "ok",
     "timestamp": 1583345173718,
     "user": {
      "displayName": "Zbisław Tabor",
      "photoUrl": "https://lh3.googleusercontent.com/a-/AOh14GihHgliefc3mumKqaCxhwnyI891sHQDAZ2h7sAhfw=s64",
      "userId": "16921256151317999512"
     },
     "user_tz": -60
    },
    "id": "oNHSPTM3rnHx",
    "outputId": "310632a2-e4f9-4f44-ee2a-4e992699d573"
   },
   "outputs": [
    {
     "output_type": "stream",
     "name": "stdout",
     "text": [
      "70000\n"
     ]
    },
    {
     "output_type": "display_data",
     "data": {
      "text/plain": "<Figure size 432x432 with 1 Axes>",
      "image/svg+xml": "<?xml version=\"1.0\" encoding=\"utf-8\" standalone=\"no\"?>\r\n<!DOCTYPE svg PUBLIC \"-//W3C//DTD SVG 1.1//EN\"\r\n  \"http://www.w3.org/Graphics/SVG/1.1/DTD/svg11.dtd\">\r\n<!-- Created with matplotlib (https://matplotlib.org/) -->\r\n<svg height=\"357.238125pt\" version=\"1.1\" viewBox=\"0 0 360.285 357.238125\" width=\"360.285pt\" xmlns=\"http://www.w3.org/2000/svg\" xmlns:xlink=\"http://www.w3.org/1999/xlink\">\r\n <metadata>\r\n  <rdf:RDF xmlns:cc=\"http://creativecommons.org/ns#\" xmlns:dc=\"http://purl.org/dc/elements/1.1/\" xmlns:rdf=\"http://www.w3.org/1999/02/22-rdf-syntax-ns#\">\r\n   <cc:Work>\r\n    <dc:type rdf:resource=\"http://purl.org/dc/dcmitype/StillImage\"/>\r\n    <dc:date>2021-04-04T16:26:04.786114</dc:date>\r\n    <dc:format>image/svg+xml</dc:format>\r\n    <dc:creator>\r\n     <cc:Agent>\r\n      <dc:title>Matplotlib v3.3.2, https://matplotlib.org/</dc:title>\r\n     </cc:Agent>\r\n    </dc:creator>\r\n   </cc:Work>\r\n  </rdf:RDF>\r\n </metadata>\r\n <defs>\r\n  <style type=\"text/css\">*{stroke-linecap:butt;stroke-linejoin:round;}</style>\r\n </defs>\r\n <g id=\"figure_1\">\r\n  <g id=\"patch_1\">\r\n   <path d=\"M 0 357.238125 \r\nL 360.285 357.238125 \r\nL 360.285 0 \r\nL 0 0 \r\nz\r\n\" style=\"fill:none;\"/>\r\n  </g>\r\n  <g id=\"axes_1\">\r\n   <g id=\"patch_2\">\r\n    <path d=\"M 26.925 333.36 \r\nL 353.085 333.36 \r\nL 353.085 7.2 \r\nL 26.925 7.2 \r\nz\r\n\" style=\"fill:#ffffff;\"/>\r\n   </g>\r\n   <g clip-path=\"url(#pbdd1908e1a)\">\r\n    <image height=\"327\" id=\"image104cd51fb6\" transform=\"scale(1 -1)translate(0 -327)\" width=\"327\" x=\"26.925\" xlink:href=\"data:image/png;base64,\r\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\" y=\"-6.36\"/>\r\n   </g>\r\n   <g id=\"matplotlib.axis_1\">\r\n    <g id=\"xtick_1\">\r\n     <g id=\"line2d_1\">\r\n      <defs>\r\n       <path d=\"M 0 0 \r\nL 0 3.5 \r\n\" id=\"mb42e191d41\" style=\"stroke:#000000;stroke-width:0.8;\"/>\r\n      </defs>\r\n      <g>\r\n       <use style=\"stroke:#000000;stroke-width:0.8;\" x=\"32.749286\" xlink:href=\"#mb42e191d41\" y=\"333.36\"/>\r\n      </g>\r\n     </g>\r\n     <g id=\"text_1\">\r\n      <!-- 0 -->\r\n      <g transform=\"translate(29.568036 347.958438)scale(0.1 -0.1)\">\r\n       <defs>\r\n        <path d=\"M 31.78125 66.40625 \r\nQ 24.171875 66.40625 20.328125 58.90625 \r\nQ 16.5 51.421875 16.5 36.375 \r\nQ 16.5 21.390625 20.328125 13.890625 \r\nQ 24.171875 6.390625 31.78125 6.390625 \r\nQ 39.453125 6.390625 43.28125 13.890625 \r\nQ 47.125 21.390625 47.125 36.375 \r\nQ 47.125 51.421875 43.28125 58.90625 \r\nQ 39.453125 66.40625 31.78125 66.40625 \r\nz\r\nM 31.78125 74.21875 \r\nQ 44.046875 74.21875 50.515625 64.515625 \r\nQ 56.984375 54.828125 56.984375 36.375 \r\nQ 56.984375 17.96875 50.515625 8.265625 \r\nQ 44.046875 -1.421875 31.78125 -1.421875 \r\nQ 19.53125 -1.421875 13.0625 8.265625 \r\nQ 6.59375 17.96875 6.59375 36.375 \r\nQ 6.59375 54.828125 13.0625 64.515625 \r\nQ 19.53125 74.21875 31.78125 74.21875 \r\nz\r\n\" id=\"DejaVuSans-48\"/>\r\n       </defs>\r\n       <use xlink:href=\"#DejaVuSans-48\"/>\r\n      </g>\r\n     </g>\r\n    </g>\r\n    <g id=\"xtick_2\">\r\n     <g id=\"line2d_2\">\r\n      <g>\r\n       <use style=\"stroke:#000000;stroke-width:0.8;\" x=\"90.992143\" xlink:href=\"#mb42e191d41\" y=\"333.36\"/>\r\n      </g>\r\n     </g>\r\n     <g id=\"text_2\">\r\n      <!-- 5 -->\r\n      <g transform=\"translate(87.810893 347.958438)scale(0.1 -0.1)\">\r\n       <defs>\r\n        <path d=\"M 10.796875 72.90625 \r\nL 49.515625 72.90625 \r\nL 49.515625 64.59375 \r\nL 19.828125 64.59375 \r\nL 19.828125 46.734375 \r\nQ 21.96875 47.46875 24.109375 47.828125 \r\nQ 26.265625 48.1875 28.421875 48.1875 \r\nQ 40.625 48.1875 47.75 41.5 \r\nQ 54.890625 34.8125 54.890625 23.390625 \r\nQ 54.890625 11.625 47.5625 5.09375 \r\nQ 40.234375 -1.421875 26.90625 -1.421875 \r\nQ 22.3125 -1.421875 17.546875 -0.640625 \r\nQ 12.796875 0.140625 7.71875 1.703125 \r\nL 7.71875 11.625 \r\nQ 12.109375 9.234375 16.796875 8.0625 \r\nQ 21.484375 6.890625 26.703125 6.890625 \r\nQ 35.15625 6.890625 40.078125 11.328125 \r\nQ 45.015625 15.765625 45.015625 23.390625 \r\nQ 45.015625 31 40.078125 35.4375 \r\nQ 35.15625 39.890625 26.703125 39.890625 \r\nQ 22.75 39.890625 18.8125 39.015625 \r\nQ 14.890625 38.140625 10.796875 36.28125 \r\nz\r\n\" id=\"DejaVuSans-53\"/>\r\n       </defs>\r\n       <use xlink:href=\"#DejaVuSans-53\"/>\r\n      </g>\r\n     </g>\r\n    </g>\r\n    <g id=\"xtick_3\">\r\n     <g id=\"line2d_3\">\r\n      <g>\r\n       <use style=\"stroke:#000000;stroke-width:0.8;\" x=\"149.235\" xlink:href=\"#mb42e191d41\" y=\"333.36\"/>\r\n      </g>\r\n     </g>\r\n     <g id=\"text_3\">\r\n      <!-- 10 -->\r\n      <g transform=\"translate(142.8725 347.958438)scale(0.1 -0.1)\">\r\n       <defs>\r\n        <path d=\"M 12.40625 8.296875 \r\nL 28.515625 8.296875 \r\nL 28.515625 63.921875 \r\nL 10.984375 60.40625 \r\nL 10.984375 69.390625 \r\nL 28.421875 72.90625 \r\nL 38.28125 72.90625 \r\nL 38.28125 8.296875 \r\nL 54.390625 8.296875 \r\nL 54.390625 0 \r\nL 12.40625 0 \r\nz\r\n\" id=\"DejaVuSans-49\"/>\r\n       </defs>\r\n       <use xlink:href=\"#DejaVuSans-49\"/>\r\n       <use x=\"63.623047\" xlink:href=\"#DejaVuSans-48\"/>\r\n      </g>\r\n     </g>\r\n    </g>\r\n    <g id=\"xtick_4\">\r\n     <g id=\"line2d_4\">\r\n      <g>\r\n       <use style=\"stroke:#000000;stroke-width:0.8;\" x=\"207.477857\" xlink:href=\"#mb42e191d41\" y=\"333.36\"/>\r\n      </g>\r\n     </g>\r\n     <g id=\"text_4\">\r\n      <!-- 15 -->\r\n      <g transform=\"translate(201.115357 347.958438)scale(0.1 -0.1)\">\r\n       <use xlink:href=\"#DejaVuSans-49\"/>\r\n       <use x=\"63.623047\" xlink:href=\"#DejaVuSans-53\"/>\r\n      </g>\r\n     </g>\r\n    </g>\r\n    <g id=\"xtick_5\">\r\n     <g id=\"line2d_5\">\r\n      <g>\r\n       <use style=\"stroke:#000000;stroke-width:0.8;\" x=\"265.720714\" xlink:href=\"#mb42e191d41\" y=\"333.36\"/>\r\n      </g>\r\n     </g>\r\n     <g id=\"text_5\">\r\n      <!-- 20 -->\r\n      <g transform=\"translate(259.358214 347.958438)scale(0.1 -0.1)\">\r\n       <defs>\r\n        <path d=\"M 19.1875 8.296875 \r\nL 53.609375 8.296875 \r\nL 53.609375 0 \r\nL 7.328125 0 \r\nL 7.328125 8.296875 \r\nQ 12.9375 14.109375 22.625 23.890625 \r\nQ 32.328125 33.6875 34.8125 36.53125 \r\nQ 39.546875 41.84375 41.421875 45.53125 \r\nQ 43.3125 49.21875 43.3125 52.78125 \r\nQ 43.3125 58.59375 39.234375 62.25 \r\nQ 35.15625 65.921875 28.609375 65.921875 \r\nQ 23.96875 65.921875 18.8125 64.3125 \r\nQ 13.671875 62.703125 7.8125 59.421875 \r\nL 7.8125 69.390625 \r\nQ 13.765625 71.78125 18.9375 73 \r\nQ 24.125 74.21875 28.421875 74.21875 \r\nQ 39.75 74.21875 46.484375 68.546875 \r\nQ 53.21875 62.890625 53.21875 53.421875 \r\nQ 53.21875 48.921875 51.53125 44.890625 \r\nQ 49.859375 40.875 45.40625 35.40625 \r\nQ 44.1875 33.984375 37.640625 27.21875 \r\nQ 31.109375 20.453125 19.1875 8.296875 \r\nz\r\n\" id=\"DejaVuSans-50\"/>\r\n       </defs>\r\n       <use xlink:href=\"#DejaVuSans-50\"/>\r\n       <use x=\"63.623047\" xlink:href=\"#DejaVuSans-48\"/>\r\n      </g>\r\n     </g>\r\n    </g>\r\n    <g id=\"xtick_6\">\r\n     <g id=\"line2d_6\">\r\n      <g>\r\n       <use style=\"stroke:#000000;stroke-width:0.8;\" x=\"323.963571\" xlink:href=\"#mb42e191d41\" y=\"333.36\"/>\r\n      </g>\r\n     </g>\r\n     <g id=\"text_6\">\r\n      <!-- 25 -->\r\n      <g transform=\"translate(317.601071 347.958438)scale(0.1 -0.1)\">\r\n       <use xlink:href=\"#DejaVuSans-50\"/>\r\n       <use x=\"63.623047\" xlink:href=\"#DejaVuSans-53\"/>\r\n      </g>\r\n     </g>\r\n    </g>\r\n   </g>\r\n   <g id=\"matplotlib.axis_2\">\r\n    <g id=\"ytick_1\">\r\n     <g id=\"line2d_7\">\r\n      <defs>\r\n       <path d=\"M 0 0 \r\nL -3.5 0 \r\n\" id=\"m8f313d774f\" style=\"stroke:#000000;stroke-width:0.8;\"/>\r\n      </defs>\r\n      <g>\r\n       <use style=\"stroke:#000000;stroke-width:0.8;\" x=\"26.925\" xlink:href=\"#m8f313d774f\" y=\"13.024286\"/>\r\n      </g>\r\n     </g>\r\n     <g id=\"text_7\">\r\n      <!-- 0 -->\r\n      <g transform=\"translate(13.5625 16.823504)scale(0.1 -0.1)\">\r\n       <use xlink:href=\"#DejaVuSans-48\"/>\r\n      </g>\r\n     </g>\r\n    </g>\r\n    <g id=\"ytick_2\">\r\n     <g id=\"line2d_8\">\r\n      <g>\r\n       <use style=\"stroke:#000000;stroke-width:0.8;\" x=\"26.925\" xlink:href=\"#m8f313d774f\" y=\"71.267143\"/>\r\n      </g>\r\n     </g>\r\n     <g id=\"text_8\">\r\n      <!-- 5 -->\r\n      <g transform=\"translate(13.5625 75.066362)scale(0.1 -0.1)\">\r\n       <use xlink:href=\"#DejaVuSans-53\"/>\r\n      </g>\r\n     </g>\r\n    </g>\r\n    <g id=\"ytick_3\">\r\n     <g id=\"line2d_9\">\r\n      <g>\r\n       <use style=\"stroke:#000000;stroke-width:0.8;\" x=\"26.925\" xlink:href=\"#m8f313d774f\" y=\"129.51\"/>\r\n      </g>\r\n     </g>\r\n     <g id=\"text_9\">\r\n      <!-- 10 -->\r\n      <g transform=\"translate(7.2 133.309219)scale(0.1 -0.1)\">\r\n       <use xlink:href=\"#DejaVuSans-49\"/>\r\n       <use x=\"63.623047\" xlink:href=\"#DejaVuSans-48\"/>\r\n      </g>\r\n     </g>\r\n    </g>\r\n    <g id=\"ytick_4\">\r\n     <g id=\"line2d_10\">\r\n      <g>\r\n       <use style=\"stroke:#000000;stroke-width:0.8;\" x=\"26.925\" xlink:href=\"#m8f313d774f\" y=\"187.752857\"/>\r\n      </g>\r\n     </g>\r\n     <g id=\"text_10\">\r\n      <!-- 15 -->\r\n      <g transform=\"translate(7.2 191.552076)scale(0.1 -0.1)\">\r\n       <use xlink:href=\"#DejaVuSans-49\"/>\r\n       <use x=\"63.623047\" xlink:href=\"#DejaVuSans-53\"/>\r\n      </g>\r\n     </g>\r\n    </g>\r\n    <g id=\"ytick_5\">\r\n     <g id=\"line2d_11\">\r\n      <g>\r\n       <use style=\"stroke:#000000;stroke-width:0.8;\" x=\"26.925\" xlink:href=\"#m8f313d774f\" y=\"245.995714\"/>\r\n      </g>\r\n     </g>\r\n     <g id=\"text_11\">\r\n      <!-- 20 -->\r\n      <g transform=\"translate(7.2 249.794933)scale(0.1 -0.1)\">\r\n       <use xlink:href=\"#DejaVuSans-50\"/>\r\n       <use x=\"63.623047\" xlink:href=\"#DejaVuSans-48\"/>\r\n      </g>\r\n     </g>\r\n    </g>\r\n    <g id=\"ytick_6\">\r\n     <g id=\"line2d_12\">\r\n      <g>\r\n       <use style=\"stroke:#000000;stroke-width:0.8;\" x=\"26.925\" xlink:href=\"#m8f313d774f\" y=\"304.238571\"/>\r\n      </g>\r\n     </g>\r\n     <g id=\"text_12\">\r\n      <!-- 25 -->\r\n      <g transform=\"translate(7.2 308.03779)scale(0.1 -0.1)\">\r\n       <use xlink:href=\"#DejaVuSans-50\"/>\r\n       <use x=\"63.623047\" xlink:href=\"#DejaVuSans-53\"/>\r\n      </g>\r\n     </g>\r\n    </g>\r\n   </g>\r\n   <g id=\"patch_3\">\r\n    <path d=\"M 26.925 333.36 \r\nL 26.925 7.2 \r\n\" style=\"fill:none;stroke:#000000;stroke-linecap:square;stroke-linejoin:miter;stroke-width:0.8;\"/>\r\n   </g>\r\n   <g id=\"patch_4\">\r\n    <path d=\"M 353.085 333.36 \r\nL 353.085 7.2 \r\n\" style=\"fill:none;stroke:#000000;stroke-linecap:square;stroke-linejoin:miter;stroke-width:0.8;\"/>\r\n   </g>\r\n   <g id=\"patch_5\">\r\n    <path d=\"M 26.925 333.36 \r\nL 353.085 333.36 \r\n\" style=\"fill:none;stroke:#000000;stroke-linecap:square;stroke-linejoin:miter;stroke-width:0.8;\"/>\r\n   </g>\r\n   <g id=\"patch_6\">\r\n    <path d=\"M 26.925 7.2 \r\nL 353.085 7.2 \r\n\" style=\"fill:none;stroke:#000000;stroke-linecap:square;stroke-linejoin:miter;stroke-width:0.8;\"/>\r\n   </g>\r\n  </g>\r\n </g>\r\n <defs>\r\n  <clipPath id=\"pbdd1908e1a\">\r\n   <rect height=\"326.16\" width=\"326.16\" x=\"26.925\" y=\"7.2\"/>\r\n  </clipPath>\r\n </defs>\r\n</svg>\r\n",
      "image/png": "[encoded data removed]"
     },
     "metadata": {
      "needs_background": "light"
     }
    },
    {
     "output_type": "stream",
     "name": "stdout",
     "text": [
      "0\n"
     ]
    },
    {
     "output_type": "display_data",
     "data": {
      "text/plain": "<Figure size 432x432 with 1 Axes>",
      "image/svg+xml": "<?xml version=\"1.0\" encoding=\"utf-8\" standalone=\"no\"?>\r\n<!DOCTYPE svg PUBLIC \"-//W3C//DTD SVG 1.1//EN\"\r\n  \"http://www.w3.org/Graphics/SVG/1.1/DTD/svg11.dtd\">\r\n<!-- Created with matplotlib (https://matplotlib.org/) -->\r\n<svg height=\"357.238125pt\" version=\"1.1\" viewBox=\"0 0 360.285 357.238125\" width=\"360.285pt\" xmlns=\"http://www.w3.org/2000/svg\" xmlns:xlink=\"http://www.w3.org/1999/xlink\">\r\n <metadata>\r\n  <rdf:RDF xmlns:cc=\"http://creativecommons.org/ns#\" xmlns:dc=\"http://purl.org/dc/elements/1.1/\" xmlns:rdf=\"http://www.w3.org/1999/02/22-rdf-syntax-ns#\">\r\n   <cc:Work>\r\n    <dc:type rdf:resource=\"http://purl.org/dc/dcmitype/StillImage\"/>\r\n    <dc:date>2021-04-04T16:26:05.084946</dc:date>\r\n    <dc:format>image/svg+xml</dc:format>\r\n    <dc:creator>\r\n     <cc:Agent>\r\n      <dc:title>Matplotlib v3.3.2, https://matplotlib.org/</dc:title>\r\n     </cc:Agent>\r\n    </dc:creator>\r\n   </cc:Work>\r\n  </rdf:RDF>\r\n </metadata>\r\n <defs>\r\n  <style type=\"text/css\">*{stroke-linecap:butt;stroke-linejoin:round;}</style>\r\n </defs>\r\n <g id=\"figure_1\">\r\n  <g id=\"patch_1\">\r\n   <path d=\"M 0 357.238125 \r\nL 360.285 357.238125 \r\nL 360.285 0 \r\nL 0 0 \r\nz\r\n\" style=\"fill:none;\"/>\r\n  </g>\r\n  <g id=\"axes_1\">\r\n   <g id=\"patch_2\">\r\n    <path d=\"M 26.925 333.36 \r\nL 353.085 333.36 \r\nL 353.085 7.2 \r\nL 26.925 7.2 \r\nz\r\n\" style=\"fill:#ffffff;\"/>\r\n   </g>\r\n   <g clip-path=\"url(#pdf6829d128)\">\r\n    <image height=\"327\" id=\"imagee6d42fd399\" transform=\"scale(1 -1)translate(0 -327)\" width=\"327\" x=\"26.925\" xlink:href=\"data:image/png;base64,\r\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\" y=\"-6.36\"/>\r\n   </g>\r\n   <g id=\"matplotlib.axis_1\">\r\n    <g id=\"xtick_1\">\r\n     <g id=\"line2d_1\">\r\n      <defs>\r\n       <path d=\"M 0 0 \r\nL 0 3.5 \r\n\" id=\"mae2fd18083\" style=\"stroke:#000000;stroke-width:0.8;\"/>\r\n      </defs>\r\n      <g>\r\n       <use style=\"stroke:#000000;stroke-width:0.8;\" x=\"32.749286\" xlink:href=\"#mae2fd18083\" y=\"333.36\"/>\r\n      </g>\r\n     </g>\r\n     <g id=\"text_1\">\r\n      <!-- 0 -->\r\n      <g transform=\"translate(29.568036 347.958438)scale(0.1 -0.1)\">\r\n       <defs>\r\n        <path d=\"M 31.78125 66.40625 \r\nQ 24.171875 66.40625 20.328125 58.90625 \r\nQ 16.5 51.421875 16.5 36.375 \r\nQ 16.5 21.390625 20.328125 13.890625 \r\nQ 24.171875 6.390625 31.78125 6.390625 \r\nQ 39.453125 6.390625 43.28125 13.890625 \r\nQ 47.125 21.390625 47.125 36.375 \r\nQ 47.125 51.421875 43.28125 58.90625 \r\nQ 39.453125 66.40625 31.78125 66.40625 \r\nz\r\nM 31.78125 74.21875 \r\nQ 44.046875 74.21875 50.515625 64.515625 \r\nQ 56.984375 54.828125 56.984375 36.375 \r\nQ 56.984375 17.96875 50.515625 8.265625 \r\nQ 44.046875 -1.421875 31.78125 -1.421875 \r\nQ 19.53125 -1.421875 13.0625 8.265625 \r\nQ 6.59375 17.96875 6.59375 36.375 \r\nQ 6.59375 54.828125 13.0625 64.515625 \r\nQ 19.53125 74.21875 31.78125 74.21875 \r\nz\r\n\" id=\"DejaVuSans-48\"/>\r\n       </defs>\r\n       <use xlink:href=\"#DejaVuSans-48\"/>\r\n      </g>\r\n     </g>\r\n    </g>\r\n    <g id=\"xtick_2\">\r\n     <g id=\"line2d_2\">\r\n      <g>\r\n       <use style=\"stroke:#000000;stroke-width:0.8;\" x=\"90.992143\" xlink:href=\"#mae2fd18083\" y=\"333.36\"/>\r\n      </g>\r\n     </g>\r\n     <g id=\"text_2\">\r\n      <!-- 5 -->\r\n      <g transform=\"translate(87.810893 347.958438)scale(0.1 -0.1)\">\r\n       <defs>\r\n        <path d=\"M 10.796875 72.90625 \r\nL 49.515625 72.90625 \r\nL 49.515625 64.59375 \r\nL 19.828125 64.59375 \r\nL 19.828125 46.734375 \r\nQ 21.96875 47.46875 24.109375 47.828125 \r\nQ 26.265625 48.1875 28.421875 48.1875 \r\nQ 40.625 48.1875 47.75 41.5 \r\nQ 54.890625 34.8125 54.890625 23.390625 \r\nQ 54.890625 11.625 47.5625 5.09375 \r\nQ 40.234375 -1.421875 26.90625 -1.421875 \r\nQ 22.3125 -1.421875 17.546875 -0.640625 \r\nQ 12.796875 0.140625 7.71875 1.703125 \r\nL 7.71875 11.625 \r\nQ 12.109375 9.234375 16.796875 8.0625 \r\nQ 21.484375 6.890625 26.703125 6.890625 \r\nQ 35.15625 6.890625 40.078125 11.328125 \r\nQ 45.015625 15.765625 45.015625 23.390625 \r\nQ 45.015625 31 40.078125 35.4375 \r\nQ 35.15625 39.890625 26.703125 39.890625 \r\nQ 22.75 39.890625 18.8125 39.015625 \r\nQ 14.890625 38.140625 10.796875 36.28125 \r\nz\r\n\" id=\"DejaVuSans-53\"/>\r\n       </defs>\r\n       <use xlink:href=\"#DejaVuSans-53\"/>\r\n      </g>\r\n     </g>\r\n    </g>\r\n    <g id=\"xtick_3\">\r\n     <g id=\"line2d_3\">\r\n      <g>\r\n       <use style=\"stroke:#000000;stroke-width:0.8;\" x=\"149.235\" xlink:href=\"#mae2fd18083\" y=\"333.36\"/>\r\n      </g>\r\n     </g>\r\n     <g id=\"text_3\">\r\n      <!-- 10 -->\r\n      <g transform=\"translate(142.8725 347.958438)scale(0.1 -0.1)\">\r\n       <defs>\r\n        <path d=\"M 12.40625 8.296875 \r\nL 28.515625 8.296875 \r\nL 28.515625 63.921875 \r\nL 10.984375 60.40625 \r\nL 10.984375 69.390625 \r\nL 28.421875 72.90625 \r\nL 38.28125 72.90625 \r\nL 38.28125 8.296875 \r\nL 54.390625 8.296875 \r\nL 54.390625 0 \r\nL 12.40625 0 \r\nz\r\n\" id=\"DejaVuSans-49\"/>\r\n       </defs>\r\n       <use xlink:href=\"#DejaVuSans-49\"/>\r\n       <use x=\"63.623047\" xlink:href=\"#DejaVuSans-48\"/>\r\n      </g>\r\n     </g>\r\n    </g>\r\n    <g id=\"xtick_4\">\r\n     <g id=\"line2d_4\">\r\n      <g>\r\n       <use style=\"stroke:#000000;stroke-width:0.8;\" x=\"207.477857\" xlink:href=\"#mae2fd18083\" y=\"333.36\"/>\r\n      </g>\r\n     </g>\r\n     <g id=\"text_4\">\r\n      <!-- 15 -->\r\n      <g transform=\"translate(201.115357 347.958438)scale(0.1 -0.1)\">\r\n       <use xlink:href=\"#DejaVuSans-49\"/>\r\n       <use x=\"63.623047\" xlink:href=\"#DejaVuSans-53\"/>\r\n      </g>\r\n     </g>\r\n    </g>\r\n    <g id=\"xtick_5\">\r\n     <g id=\"line2d_5\">\r\n      <g>\r\n       <use style=\"stroke:#000000;stroke-width:0.8;\" x=\"265.720714\" xlink:href=\"#mae2fd18083\" y=\"333.36\"/>\r\n      </g>\r\n     </g>\r\n     <g id=\"text_5\">\r\n      <!-- 20 -->\r\n      <g transform=\"translate(259.358214 347.958438)scale(0.1 -0.1)\">\r\n       <defs>\r\n        <path d=\"M 19.1875 8.296875 \r\nL 53.609375 8.296875 \r\nL 53.609375 0 \r\nL 7.328125 0 \r\nL 7.328125 8.296875 \r\nQ 12.9375 14.109375 22.625 23.890625 \r\nQ 32.328125 33.6875 34.8125 36.53125 \r\nQ 39.546875 41.84375 41.421875 45.53125 \r\nQ 43.3125 49.21875 43.3125 52.78125 \r\nQ 43.3125 58.59375 39.234375 62.25 \r\nQ 35.15625 65.921875 28.609375 65.921875 \r\nQ 23.96875 65.921875 18.8125 64.3125 \r\nQ 13.671875 62.703125 7.8125 59.421875 \r\nL 7.8125 69.390625 \r\nQ 13.765625 71.78125 18.9375 73 \r\nQ 24.125 74.21875 28.421875 74.21875 \r\nQ 39.75 74.21875 46.484375 68.546875 \r\nQ 53.21875 62.890625 53.21875 53.421875 \r\nQ 53.21875 48.921875 51.53125 44.890625 \r\nQ 49.859375 40.875 45.40625 35.40625 \r\nQ 44.1875 33.984375 37.640625 27.21875 \r\nQ 31.109375 20.453125 19.1875 8.296875 \r\nz\r\n\" id=\"DejaVuSans-50\"/>\r\n       </defs>\r\n       <use xlink:href=\"#DejaVuSans-50\"/>\r\n       <use x=\"63.623047\" xlink:href=\"#DejaVuSans-48\"/>\r\n      </g>\r\n     </g>\r\n    </g>\r\n    <g id=\"xtick_6\">\r\n     <g id=\"line2d_6\">\r\n      <g>\r\n       <use style=\"stroke:#000000;stroke-width:0.8;\" x=\"323.963571\" xlink:href=\"#mae2fd18083\" y=\"333.36\"/>\r\n      </g>\r\n     </g>\r\n     <g id=\"text_6\">\r\n      <!-- 25 -->\r\n      <g transform=\"translate(317.601071 347.958438)scale(0.1 -0.1)\">\r\n       <use xlink:href=\"#DejaVuSans-50\"/>\r\n       <use x=\"63.623047\" xlink:href=\"#DejaVuSans-53\"/>\r\n      </g>\r\n     </g>\r\n    </g>\r\n   </g>\r\n   <g id=\"matplotlib.axis_2\">\r\n    <g id=\"ytick_1\">\r\n     <g id=\"line2d_7\">\r\n      <defs>\r\n       <path d=\"M 0 0 \r\nL -3.5 0 \r\n\" id=\"m76afeb88bf\" style=\"stroke:#000000;stroke-width:0.8;\"/>\r\n      </defs>\r\n      <g>\r\n       <use style=\"stroke:#000000;stroke-width:0.8;\" x=\"26.925\" xlink:href=\"#m76afeb88bf\" y=\"13.024286\"/>\r\n      </g>\r\n     </g>\r\n     <g id=\"text_7\">\r\n      <!-- 0 -->\r\n      <g transform=\"translate(13.5625 16.823504)scale(0.1 -0.1)\">\r\n       <use xlink:href=\"#DejaVuSans-48\"/>\r\n      </g>\r\n     </g>\r\n    </g>\r\n    <g id=\"ytick_2\">\r\n     <g id=\"line2d_8\">\r\n      <g>\r\n       <use style=\"stroke:#000000;stroke-width:0.8;\" x=\"26.925\" xlink:href=\"#m76afeb88bf\" y=\"71.267143\"/>\r\n      </g>\r\n     </g>\r\n     <g id=\"text_8\">\r\n      <!-- 5 -->\r\n      <g transform=\"translate(13.5625 75.066362)scale(0.1 -0.1)\">\r\n       <use xlink:href=\"#DejaVuSans-53\"/>\r\n      </g>\r\n     </g>\r\n    </g>\r\n    <g id=\"ytick_3\">\r\n     <g id=\"line2d_9\">\r\n      <g>\r\n       <use style=\"stroke:#000000;stroke-width:0.8;\" x=\"26.925\" xlink:href=\"#m76afeb88bf\" y=\"129.51\"/>\r\n      </g>\r\n     </g>\r\n     <g id=\"text_9\">\r\n      <!-- 10 -->\r\n      <g transform=\"translate(7.2 133.309219)scale(0.1 -0.1)\">\r\n       <use xlink:href=\"#DejaVuSans-49\"/>\r\n       <use x=\"63.623047\" xlink:href=\"#DejaVuSans-48\"/>\r\n      </g>\r\n     </g>\r\n    </g>\r\n    <g id=\"ytick_4\">\r\n     <g id=\"line2d_10\">\r\n      <g>\r\n       <use style=\"stroke:#000000;stroke-width:0.8;\" x=\"26.925\" xlink:href=\"#m76afeb88bf\" y=\"187.752857\"/>\r\n      </g>\r\n     </g>\r\n     <g id=\"text_10\">\r\n      <!-- 15 -->\r\n      <g transform=\"translate(7.2 191.552076)scale(0.1 -0.1)\">\r\n       <use xlink:href=\"#DejaVuSans-49\"/>\r\n       <use x=\"63.623047\" xlink:href=\"#DejaVuSans-53\"/>\r\n      </g>\r\n     </g>\r\n    </g>\r\n    <g id=\"ytick_5\">\r\n     <g id=\"line2d_11\">\r\n      <g>\r\n       <use style=\"stroke:#000000;stroke-width:0.8;\" x=\"26.925\" xlink:href=\"#m76afeb88bf\" y=\"245.995714\"/>\r\n      </g>\r\n     </g>\r\n     <g id=\"text_11\">\r\n      <!-- 20 -->\r\n      <g transform=\"translate(7.2 249.794933)scale(0.1 -0.1)\">\r\n       <use xlink:href=\"#DejaVuSans-50\"/>\r\n       <use x=\"63.623047\" xlink:href=\"#DejaVuSans-48\"/>\r\n      </g>\r\n     </g>\r\n    </g>\r\n    <g id=\"ytick_6\">\r\n     <g id=\"line2d_12\">\r\n      <g>\r\n       <use style=\"stroke:#000000;stroke-width:0.8;\" x=\"26.925\" xlink:href=\"#m76afeb88bf\" y=\"304.238571\"/>\r\n      </g>\r\n     </g>\r\n     <g id=\"text_12\">\r\n      <!-- 25 -->\r\n      <g transform=\"translate(7.2 308.03779)scale(0.1 -0.1)\">\r\n       <use xlink:href=\"#DejaVuSans-50\"/>\r\n       <use x=\"63.623047\" xlink:href=\"#DejaVuSans-53\"/>\r\n      </g>\r\n     </g>\r\n    </g>\r\n   </g>\r\n   <g id=\"patch_3\">\r\n    <path d=\"M 26.925 333.36 \r\nL 26.925 7.2 \r\n\" style=\"fill:none;stroke:#000000;stroke-linecap:square;stroke-linejoin:miter;stroke-width:0.8;\"/>\r\n   </g>\r\n   <g id=\"patch_4\">\r\n    <path d=\"M 353.085 333.36 \r\nL 353.085 7.2 \r\n\" style=\"fill:none;stroke:#000000;stroke-linecap:square;stroke-linejoin:miter;stroke-width:0.8;\"/>\r\n   </g>\r\n   <g id=\"patch_5\">\r\n    <path d=\"M 26.925 333.36 \r\nL 353.085 333.36 \r\n\" style=\"fill:none;stroke:#000000;stroke-linecap:square;stroke-linejoin:miter;stroke-width:0.8;\"/>\r\n   </g>\r\n   <g id=\"patch_6\">\r\n    <path d=\"M 26.925 7.2 \r\nL 353.085 7.2 \r\n\" style=\"fill:none;stroke:#000000;stroke-linecap:square;stroke-linejoin:miter;stroke-width:0.8;\"/>\r\n   </g>\r\n  </g>\r\n </g>\r\n <defs>\r\n  <clipPath id=\"pdf6829d128\">\r\n   <rect height=\"326.16\" width=\"326.16\" x=\"26.925\" y=\"7.2\"/>\r\n  </clipPath>\r\n </defs>\r\n</svg>\r\n",
      "image/png": "[encoded data removed]"
     },
     "metadata": {
      "needs_background": "light"
     }
    },
    {
     "output_type": "stream",
     "name": "stdout",
     "text": [
      "0\n"
     ]
    }
   ],
   "source": [
    "im_list = [train_images[i] for i in range(0,train_images.shape[0])] + [test_images[i] for i in range(0,test_images.shape[0])]\n",
    "print(len(im_list))\n",
    "\n",
    "train_deskewed = [deskew(im) for im in im_list[0:train_images.shape[0]]]\n",
    "test_deskewed = [deskew(im) for im in im_list[train_images.shape[0]:]]\n",
    "\n",
    "train_deskewed = np.asarray(train_deskewed)\n",
    "test_deskewed = np.asarray(test_deskewed)\n",
    "\n",
    "showOpencvImage(train_images[1])\n",
    "print(train_labels[1])\n",
    "\n",
    "showOpencvImage(train_deskewed[1])\n",
    "print(train_labels[1])\n"
   ]
  },
  {
   "cell_type": "code",
   "execution_count": 27,
   "metadata": {
    "colab": {
     "base_uri": "https://localhost:8080/",
     "height": 69
    },
    "colab_type": "code",
    "executionInfo": {
     "elapsed": 2641,
     "status": "ok",
     "timestamp": 1583344469978,
     "user": {
      "displayName": "Zbisław Tabor",
      "photoUrl": "https://lh3.googleusercontent.com/a-/AOh14GihHgliefc3mumKqaCxhwnyI891sHQDAZ2h7sAhfw=s64",
      "userId": "16921256151317999512"
     },
     "user_tz": -60
    },
    "id": "tbM91U4_rrHC",
    "outputId": "a08ce890-c118-42a2-f166-42d3c039f063"
   },
   "outputs": [
    {
     "output_type": "stream",
     "name": "stdout",
     "text": [
      "70000\n(81,)\n(70000, 81)\n"
     ]
    }
   ],
   "source": [
    "hogdata = [openCVHOG(im) for im in im_list]\n",
    "print(len(hogdata))\n",
    "print(hogdata[0].shape)\n",
    "imData = np.float32(hogdata).reshape(-1,81)\n",
    "print(imData.shape)"
   ]
  },
  {
   "cell_type": "code",
   "execution_count": 28,
   "metadata": {
    "colab": {},
    "colab_type": "code",
    "id": "NbQHTEikr1J_"
   },
   "outputs": [],
   "source": [
    "from sklearn import svm\n",
    "\n",
    "\n",
    "model = svm.SVC(C=15.5,gamma=0.7)\n",
    "model = model.fit(imData[0:600,:],train_labels[0:600])\n",
    "\n",
    "pred_labels = model.predict(imData[600:1000,:])"
   ]
  },
  {
   "cell_type": "code",
   "execution_count": 29,
   "metadata": {
    "colab": {
     "base_uri": "https://localhost:8080/",
     "height": 503
    },
    "colab_type": "code",
    "executionInfo": {
     "elapsed": 632,
     "status": "ok",
     "timestamp": 1583344498760,
     "user": {
      "displayName": "Zbisław Tabor",
      "photoUrl": "https://lh3.googleusercontent.com/a-/AOh14GihHgliefc3mumKqaCxhwnyI891sHQDAZ2h7sAhfw=s64",
      "userId": "16921256151317999512"
     },
     "user_tz": -60
    },
    "id": "ZzNeCt9Fr48O",
    "outputId": "84193384-14bf-4efe-c078-adf12b590ec5"
   },
   "outputs": [
    {
     "output_type": "stream",
     "name": "stdout",
     "text": [
      "91.0\n[[38  0  0  0  0  0  1  0  0  0]\n [ 0 37  0  0  0  0  0  0  0  0]\n [ 0  0 32  0  0  0  0  2  0  1]\n [ 0  0  1 32  0  0  0  0  0  1]\n [ 0  0  0  0 38  2  4  0  0  2]\n [ 0  0  2  1  0 36  0  0  1  1]\n [ 1  1  0  0  1  0 36  0  1  0]\n [ 0  0  1  2  1  0  0 51  0  0]\n [ 0  1  0  0  0  2  0  0 34  1]\n [ 3  0  0  0  0  0  1  1  0 30]]\n              precision    recall  f1-score   support\n\n           0       0.90      0.97      0.94        39\n           1       0.95      1.00      0.97        37\n           2       0.89      0.91      0.90        35\n           3       0.91      0.94      0.93        34\n           4       0.95      0.83      0.88        46\n           5       0.90      0.88      0.89        41\n           6       0.86      0.90      0.88        40\n           7       0.94      0.93      0.94        55\n           8       0.94      0.89      0.92        38\n           9       0.83      0.86      0.85        35\n\n    accuracy                           0.91       400\n   macro avg       0.91      0.91      0.91       400\nweighted avg       0.91      0.91      0.91       400\n\n"
     ]
    }
   ],
   "source": [
    "from sklearn.metrics import classification_report, confusion_matrix\n",
    "\n",
    "mask = pred_labels==train_labels[600:1000]\n",
    "correct = np.count_nonzero(mask)\n",
    "print(correct*100.0/pred_labels.size)\n",
    "\n",
    "cm = confusion_matrix(train_labels[600:1000], pred_labels)\n",
    "print(cm)\n",
    "print(classification_report(train_labels[600:1000], pred_labels))"
   ]
  },
  {
   "cell_type": "markdown",
   "metadata": {
    "colab_type": "text",
    "id": "XS4Z3LwUsAMa"
   },
   "source": [
    "\n",
    "*   **PRECISION** = TP / (TP+FP)\n",
    "*   **RECALL** = TP + (TP+FN)\n",
    "*   **F1 score** = 2*PRECISION*RECALL/(PRECISION+RECALL)\n",
    "*   **ACCURACY** = SUM_OF_DIAGNONAL ELEMENTS/SUM OF ALL ELEMENTS\n",
    "*   **Macro_AVG OF PRECISION** = SUM OF PRECISIONS/NUMBER OF CLASSES\n",
    "*   **Weighted AVG OF PRECISION** = SUM OVER CLASSES PRECISION(CLASS)*WEIGHT*   (CLASS),\n",
    "**WEIGHT** = CLASS SUPPORT/ALL ELEMENTS\n",
    "*   **MICRO AVG OF PRECISION** = SUM (TP(CLASS))/SUM(TP(CLASS)+FP(CLASS))\n",
    "   \n",
    "\n"
   ]
  },
  {
   "cell_type": "code",
   "execution_count": 30,
   "metadata": {
    "colab": {
     "base_uri": "https://localhost:8080/",
     "height": 503
    },
    "colab_type": "code",
    "executionInfo": {
     "elapsed": 2181,
     "status": "ok",
     "timestamp": 1583344666394,
     "user": {
      "displayName": "Zbisław Tabor",
      "photoUrl": "https://lh3.googleusercontent.com/a-/AOh14GihHgliefc3mumKqaCxhwnyI891sHQDAZ2h7sAhfw=s64",
      "userId": "16921256151317999512"
     },
     "user_tz": -60
    },
    "id": "CB0MMMKGr82u",
    "outputId": "504bf443-2fba-4c10-90b2-a35de53b330d"
   },
   "outputs": [
    {
     "output_type": "stream",
     "name": "stdout",
     "text": [
      "84.25\n[[27  4  2  0  0  0  6  0  0  0]\n [ 0 36  0  0  0  1  0  0  0  0]\n [ 0  0 32  0  1  1  0  0  0  1]\n [ 0  0  3 29  0  2  0  0  0  0]\n [ 0  0  0  0 43  0  2  0  0  1]\n [ 0  0  0  2  2 34  0  0  1  2]\n [ 1  1  0  0  2  2 34  0  0  0]\n [ 0  0  5  2  1  0  0 47  0  0]\n [ 2  4  0  0  2  3  0  0 27  0]\n [ 1  0  3  0  0  1  1  1  0 28]]\n              precision    recall  f1-score   support\n\n           0       0.87      0.69      0.77        39\n           1       0.80      0.97      0.88        37\n           2       0.71      0.91      0.80        35\n           3       0.88      0.85      0.87        34\n           4       0.84      0.93      0.89        46\n           5       0.77      0.83      0.80        41\n           6       0.79      0.85      0.82        40\n           7       0.98      0.85      0.91        55\n           8       0.96      0.71      0.82        38\n           9       0.88      0.80      0.84        35\n\n    accuracy                           0.84       400\n   macro avg       0.85      0.84      0.84       400\nweighted avg       0.85      0.84      0.84       400\n\n"
     ]
    }
   ],
   "source": [
    "from sklearn.ensemble import RandomForestClassifier\n",
    "\n",
    "rfc =  RandomForestClassifier(max_depth=15, n_estimators=100, max_features=60)\n",
    "rfc = rfc.fit(imData[0:600,:],train_labels[0:600])\n",
    "\n",
    "pred_labels = rfc.predict(imData[600:1000,:])\n",
    "\n",
    "mask = pred_labels==train_labels[600:1000]\n",
    "correct = np.count_nonzero(mask)\n",
    "print(correct*100.0/pred_labels.size)\n",
    "\n",
    "cm = confusion_matrix(train_labels[600:1000], pred_labels)\n",
    "print(cm)\n",
    "print(classification_report(train_labels[600:1000], pred_labels))"
   ]
  }
 ],
 "metadata": {
  "colab": {
   "authorship_tag": "ABX9TyNasyk7WLsXhICgmHLfDMuC",
   "collapsed_sections": [],
   "name": "Lecture1a.ipynb",
   "provenance": []
  },
  "kernelspec": {
   "name": "python385jvsc74a57bd097e84bb5e4a3161ab39da84663701e6c02adafdda12e03d1d966874dc1a30b83",
   "display_name": "Python 3.8.5 64-bit (conda)"
  },
  "language_info": {
   "codemirror_mode": {
    "name": "ipython",
    "version": 3
   },
   "file_extension": ".py",
   "mimetype": "text/x-python",
   "name": "python",
   "nbconvert_exporter": "python",
   "pygments_lexer": "ipython3",
   "version": "3.8.5-final"
  }
 },
 "nbformat": 4,
 "nbformat_minor": 4
}