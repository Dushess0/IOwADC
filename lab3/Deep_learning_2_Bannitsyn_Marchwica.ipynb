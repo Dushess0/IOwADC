{
  "nbformat": 4,
  "nbformat_minor": 0,
  "metadata": {
    "colab": {
      "name": "Deep_learning_2.ipynb",
      "provenance": [],
      "collapsed_sections": [],
      "toc_visible": true
    },
    "kernelspec": {
      "name": "python3",
      "display_name": "Python 3"
    },
    "language_info": {
      "name": "python"
    }
  },
  "cells": [
    {
      "cell_type": "markdown",
      "metadata": {
        "id": "xWF4UdFKYoqO"
      },
      "source": [
        "# Import danych"
      ]
    },
    {
      "cell_type": "code",
      "metadata": {
        "id": "nxBb8ne8KtZ8"
      },
      "source": [
        "import os\n",
        "import librosa\n",
        "import IPython.display as ipd\n",
        "import matplotlib.pyplot as plt\n",
        "import numpy as np\n",
        "from scipy.io import wavfile\n",
        "import warnings\n",
        "import random\n",
        "from sklearn.preprocessing import LabelEncoder\n",
        "from keras.utils import np_utils\n",
        "from sklearn.model_selection import train_test_split\n",
        "from keras.layers import Dense, Dropout, Flatten, Conv1D, Input, MaxPooling1D\n",
        "from keras.models import Model\n",
        "from keras.callbacks import EarlyStopping, ModelCheckpoint\n",
        "from keras import backend as K\n",
        "from matplotlib import pyplot\n",
        "from sklearn.utils import shuffle\n",
        "\n",
        "warnings.filterwarnings(\"ignore\")"
      ],
      "execution_count": 1,
      "outputs": []
    },
    {
      "cell_type": "code",
      "metadata": {
        "id": "hKRyXyCaK4mF"
      },
      "source": [
        "train_audio_path = '/content/drive/MyDrive/train/audio/'\n"
      ],
      "execution_count": 2,
      "outputs": []
    },
    {
      "cell_type": "markdown",
      "metadata": {
        "id": "Nom3kGF3Y2rf"
      },
      "source": [
        "# Funkcje"
      ]
    },
    {
      "cell_type": "markdown",
      "metadata": {
        "id": "rCFBR90haJ3H"
      },
      "source": [
        "## Wykres diagnostczny"
      ]
    },
    {
      "cell_type": "code",
      "metadata": {
        "id": "jEe5uYiGaQw-"
      },
      "source": [
        "def plotDiagnosticChart(history):\n",
        "  pyplot.plot(history.history['loss'], label='train')\n",
        "  pyplot.plot(history.history['val_loss'], label='test')\n",
        "  pyplot.legend()\n",
        "  pyplot.show()"
      ],
      "execution_count": 3,
      "outputs": []
    },
    {
      "cell_type": "markdown",
      "metadata": {
        "id": "uaI5EPZYaxvq"
      },
      "source": [
        "## Wybór zbioru treningowego i walidacyjnego"
      ]
    },
    {
      "cell_type": "code",
      "metadata": {
        "id": "MoE8qRara45C"
      },
      "source": [
        "def getTrainAndValidationSet(all_wave,y):\n",
        "  return train_test_split(np.array(all_wave),np.array(y),stratify=y,test_size = 0.2,random_state=777,shuffle=True)"
      ],
      "execution_count": 4,
      "outputs": []
    },
    {
      "cell_type": "markdown",
      "metadata": {
        "id": "FXaAi7SPbz1g"
      },
      "source": [
        "## Trening i testowaie na zbiorze walidacyjnym"
      ]
    },
    {
      "cell_type": "code",
      "metadata": {
        "id": "SyLiezEvb0TE"
      },
      "source": [
        "def trainAndTest(model,x_tr,y_tr,x_val,y_val,es,mc):\n",
        "  history=model.fit(x_tr, y_tr ,epochs=100, callbacks=[es,mc], batch_size=32, validation_data=(x_val,y_val))\n",
        "  return history"
      ],
      "execution_count": 5,
      "outputs": []
    },
    {
      "cell_type": "markdown",
      "metadata": {
        "id": "folApWAPY9nP"
      },
      "source": [
        "# Wybór 5 słów i preprocessing"
      ]
    },
    {
      "cell_type": "markdown",
      "metadata": {
        "id": "hhex-Uo6ZMOl"
      },
      "source": [
        "## Wylosowanie 5 słów"
      ]
    },
    {
      "cell_type": "markdown",
      "metadata": {
        "id": "yQAEEIebS8ev"
      },
      "source": [
        "Losowo wybrane 5 słów"
      ]
    },
    {
      "cell_type": "code",
      "metadata": {
        "id": "eSn8D77OSgxe",
        "colab": {
          "base_uri": "https://localhost:8080/"
        },
        "outputId": "e6f55b60-4b95-46ac-a4e4-34029f45c56e"
      },
      "source": [
        "random_labels = os.listdir(train_audio_path)\n",
        "print(random_labels)"
      ],
      "execution_count": 7,
      "outputs": [
        {
          "output_type": "stream",
          "text": [
            "['cat', 'one', 'three', 'up', 'left']\n"
          ],
          "name": "stdout"
        }
      ]
    },
    {
      "cell_type": "markdown",
      "metadata": {
        "id": "zcIYkrBbS_yC"
      },
      "source": [
        "Ilość nagrań dla wybranych 5 słów"
      ]
    },
    {
      "cell_type": "code",
      "metadata": {
        "id": "TpwiXuMRTEHk",
        "colab": {
          "base_uri": "https://localhost:8080/",
          "height": 270
        },
        "outputId": "64eb175e-c72c-4cd7-e162-34a62615f067"
      },
      "source": [
        "no_of_recordings=[]\n",
        "for label in random_labels:\n",
        "    waves = [f for f in os.listdir(train_audio_path + '/'+ label) if f.endswith('.wav')]\n",
        "    no_of_recordings.append(len(waves))\n",
        "    \n",
        "plt.figure(figsize=(30,5))\n",
        "index = np.arange(len(random_labels))\n",
        "plt.bar(index, no_of_recordings)\n",
        "plt.xlabel('Słowa', fontsize=12)\n",
        "plt.ylabel('Liczba nagrań', fontsize=12)\n",
        "plt.xticks(index, random_labels, fontsize=15, rotation=60)\n",
        "plt.title('Liczba nagrań dla wylosowanych 5 słów')\n",
        "plt.show()"
      ],
      "execution_count": 9,
      "outputs": [
        {
          "output_type": "display_data",
          "data": {
            "image/png": "[encoded data removed]",
            "text/plain": [
              "<Figure size 2160x360 with 1 Axes>"
            ]
          },
          "metadata": {
            "tags": [],
            "needs_background": "light"
          }
        }
      ]
    },
    {
      "cell_type": "markdown",
      "metadata": {
        "id": "y_e1RaKBZatD"
      },
      "source": [
        "## Preprocessing"
      ]
    },
    {
      "cell_type": "markdown",
      "metadata": {
        "id": "6hRoUeg5UbfG"
      },
      "source": [
        "Resampling nagrań o długości 1s do częstotliwości 8 tys HZ "
      ]
    },
    {
      "cell_type": "code",
      "metadata": {
        "id": "U73DgEBFUncF",
        "colab": {
          "base_uri": "https://localhost:8080/"
        },
        "outputId": "9c32c581-e5a5-48e6-dba6-5b2d3d4b0d87"
      },
      "source": [
        "all_wave = []\n",
        "all_label = []\n",
        "for label in random_labels:\n",
        "    print(label)\n",
        "    waves = [f for f in os.listdir(train_audio_path + '/'+ label) if f.endswith('.wav')]\n",
        "    for wav in waves:\n",
        "        samples, sample_rate = librosa.load(train_audio_path + '/' + label + '/' + wav, sr = 16000)\n",
        "        samples = librosa.resample(samples, sample_rate, 8000)\n",
        "        if(len(samples)== 8000) : \n",
        "            all_wave.append(samples)\n",
        "            all_label.append(label)"
      ],
      "execution_count": 10,
      "outputs": [
        {
          "output_type": "stream",
          "text": [
            "cat\n",
            "one\n",
            "three\n",
            "up\n",
            "left\n"
          ],
          "name": "stdout"
        }
      ]
    },
    {
      "cell_type": "code",
      "metadata": {
        "colab": {
          "base_uri": "https://localhost:8080/"
        },
        "id": "XHt-_gpPKe93",
        "outputId": "23742eeb-4514-4cd5-8e75-2e207fd884b9"
      },
      "source": [
        "%store all_wave\n",
        "%store all_label"
      ],
      "execution_count": 11,
      "outputs": [
        {
          "output_type": "stream",
          "text": [
            "Stored 'all_wave' (list)\n",
            "Stored 'all_label' (list)\n"
          ],
          "name": "stdout"
        }
      ]
    },
    {
      "cell_type": "markdown",
      "metadata": {
        "id": "73-SH4FOU2oi"
      },
      "source": [
        "Konwersja etykiet tekstowych do kodów całkowitoliczbowych"
      ]
    },
    {
      "cell_type": "code",
      "metadata": {
        "id": "5_P3aZHyU6j7"
      },
      "source": [
        "le = LabelEncoder()\n",
        "y=le.fit_transform(all_label)\n",
        "classes= list(le.classes_)"
      ],
      "execution_count": 12,
      "outputs": []
    },
    {
      "cell_type": "markdown",
      "metadata": {
        "id": "vT45ra8kVNoY"
      },
      "source": [
        " Konwersja całkowitoliczbowych etykiet do jednego wektora\n",
        "\n"
      ]
    },
    {
      "cell_type": "code",
      "metadata": {
        "id": "0-hkcjnZVODN"
      },
      "source": [
        "y=np_utils.to_categorical(y, num_classes=len(random_labels))"
      ],
      "execution_count": 13,
      "outputs": []
    },
    {
      "cell_type": "markdown",
      "metadata": {
        "id": "R76GGwPAZw-F"
      },
      "source": [
        "# Sieć"
      ]
    },
    {
      "cell_type": "markdown",
      "metadata": {
        "id": "zbxdzeciWR0w"
      },
      "source": [
        "Budowa modelu"
      ]
    },
    {
      "cell_type": "code",
      "metadata": {
        "id": "emXE9LjdWSIB"
      },
      "source": [
        "def createModel():\n",
        "  K.clear_session()\n",
        "  inputs = Input(shape=(8000,1))\n",
        "\n",
        "  #First Conv1D layer\n",
        "  conv = Conv1D(8,13, padding='valid', activation='relu', strides=1)(inputs)\n",
        "  conv = MaxPooling1D(3)(conv)\n",
        "  conv = Dropout(0.3)(conv)\n",
        "\n",
        "  #Second Conv1D layer\n",
        "  conv = Conv1D(16, 11, padding='valid', activation='relu', strides=1)(conv)\n",
        "  conv = MaxPooling1D(3)(conv)\n",
        "  conv = Dropout(0.3)(conv)\n",
        "\n",
        "  #Third Conv1D layer\n",
        "  conv = Conv1D(32, 9, padding='valid', activation='relu', strides=1)(conv)\n",
        "  conv = MaxPooling1D(3)(conv)\n",
        "  conv = Dropout(0.3)(conv)\n",
        "\n",
        "  #Fourth Conv1D layer\n",
        "  conv = Conv1D(64, 7, padding='valid', activation='relu', strides=1)(conv)\n",
        "  conv = MaxPooling1D(3)(conv)\n",
        "  conv = Dropout(0.3)(conv)\n",
        "\n",
        "  #Flatten layer\n",
        "  conv = Flatten()(conv)\n",
        "\n",
        "  #Dense Layer 1\n",
        "  conv = Dense(256, activation='relu')(conv)\n",
        "  conv = Dropout(0.3)(conv)\n",
        "\n",
        "  #Dense Layer 2\n",
        "  conv = Dense(128, activation='relu')(conv)\n",
        "  conv = Dropout(0.3)(conv)\n",
        "\n",
        "  outputs = Dense(len(random_labels), activation='softmax')(conv)\n",
        "\n",
        "  model = Model(inputs, outputs)\n",
        "  model.summary()\n",
        "\n",
        "  model.compile(loss='categorical_crossentropy',optimizer='adam',metrics=['accuracy'])\n",
        "\n",
        "  return model"
      ],
      "execution_count": 14,
      "outputs": []
    },
    {
      "cell_type": "code",
      "metadata": {
        "id": "s4F-7ckPXKlv"
      },
      "source": [
        "es = EarlyStopping(monitor='val_loss', mode='min', verbose=1, patience=10, min_delta=0.0001) \n",
        "mc = ModelCheckpoint('best_model.hdf5', monitor='val_acc', verbose=1, save_best_only=True, mode='max')"
      ],
      "execution_count": 15,
      "outputs": []
    },
    {
      "cell_type": "markdown",
      "metadata": {
        "id": "uiWxZno5cn4o"
      },
      "source": [
        "# Zadanie 1"
      ]
    },
    {
      "cell_type": "code",
      "metadata": {
        "colab": {
          "base_uri": "https://localhost:8080/",
          "height": 1000
        },
        "id": "emrYAVcu-Vwd",
        "outputId": "1ae9b498-ebcd-4917-8af4-0d87aaa62301"
      },
      "source": [
        "tarined_models = []\n",
        "all_wave = np.array(all_wave)\n",
        "\n",
        "all_wave, y = shuffle(all_wave, y)\n",
        "\n",
        "for size in range(500,2000,300):\n",
        "  new_model = createModel()\n",
        "\n",
        "  print('Rozmiar zbioru treningowego: ' + str(size))\n",
        "  wav = all_wave[:size,:]\n",
        "  new_y = y[:size,:]\n",
        "  wav = np.array(wav).reshape(-1,8000,1)\n",
        "\n",
        "  x_tr, x_val, y_tr, y_val = getTrainAndValidationSet(wav,new_y)\n",
        "  history = trainAndTest(new_model,x_tr,y_tr,x_val,y_val,es,mc)\n",
        "  plotDiagnosticChart(history)\n",
        "\n",
        "  tarined_models.append(new_model)\n",
        "\n"
      ],
      "execution_count": 16,
      "outputs": [
        {
          "output_type": "stream",
          "text": [
            "Model: \"model\"\n",
            "_________________________________________________________________\n",
            "Layer (type)                 Output Shape              Param #   \n",
            "=================================================================\n",
            "input_1 (InputLayer)         [(None, 8000, 1)]         0         \n",
            "_________________________________________________________________\n",
            "conv1d (Conv1D)              (None, 7988, 8)           112       \n",
            "_________________________________________________________________\n",
            "max_pooling1d (MaxPooling1D) (None, 2662, 8)           0         \n",
            "_________________________________________________________________\n",
            "dropout (Dropout)            (None, 2662, 8)           0         \n",
            "_________________________________________________________________\n",
            "conv1d_1 (Conv1D)            (None, 2652, 16)          1424      \n",
            "_________________________________________________________________\n",
            "max_pooling1d_1 (MaxPooling1 (None, 884, 16)           0         \n",
            "_________________________________________________________________\n",
            "dropout_1 (Dropout)          (None, 884, 16)           0         \n",
            "_________________________________________________________________\n",
            "conv1d_2 (Conv1D)            (None, 876, 32)           4640      \n",
            "_________________________________________________________________\n",
            "max_pooling1d_2 (MaxPooling1 (None, 292, 32)           0         \n",
            "_________________________________________________________________\n",
            "dropout_2 (Dropout)          (None, 292, 32)           0         \n",
            "_________________________________________________________________\n",
            "conv1d_3 (Conv1D)            (None, 286, 64)           14400     \n",
            "_________________________________________________________________\n",
            "max_pooling1d_3 (MaxPooling1 (None, 95, 64)            0         \n",
            "_________________________________________________________________\n",
            "dropout_3 (Dropout)          (None, 95, 64)            0         \n",
            "_________________________________________________________________\n",
            "flatten (Flatten)            (None, 6080)              0         \n",
            "_________________________________________________________________\n",
            "dense (Dense)                (None, 256)               1556736   \n",
            "_________________________________________________________________\n",
            "dropout_4 (Dropout)          (None, 256)               0         \n",
            "_________________________________________________________________\n",
            "dense_1 (Dense)              (None, 128)               32896     \n",
            "_________________________________________________________________\n",
            "dropout_5 (Dropout)          (None, 128)               0         \n",
            "_________________________________________________________________\n",
            "dense_2 (Dense)              (None, 5)                 645       \n",
            "=================================================================\n",
            "Total params: 1,610,853\n",
            "Trainable params: 1,610,853\n",
            "Non-trainable params: 0\n",
            "_________________________________________________________________\n",
            "Rozmiar zbioru treningowego: 500\n",
            "Epoch 1/100\n",
            "13/13 [==============================] - 5s 303ms/step - loss: 1.6053 - accuracy: 0.2190 - val_loss: 1.5906 - val_accuracy: 0.2300\n",
            "WARNING:tensorflow:Can save best model only with val_acc available, skipping.\n",
            "Epoch 2/100\n",
            "13/13 [==============================] - 3s 244ms/step - loss: 1.5614 - accuracy: 0.2774 - val_loss: 1.5716 - val_accuracy: 0.3200\n",
            "WARNING:tensorflow:Can save best model only with val_acc available, skipping.\n",
            "Epoch 3/100\n",
            "13/13 [==============================] - 4s 278ms/step - loss: 1.5214 - accuracy: 0.2986 - val_loss: 1.5615 - val_accuracy: 0.2500\n",
            "WARNING:tensorflow:Can save best model only with val_acc available, skipping.\n",
            "Epoch 4/100\n",
            "13/13 [==============================] - 4s 328ms/step - loss: 1.4593 - accuracy: 0.3603 - val_loss: 1.5147 - val_accuracy: 0.3400\n",
            "WARNING:tensorflow:Can save best model only with val_acc available, skipping.\n",
            "Epoch 5/100\n",
            "13/13 [==============================] - 5s 384ms/step - loss: 1.4620 - accuracy: 0.3542 - val_loss: 1.4908 - val_accuracy: 0.3600\n",
            "WARNING:tensorflow:Can save best model only with val_acc available, skipping.\n",
            "Epoch 6/100\n",
            "13/13 [==============================] - 5s 394ms/step - loss: 1.4652 - accuracy: 0.3643 - val_loss: 1.4473 - val_accuracy: 0.3500\n",
            "WARNING:tensorflow:Can save best model only with val_acc available, skipping.\n",
            "Epoch 7/100\n",
            "13/13 [==============================] - 3s 245ms/step - loss: 1.4155 - accuracy: 0.4124 - val_loss: 1.4365 - val_accuracy: 0.3500\n",
            "WARNING:tensorflow:Can save best model only with val_acc available, skipping.\n",
            "Epoch 8/100\n",
            "13/13 [==============================] - 3s 244ms/step - loss: 1.3523 - accuracy: 0.4524 - val_loss: 1.3355 - val_accuracy: 0.4900\n",
            "WARNING:tensorflow:Can save best model only with val_acc available, skipping.\n",
            "Epoch 9/100\n",
            "13/13 [==============================] - 3s 244ms/step - loss: 1.2959 - accuracy: 0.4697 - val_loss: 1.3023 - val_accuracy: 0.4400\n",
            "WARNING:tensorflow:Can save best model only with val_acc available, skipping.\n",
            "Epoch 10/100\n",
            "13/13 [==============================] - 3s 243ms/step - loss: 1.1876 - accuracy: 0.5299 - val_loss: 1.1545 - val_accuracy: 0.5400\n",
            "WARNING:tensorflow:Can save best model only with val_acc available, skipping.\n",
            "Epoch 11/100\n",
            "13/13 [==============================] - 3s 244ms/step - loss: 1.1045 - accuracy: 0.5876 - val_loss: 1.0826 - val_accuracy: 0.5900\n",
            "WARNING:tensorflow:Can save best model only with val_acc available, skipping.\n",
            "Epoch 12/100\n",
            "13/13 [==============================] - 3s 246ms/step - loss: 1.0253 - accuracy: 0.6002 - val_loss: 1.0338 - val_accuracy: 0.5700\n",
            "WARNING:tensorflow:Can save best model only with val_acc available, skipping.\n",
            "Epoch 13/100\n",
            "13/13 [==============================] - 3s 246ms/step - loss: 0.9423 - accuracy: 0.6613 - val_loss: 0.9640 - val_accuracy: 0.6100\n",
            "WARNING:tensorflow:Can save best model only with val_acc available, skipping.\n",
            "Epoch 14/100\n",
            "13/13 [==============================] - 3s 246ms/step - loss: 0.9354 - accuracy: 0.6446 - val_loss: 0.9029 - val_accuracy: 0.6300\n",
            "WARNING:tensorflow:Can save best model only with val_acc available, skipping.\n",
            "Epoch 15/100\n",
            "13/13 [==============================] - 3s 246ms/step - loss: 0.7869 - accuracy: 0.6684 - val_loss: 0.9179 - val_accuracy: 0.5900\n",
            "WARNING:tensorflow:Can save best model only with val_acc available, skipping.\n",
            "Epoch 16/100\n",
            "13/13 [==============================] - 3s 242ms/step - loss: 0.8616 - accuracy: 0.6524 - val_loss: 1.0447 - val_accuracy: 0.5700\n",
            "WARNING:tensorflow:Can save best model only with val_acc available, skipping.\n",
            "Epoch 17/100\n",
            "13/13 [==============================] - 3s 242ms/step - loss: 0.8398 - accuracy: 0.6760 - val_loss: 0.9708 - val_accuracy: 0.6200\n",
            "WARNING:tensorflow:Can save best model only with val_acc available, skipping.\n",
            "Epoch 18/100\n",
            "13/13 [==============================] - 3s 245ms/step - loss: 0.7979 - accuracy: 0.6776 - val_loss: 0.9361 - val_accuracy: 0.6200\n",
            "WARNING:tensorflow:Can save best model only with val_acc available, skipping.\n",
            "Epoch 19/100\n",
            "13/13 [==============================] - 3s 248ms/step - loss: 0.6510 - accuracy: 0.7319 - val_loss: 0.9267 - val_accuracy: 0.7000\n",
            "WARNING:tensorflow:Can save best model only with val_acc available, skipping.\n",
            "Epoch 20/100\n",
            "13/13 [==============================] - 3s 246ms/step - loss: 0.6576 - accuracy: 0.7893 - val_loss: 0.9199 - val_accuracy: 0.6800\n",
            "WARNING:tensorflow:Can save best model only with val_acc available, skipping.\n",
            "Epoch 21/100\n",
            "13/13 [==============================] - 3s 246ms/step - loss: 0.6159 - accuracy: 0.7812 - val_loss: 0.8806 - val_accuracy: 0.6900\n",
            "WARNING:tensorflow:Can save best model only with val_acc available, skipping.\n",
            "Epoch 22/100\n",
            "13/13 [==============================] - 3s 248ms/step - loss: 0.5961 - accuracy: 0.7926 - val_loss: 0.8626 - val_accuracy: 0.7100\n",
            "WARNING:tensorflow:Can save best model only with val_acc available, skipping.\n",
            "Epoch 23/100\n",
            "13/13 [==============================] - 3s 248ms/step - loss: 0.6075 - accuracy: 0.7777 - val_loss: 0.8718 - val_accuracy: 0.6700\n",
            "WARNING:tensorflow:Can save best model only with val_acc available, skipping.\n",
            "Epoch 24/100\n",
            "13/13 [==============================] - 3s 249ms/step - loss: 0.6228 - accuracy: 0.7671 - val_loss: 0.8756 - val_accuracy: 0.7000\n",
            "WARNING:tensorflow:Can save best model only with val_acc available, skipping.\n",
            "Epoch 25/100\n",
            "13/13 [==============================] - 3s 248ms/step - loss: 0.5076 - accuracy: 0.8091 - val_loss: 0.8500 - val_accuracy: 0.7000\n",
            "WARNING:tensorflow:Can save best model only with val_acc available, skipping.\n",
            "Epoch 26/100\n",
            "13/13 [==============================] - 3s 247ms/step - loss: 0.4389 - accuracy: 0.8508 - val_loss: 0.9352 - val_accuracy: 0.7200\n",
            "WARNING:tensorflow:Can save best model only with val_acc available, skipping.\n",
            "Epoch 27/100\n",
            "13/13 [==============================] - 3s 247ms/step - loss: 0.4524 - accuracy: 0.8451 - val_loss: 1.0099 - val_accuracy: 0.6600\n",
            "WARNING:tensorflow:Can save best model only with val_acc available, skipping.\n",
            "Epoch 28/100\n",
            "13/13 [==============================] - 3s 246ms/step - loss: 0.3958 - accuracy: 0.8585 - val_loss: 0.9659 - val_accuracy: 0.6700\n",
            "WARNING:tensorflow:Can save best model only with val_acc available, skipping.\n",
            "Epoch 29/100\n",
            "13/13 [==============================] - 3s 248ms/step - loss: 0.3502 - accuracy: 0.8917 - val_loss: 1.0643 - val_accuracy: 0.6900\n",
            "WARNING:tensorflow:Can save best model only with val_acc available, skipping.\n",
            "Epoch 30/100\n",
            "13/13 [==============================] - 3s 246ms/step - loss: 0.3632 - accuracy: 0.8818 - val_loss: 0.9202 - val_accuracy: 0.6700\n",
            "WARNING:tensorflow:Can save best model only with val_acc available, skipping.\n",
            "Epoch 31/100\n",
            "13/13 [==============================] - 3s 245ms/step - loss: 0.3870 - accuracy: 0.8631 - val_loss: 1.0766 - val_accuracy: 0.6600\n",
            "WARNING:tensorflow:Can save best model only with val_acc available, skipping.\n",
            "Epoch 32/100\n",
            "13/13 [==============================] - 3s 248ms/step - loss: 0.2920 - accuracy: 0.9102 - val_loss: 1.1336 - val_accuracy: 0.6700\n",
            "WARNING:tensorflow:Can save best model only with val_acc available, skipping.\n",
            "Epoch 33/100\n",
            "13/13 [==============================] - 3s 245ms/step - loss: 0.4228 - accuracy: 0.8693 - val_loss: 0.9908 - val_accuracy: 0.6900\n",
            "WARNING:tensorflow:Can save best model only with val_acc available, skipping.\n",
            "Epoch 34/100\n",
            "13/13 [==============================] - 3s 247ms/step - loss: 0.3873 - accuracy: 0.8521 - val_loss: 1.0139 - val_accuracy: 0.6800\n",
            "WARNING:tensorflow:Can save best model only with val_acc available, skipping.\n",
            "Epoch 35/100\n",
            "13/13 [==============================] - 3s 244ms/step - loss: 0.3280 - accuracy: 0.8846 - val_loss: 1.0314 - val_accuracy: 0.6800\n",
            "WARNING:tensorflow:Can save best model only with val_acc available, skipping.\n",
            "Epoch 00035: early stopping\n"
          ],
          "name": "stdout"
        },
        {
          "output_type": "display_data",
          "data": {
            "image/png": "[encoded data removed]",
            "text/plain": [
              "<Figure size 432x288 with 1 Axes>"
            ]
          },
          "metadata": {
            "tags": [],
            "needs_background": "light"
          }
        },
        {
          "output_type": "stream",
          "text": [
            "Model: \"model\"\n",
            "_________________________________________________________________\n",
            "Layer (type)                 Output Shape              Param #   \n",
            "=================================================================\n",
            "input_1 (InputLayer)         [(None, 8000, 1)]         0         \n",
            "_________________________________________________________________\n",
            "conv1d (Conv1D)              (None, 7988, 8)           112       \n",
            "_________________________________________________________________\n",
            "max_pooling1d (MaxPooling1D) (None, 2662, 8)           0         \n",
            "_________________________________________________________________\n",
            "dropout (Dropout)            (None, 2662, 8)           0         \n",
            "_________________________________________________________________\n",
            "conv1d_1 (Conv1D)            (None, 2652, 16)          1424      \n",
            "_________________________________________________________________\n",
            "max_pooling1d_1 (MaxPooling1 (None, 884, 16)           0         \n",
            "_________________________________________________________________\n",
            "dropout_1 (Dropout)          (None, 884, 16)           0         \n",
            "_________________________________________________________________\n",
            "conv1d_2 (Conv1D)            (None, 876, 32)           4640      \n",
            "_________________________________________________________________\n",
            "max_pooling1d_2 (MaxPooling1 (None, 292, 32)           0         \n",
            "_________________________________________________________________\n",
            "dropout_2 (Dropout)          (None, 292, 32)           0         \n",
            "_________________________________________________________________\n",
            "conv1d_3 (Conv1D)            (None, 286, 64)           14400     \n",
            "_________________________________________________________________\n",
            "max_pooling1d_3 (MaxPooling1 (None, 95, 64)            0         \n",
            "_________________________________________________________________\n",
            "dropout_3 (Dropout)          (None, 95, 64)            0         \n",
            "_________________________________________________________________\n",
            "flatten (Flatten)            (None, 6080)              0         \n",
            "_________________________________________________________________\n",
            "dense (Dense)                (None, 256)               1556736   \n",
            "_________________________________________________________________\n",
            "dropout_4 (Dropout)          (None, 256)               0         \n",
            "_________________________________________________________________\n",
            "dense_1 (Dense)              (None, 128)               32896     \n",
            "_________________________________________________________________\n",
            "dropout_5 (Dropout)          (None, 128)               0         \n",
            "_________________________________________________________________\n",
            "dense_2 (Dense)              (None, 5)                 645       \n",
            "=================================================================\n",
            "Total params: 1,610,853\n",
            "Trainable params: 1,610,853\n",
            "Non-trainable params: 0\n",
            "_________________________________________________________________\n",
            "Rozmiar zbioru treningowego: 800\n",
            "Epoch 1/100\n",
            "20/20 [==============================] - 6s 255ms/step - loss: 1.6139 - accuracy: 0.2314 - val_loss: 1.5917 - val_accuracy: 0.3000\n",
            "WARNING:tensorflow:Can save best model only with val_acc available, skipping.\n",
            "Epoch 2/100\n",
            "20/20 [==============================] - 5s 242ms/step - loss: 1.5612 - accuracy: 0.2913 - val_loss: 1.5273 - val_accuracy: 0.3313\n",
            "WARNING:tensorflow:Can save best model only with val_acc available, skipping.\n",
            "Epoch 3/100\n",
            "20/20 [==============================] - 5s 243ms/step - loss: 1.4796 - accuracy: 0.3410 - val_loss: 1.4402 - val_accuracy: 0.4563\n",
            "WARNING:tensorflow:Can save best model only with val_acc available, skipping.\n",
            "Epoch 4/100\n",
            "20/20 [==============================] - 5s 245ms/step - loss: 1.4026 - accuracy: 0.4364 - val_loss: 1.3145 - val_accuracy: 0.4313\n",
            "WARNING:tensorflow:Can save best model only with val_acc available, skipping.\n",
            "Epoch 5/100\n",
            "20/20 [==============================] - 5s 243ms/step - loss: 1.2329 - accuracy: 0.4927 - val_loss: 1.1516 - val_accuracy: 0.5688\n",
            "WARNING:tensorflow:Can save best model only with val_acc available, skipping.\n",
            "Epoch 6/100\n",
            "20/20 [==============================] - 5s 243ms/step - loss: 1.1386 - accuracy: 0.5572 - val_loss: 1.0602 - val_accuracy: 0.5437\n",
            "WARNING:tensorflow:Can save best model only with val_acc available, skipping.\n",
            "Epoch 7/100\n",
            "20/20 [==============================] - 5s 244ms/step - loss: 1.0640 - accuracy: 0.5603 - val_loss: 1.0514 - val_accuracy: 0.5250\n",
            "WARNING:tensorflow:Can save best model only with val_acc available, skipping.\n",
            "Epoch 8/100\n",
            "20/20 [==============================] - 5s 244ms/step - loss: 0.9566 - accuracy: 0.6434 - val_loss: 1.0233 - val_accuracy: 0.5750\n",
            "WARNING:tensorflow:Can save best model only with val_acc available, skipping.\n",
            "Epoch 9/100\n",
            "20/20 [==============================] - 5s 243ms/step - loss: 0.9326 - accuracy: 0.6324 - val_loss: 1.0300 - val_accuracy: 0.6000\n",
            "WARNING:tensorflow:Can save best model only with val_acc available, skipping.\n",
            "Epoch 10/100\n",
            "20/20 [==============================] - 5s 243ms/step - loss: 0.8283 - accuracy: 0.6862 - val_loss: 0.9360 - val_accuracy: 0.6187\n",
            "WARNING:tensorflow:Can save best model only with val_acc available, skipping.\n",
            "Epoch 11/100\n",
            "20/20 [==============================] - 5s 243ms/step - loss: 0.7811 - accuracy: 0.7007 - val_loss: 1.0535 - val_accuracy: 0.6250\n",
            "WARNING:tensorflow:Can save best model only with val_acc available, skipping.\n",
            "Epoch 12/100\n",
            "20/20 [==============================] - 5s 242ms/step - loss: 0.7865 - accuracy: 0.6802 - val_loss: 1.0864 - val_accuracy: 0.5813\n",
            "WARNING:tensorflow:Can save best model only with val_acc available, skipping.\n",
            "Epoch 13/100\n",
            "20/20 [==============================] - 5s 242ms/step - loss: 0.8025 - accuracy: 0.7017 - val_loss: 0.9912 - val_accuracy: 0.6625\n",
            "WARNING:tensorflow:Can save best model only with val_acc available, skipping.\n",
            "Epoch 14/100\n",
            "20/20 [==============================] - 5s 243ms/step - loss: 0.6926 - accuracy: 0.7269 - val_loss: 0.9940 - val_accuracy: 0.6500\n",
            "WARNING:tensorflow:Can save best model only with val_acc available, skipping.\n",
            "Epoch 15/100\n",
            "20/20 [==============================] - 5s 245ms/step - loss: 0.7503 - accuracy: 0.7108 - val_loss: 1.0153 - val_accuracy: 0.6250\n",
            "WARNING:tensorflow:Can save best model only with val_acc available, skipping.\n",
            "Epoch 16/100\n",
            "20/20 [==============================] - 5s 245ms/step - loss: 0.6310 - accuracy: 0.7562 - val_loss: 1.0236 - val_accuracy: 0.6375\n",
            "WARNING:tensorflow:Can save best model only with val_acc available, skipping.\n",
            "Epoch 17/100\n",
            "20/20 [==============================] - 5s 246ms/step - loss: 0.5839 - accuracy: 0.7616 - val_loss: 0.9762 - val_accuracy: 0.6625\n",
            "WARNING:tensorflow:Can save best model only with val_acc available, skipping.\n",
            "Epoch 18/100\n",
            "20/20 [==============================] - 5s 244ms/step - loss: 0.5456 - accuracy: 0.7837 - val_loss: 1.0329 - val_accuracy: 0.6562\n",
            "WARNING:tensorflow:Can save best model only with val_acc available, skipping.\n",
            "Epoch 19/100\n",
            "20/20 [==============================] - 5s 245ms/step - loss: 0.5353 - accuracy: 0.7817 - val_loss: 1.0758 - val_accuracy: 0.6500\n",
            "WARNING:tensorflow:Can save best model only with val_acc available, skipping.\n",
            "Epoch 20/100\n",
            "20/20 [==============================] - 5s 242ms/step - loss: 0.4720 - accuracy: 0.8061 - val_loss: 1.0074 - val_accuracy: 0.6812\n",
            "WARNING:tensorflow:Can save best model only with val_acc available, skipping.\n",
            "Epoch 00020: early stopping\n"
          ],
          "name": "stdout"
        },
        {
          "output_type": "display_data",
          "data": {
            "image/png": "[encoded data removed]",
            "text/plain": [
              "<Figure size 432x288 with 1 Axes>"
            ]
          },
          "metadata": {
            "tags": [],
            "needs_background": "light"
          }
        },
        {
          "output_type": "stream",
          "text": [
            "Model: \"model\"\n",
            "_________________________________________________________________\n",
            "Layer (type)                 Output Shape              Param #   \n",
            "=================================================================\n",
            "input_1 (InputLayer)         [(None, 8000, 1)]         0         \n",
            "_________________________________________________________________\n",
            "conv1d (Conv1D)              (None, 7988, 8)           112       \n",
            "_________________________________________________________________\n",
            "max_pooling1d (MaxPooling1D) (None, 2662, 8)           0         \n",
            "_________________________________________________________________\n",
            "dropout (Dropout)            (None, 2662, 8)           0         \n",
            "_________________________________________________________________\n",
            "conv1d_1 (Conv1D)            (None, 2652, 16)          1424      \n",
            "_________________________________________________________________\n",
            "max_pooling1d_1 (MaxPooling1 (None, 884, 16)           0         \n",
            "_________________________________________________________________\n",
            "dropout_1 (Dropout)          (None, 884, 16)           0         \n",
            "_________________________________________________________________\n",
            "conv1d_2 (Conv1D)            (None, 876, 32)           4640      \n",
            "_________________________________________________________________\n",
            "max_pooling1d_2 (MaxPooling1 (None, 292, 32)           0         \n",
            "_________________________________________________________________\n",
            "dropout_2 (Dropout)          (None, 292, 32)           0         \n",
            "_________________________________________________________________\n",
            "conv1d_3 (Conv1D)            (None, 286, 64)           14400     \n",
            "_________________________________________________________________\n",
            "max_pooling1d_3 (MaxPooling1 (None, 95, 64)            0         \n",
            "_________________________________________________________________\n",
            "dropout_3 (Dropout)          (None, 95, 64)            0         \n",
            "_________________________________________________________________\n",
            "flatten (Flatten)            (None, 6080)              0         \n",
            "_________________________________________________________________\n",
            "dense (Dense)                (None, 256)               1556736   \n",
            "_________________________________________________________________\n",
            "dropout_4 (Dropout)          (None, 256)               0         \n",
            "_________________________________________________________________\n",
            "dense_1 (Dense)              (None, 128)               32896     \n",
            "_________________________________________________________________\n",
            "dropout_5 (Dropout)          (None, 128)               0         \n",
            "_________________________________________________________________\n",
            "dense_2 (Dense)              (None, 5)                 645       \n",
            "=================================================================\n",
            "Total params: 1,610,853\n",
            "Trainable params: 1,610,853\n",
            "Non-trainable params: 0\n",
            "_________________________________________________________________\n",
            "Rozmiar zbioru treningowego: 1100\n",
            "Epoch 1/100\n",
            "28/28 [==============================] - 8s 254ms/step - loss: 1.6077 - accuracy: 0.2262 - val_loss: 1.5887 - val_accuracy: 0.3091\n",
            "WARNING:tensorflow:Can save best model only with val_acc available, skipping.\n",
            "Epoch 2/100\n",
            "28/28 [==============================] - 7s 244ms/step - loss: 1.5821 - accuracy: 0.2698 - val_loss: 1.5663 - val_accuracy: 0.3091\n",
            "WARNING:tensorflow:Can save best model only with val_acc available, skipping.\n",
            "Epoch 3/100\n",
            "28/28 [==============================] - 7s 245ms/step - loss: 1.5613 - accuracy: 0.2764 - val_loss: 1.4987 - val_accuracy: 0.3500\n",
            "WARNING:tensorflow:Can save best model only with val_acc available, skipping.\n",
            "Epoch 4/100\n",
            "28/28 [==============================] - 7s 243ms/step - loss: 1.4836 - accuracy: 0.3706 - val_loss: 1.3505 - val_accuracy: 0.4727\n",
            "WARNING:tensorflow:Can save best model only with val_acc available, skipping.\n",
            "Epoch 5/100\n",
            "28/28 [==============================] - 7s 244ms/step - loss: 1.2811 - accuracy: 0.4790 - val_loss: 1.2056 - val_accuracy: 0.4727\n",
            "WARNING:tensorflow:Can save best model only with val_acc available, skipping.\n",
            "Epoch 6/100\n",
            "28/28 [==============================] - 7s 244ms/step - loss: 1.1097 - accuracy: 0.5723 - val_loss: 1.1866 - val_accuracy: 0.4773\n",
            "WARNING:tensorflow:Can save best model only with val_acc available, skipping.\n",
            "Epoch 7/100\n",
            "28/28 [==============================] - 7s 242ms/step - loss: 1.0573 - accuracy: 0.5740 - val_loss: 1.0773 - val_accuracy: 0.5636\n",
            "WARNING:tensorflow:Can save best model only with val_acc available, skipping.\n",
            "Epoch 8/100\n",
            "28/28 [==============================] - 7s 242ms/step - loss: 0.8679 - accuracy: 0.6717 - val_loss: 1.0830 - val_accuracy: 0.6091\n",
            "WARNING:tensorflow:Can save best model only with val_acc available, skipping.\n",
            "Epoch 9/100\n",
            "28/28 [==============================] - 7s 243ms/step - loss: 0.8869 - accuracy: 0.6631 - val_loss: 1.0000 - val_accuracy: 0.6273\n",
            "WARNING:tensorflow:Can save best model only with val_acc available, skipping.\n",
            "Epoch 10/100\n",
            "28/28 [==============================] - 7s 241ms/step - loss: 0.8504 - accuracy: 0.6861 - val_loss: 0.8958 - val_accuracy: 0.6727\n",
            "WARNING:tensorflow:Can save best model only with val_acc available, skipping.\n",
            "Epoch 11/100\n",
            "28/28 [==============================] - 7s 241ms/step - loss: 0.7141 - accuracy: 0.7128 - val_loss: 0.9427 - val_accuracy: 0.6818\n",
            "WARNING:tensorflow:Can save best model only with val_acc available, skipping.\n",
            "Epoch 12/100\n",
            "28/28 [==============================] - 7s 244ms/step - loss: 0.6913 - accuracy: 0.7365 - val_loss: 0.9044 - val_accuracy: 0.6682\n",
            "WARNING:tensorflow:Can save best model only with val_acc available, skipping.\n",
            "Epoch 13/100\n",
            "28/28 [==============================] - 7s 252ms/step - loss: 0.6891 - accuracy: 0.7372 - val_loss: 0.8545 - val_accuracy: 0.6909\n",
            "WARNING:tensorflow:Can save best model only with val_acc available, skipping.\n",
            "Epoch 14/100\n",
            "28/28 [==============================] - 7s 243ms/step - loss: 0.6142 - accuracy: 0.7629 - val_loss: 0.9385 - val_accuracy: 0.7182\n",
            "WARNING:tensorflow:Can save best model only with val_acc available, skipping.\n",
            "Epoch 15/100\n",
            "28/28 [==============================] - 7s 244ms/step - loss: 0.6263 - accuracy: 0.7528 - val_loss: 0.8764 - val_accuracy: 0.7182\n",
            "WARNING:tensorflow:Can save best model only with val_acc available, skipping.\n",
            "Epoch 16/100\n",
            "28/28 [==============================] - 7s 246ms/step - loss: 0.4850 - accuracy: 0.8440 - val_loss: 0.9223 - val_accuracy: 0.7227\n",
            "WARNING:tensorflow:Can save best model only with val_acc available, skipping.\n",
            "Epoch 17/100\n",
            "28/28 [==============================] - 7s 244ms/step - loss: 0.4669 - accuracy: 0.8357 - val_loss: 0.8625 - val_accuracy: 0.7318\n",
            "WARNING:tensorflow:Can save best model only with val_acc available, skipping.\n",
            "Epoch 18/100\n",
            "28/28 [==============================] - 7s 246ms/step - loss: 0.4723 - accuracy: 0.8121 - val_loss: 0.8845 - val_accuracy: 0.7273\n",
            "WARNING:tensorflow:Can save best model only with val_acc available, skipping.\n",
            "Epoch 19/100\n",
            "28/28 [==============================] - 7s 244ms/step - loss: 0.4585 - accuracy: 0.8366 - val_loss: 0.8956 - val_accuracy: 0.7273\n",
            "WARNING:tensorflow:Can save best model only with val_acc available, skipping.\n",
            "Epoch 20/100\n",
            "28/28 [==============================] - 7s 244ms/step - loss: 0.4681 - accuracy: 0.8329 - val_loss: 0.9489 - val_accuracy: 0.7318\n",
            "WARNING:tensorflow:Can save best model only with val_acc available, skipping.\n",
            "Epoch 21/100\n",
            "28/28 [==============================] - 7s 245ms/step - loss: 0.3858 - accuracy: 0.8661 - val_loss: 0.8531 - val_accuracy: 0.7227\n",
            "WARNING:tensorflow:Can save best model only with val_acc available, skipping.\n",
            "Epoch 22/100\n",
            "28/28 [==============================] - 7s 245ms/step - loss: 0.3750 - accuracy: 0.8576 - val_loss: 1.0918 - val_accuracy: 0.7045\n",
            "WARNING:tensorflow:Can save best model only with val_acc available, skipping.\n",
            "Epoch 23/100\n",
            "28/28 [==============================] - 7s 245ms/step - loss: 0.4742 - accuracy: 0.8104 - val_loss: 0.9432 - val_accuracy: 0.7227\n",
            "WARNING:tensorflow:Can save best model only with val_acc available, skipping.\n",
            "Epoch 24/100\n",
            "28/28 [==============================] - 7s 246ms/step - loss: 0.3420 - accuracy: 0.8685 - val_loss: 1.0325 - val_accuracy: 0.7364\n",
            "WARNING:tensorflow:Can save best model only with val_acc available, skipping.\n",
            "Epoch 25/100\n",
            "28/28 [==============================] - 7s 248ms/step - loss: 0.3354 - accuracy: 0.8686 - val_loss: 1.0551 - val_accuracy: 0.7227\n",
            "WARNING:tensorflow:Can save best model only with val_acc available, skipping.\n",
            "Epoch 26/100\n",
            "28/28 [==============================] - 7s 246ms/step - loss: 0.2971 - accuracy: 0.8935 - val_loss: 0.9137 - val_accuracy: 0.7591\n",
            "WARNING:tensorflow:Can save best model only with val_acc available, skipping.\n",
            "Epoch 27/100\n",
            "28/28 [==============================] - 7s 245ms/step - loss: 0.2918 - accuracy: 0.8954 - val_loss: 1.1618 - val_accuracy: 0.7227\n",
            "WARNING:tensorflow:Can save best model only with val_acc available, skipping.\n",
            "Epoch 28/100\n",
            "28/28 [==============================] - 7s 244ms/step - loss: 0.3103 - accuracy: 0.8865 - val_loss: 1.0392 - val_accuracy: 0.7409\n",
            "WARNING:tensorflow:Can save best model only with val_acc available, skipping.\n",
            "Epoch 29/100\n",
            "28/28 [==============================] - 7s 242ms/step - loss: 0.3004 - accuracy: 0.8825 - val_loss: 1.1513 - val_accuracy: 0.7409\n",
            "WARNING:tensorflow:Can save best model only with val_acc available, skipping.\n",
            "Epoch 30/100\n",
            "28/28 [==============================] - 7s 243ms/step - loss: 0.2566 - accuracy: 0.9248 - val_loss: 1.1423 - val_accuracy: 0.7455\n",
            "WARNING:tensorflow:Can save best model only with val_acc available, skipping.\n",
            "Epoch 31/100\n",
            "28/28 [==============================] - 7s 244ms/step - loss: 0.2617 - accuracy: 0.9031 - val_loss: 1.0633 - val_accuracy: 0.7409\n",
            "WARNING:tensorflow:Can save best model only with val_acc available, skipping.\n",
            "Epoch 00031: early stopping\n"
          ],
          "name": "stdout"
        },
        {
          "output_type": "display_data",
          "data": {
            "image/png": "[encoded data removed]",
            "text/plain": [
              "<Figure size 432x288 with 1 Axes>"
            ]
          },
          "metadata": {
            "tags": [],
            "needs_background": "light"
          }
        },
        {
          "output_type": "stream",
          "text": [
            "Model: \"model\"\n",
            "_________________________________________________________________\n",
            "Layer (type)                 Output Shape              Param #   \n",
            "=================================================================\n",
            "input_1 (InputLayer)         [(None, 8000, 1)]         0         \n",
            "_________________________________________________________________\n",
            "conv1d (Conv1D)              (None, 7988, 8)           112       \n",
            "_________________________________________________________________\n",
            "max_pooling1d (MaxPooling1D) (None, 2662, 8)           0         \n",
            "_________________________________________________________________\n",
            "dropout (Dropout)            (None, 2662, 8)           0         \n",
            "_________________________________________________________________\n",
            "conv1d_1 (Conv1D)            (None, 2652, 16)          1424      \n",
            "_________________________________________________________________\n",
            "max_pooling1d_1 (MaxPooling1 (None, 884, 16)           0         \n",
            "_________________________________________________________________\n",
            "dropout_1 (Dropout)          (None, 884, 16)           0         \n",
            "_________________________________________________________________\n",
            "conv1d_2 (Conv1D)            (None, 876, 32)           4640      \n",
            "_________________________________________________________________\n",
            "max_pooling1d_2 (MaxPooling1 (None, 292, 32)           0         \n",
            "_________________________________________________________________\n",
            "dropout_2 (Dropout)          (None, 292, 32)           0         \n",
            "_________________________________________________________________\n",
            "conv1d_3 (Conv1D)            (None, 286, 64)           14400     \n",
            "_________________________________________________________________\n",
            "max_pooling1d_3 (MaxPooling1 (None, 95, 64)            0         \n",
            "_________________________________________________________________\n",
            "dropout_3 (Dropout)          (None, 95, 64)            0         \n",
            "_________________________________________________________________\n",
            "flatten (Flatten)            (None, 6080)              0         \n",
            "_________________________________________________________________\n",
            "dense (Dense)                (None, 256)               1556736   \n",
            "_________________________________________________________________\n",
            "dropout_4 (Dropout)          (None, 256)               0         \n",
            "_________________________________________________________________\n",
            "dense_1 (Dense)              (None, 128)               32896     \n",
            "_________________________________________________________________\n",
            "dropout_5 (Dropout)          (None, 128)               0         \n",
            "_________________________________________________________________\n",
            "dense_2 (Dense)              (None, 5)                 645       \n",
            "=================================================================\n",
            "Total params: 1,610,853\n",
            "Trainable params: 1,610,853\n",
            "Non-trainable params: 0\n",
            "_________________________________________________________________\n",
            "Rozmiar zbioru treningowego: 1400\n",
            "Epoch 1/100\n",
            "35/35 [==============================] - 9s 248ms/step - loss: 1.6027 - accuracy: 0.2370 - val_loss: 1.5843 - val_accuracy: 0.2464\n",
            "WARNING:tensorflow:Can save best model only with val_acc available, skipping.\n",
            "Epoch 2/100\n",
            "35/35 [==============================] - 8s 240ms/step - loss: 1.5470 - accuracy: 0.3013 - val_loss: 1.4366 - val_accuracy: 0.4357\n",
            "WARNING:tensorflow:Can save best model only with val_acc available, skipping.\n",
            "Epoch 3/100\n",
            "35/35 [==============================] - 8s 239ms/step - loss: 1.3341 - accuracy: 0.4618 - val_loss: 1.1753 - val_accuracy: 0.5357\n",
            "WARNING:tensorflow:Can save best model only with val_acc available, skipping.\n",
            "Epoch 4/100\n",
            "35/35 [==============================] - 8s 239ms/step - loss: 1.1411 - accuracy: 0.5276 - val_loss: 1.1095 - val_accuracy: 0.5286\n",
            "WARNING:tensorflow:Can save best model only with val_acc available, skipping.\n",
            "Epoch 5/100\n",
            "35/35 [==============================] - 8s 238ms/step - loss: 1.0122 - accuracy: 0.6007 - val_loss: 1.0313 - val_accuracy: 0.5643\n",
            "WARNING:tensorflow:Can save best model only with val_acc available, skipping.\n",
            "Epoch 6/100\n",
            "35/35 [==============================] - 8s 239ms/step - loss: 0.9850 - accuracy: 0.5998 - val_loss: 1.0238 - val_accuracy: 0.5714\n",
            "WARNING:tensorflow:Can save best model only with val_acc available, skipping.\n",
            "Epoch 7/100\n",
            "35/35 [==============================] - 8s 238ms/step - loss: 0.9444 - accuracy: 0.6165 - val_loss: 0.9437 - val_accuracy: 0.6214\n",
            "WARNING:tensorflow:Can save best model only with val_acc available, skipping.\n",
            "Epoch 8/100\n",
            "35/35 [==============================] - 8s 240ms/step - loss: 0.7900 - accuracy: 0.6869 - val_loss: 0.8796 - val_accuracy: 0.6071\n",
            "WARNING:tensorflow:Can save best model only with val_acc available, skipping.\n",
            "Epoch 9/100\n",
            "35/35 [==============================] - 8s 240ms/step - loss: 0.7580 - accuracy: 0.6960 - val_loss: 0.8791 - val_accuracy: 0.6357\n",
            "WARNING:tensorflow:Can save best model only with val_acc available, skipping.\n",
            "Epoch 10/100\n",
            "35/35 [==============================] - 8s 238ms/step - loss: 0.7400 - accuracy: 0.6987 - val_loss: 0.8997 - val_accuracy: 0.6357\n",
            "WARNING:tensorflow:Can save best model only with val_acc available, skipping.\n",
            "Epoch 11/100\n",
            "35/35 [==============================] - 8s 241ms/step - loss: 0.7120 - accuracy: 0.7275 - val_loss: 0.8957 - val_accuracy: 0.6393\n",
            "WARNING:tensorflow:Can save best model only with val_acc available, skipping.\n",
            "Epoch 12/100\n",
            "35/35 [==============================] - 8s 239ms/step - loss: 0.5915 - accuracy: 0.7737 - val_loss: 0.8956 - val_accuracy: 0.6286\n",
            "WARNING:tensorflow:Can save best model only with val_acc available, skipping.\n",
            "Epoch 13/100\n",
            "35/35 [==============================] - 8s 240ms/step - loss: 0.6130 - accuracy: 0.7446 - val_loss: 0.8848 - val_accuracy: 0.6571\n",
            "WARNING:tensorflow:Can save best model only with val_acc available, skipping.\n",
            "Epoch 14/100\n",
            "35/35 [==============================] - 8s 239ms/step - loss: 0.5917 - accuracy: 0.7733 - val_loss: 0.9018 - val_accuracy: 0.6821\n",
            "WARNING:tensorflow:Can save best model only with val_acc available, skipping.\n",
            "Epoch 15/100\n",
            "35/35 [==============================] - 8s 239ms/step - loss: 0.5383 - accuracy: 0.7975 - val_loss: 0.8136 - val_accuracy: 0.6893\n",
            "WARNING:tensorflow:Can save best model only with val_acc available, skipping.\n",
            "Epoch 16/100\n",
            "35/35 [==============================] - 8s 239ms/step - loss: 0.6008 - accuracy: 0.7911 - val_loss: 0.8761 - val_accuracy: 0.6893\n",
            "WARNING:tensorflow:Can save best model only with val_acc available, skipping.\n",
            "Epoch 17/100\n",
            "35/35 [==============================] - 8s 237ms/step - loss: 0.4687 - accuracy: 0.8125 - val_loss: 0.8789 - val_accuracy: 0.6964\n",
            "WARNING:tensorflow:Can save best model only with val_acc available, skipping.\n",
            "Epoch 18/100\n",
            "35/35 [==============================] - 8s 240ms/step - loss: 0.4908 - accuracy: 0.7982 - val_loss: 0.8512 - val_accuracy: 0.7036\n",
            "WARNING:tensorflow:Can save best model only with val_acc available, skipping.\n",
            "Epoch 19/100\n",
            "35/35 [==============================] - 8s 240ms/step - loss: 0.4734 - accuracy: 0.8098 - val_loss: 0.9596 - val_accuracy: 0.6786\n",
            "WARNING:tensorflow:Can save best model only with val_acc available, skipping.\n",
            "Epoch 20/100\n",
            "35/35 [==============================] - 8s 238ms/step - loss: 0.4885 - accuracy: 0.8306 - val_loss: 0.8520 - val_accuracy: 0.7107\n",
            "WARNING:tensorflow:Can save best model only with val_acc available, skipping.\n",
            "Epoch 21/100\n",
            "35/35 [==============================] - 8s 239ms/step - loss: 0.3919 - accuracy: 0.8401 - val_loss: 0.7830 - val_accuracy: 0.6964\n",
            "WARNING:tensorflow:Can save best model only with val_acc available, skipping.\n",
            "Epoch 22/100\n",
            "35/35 [==============================] - 8s 239ms/step - loss: 0.4132 - accuracy: 0.8465 - val_loss: 0.8111 - val_accuracy: 0.7464\n",
            "WARNING:tensorflow:Can save best model only with val_acc available, skipping.\n",
            "Epoch 23/100\n",
            "35/35 [==============================] - 8s 239ms/step - loss: 0.3463 - accuracy: 0.8734 - val_loss: 0.9828 - val_accuracy: 0.7107\n",
            "WARNING:tensorflow:Can save best model only with val_acc available, skipping.\n",
            "Epoch 24/100\n",
            "35/35 [==============================] - 11s 312ms/step - loss: 0.3396 - accuracy: 0.8689 - val_loss: 0.8300 - val_accuracy: 0.7214\n",
            "WARNING:tensorflow:Can save best model only with val_acc available, skipping.\n",
            "Epoch 25/100\n",
            "35/35 [==============================] - 12s 327ms/step - loss: 0.3068 - accuracy: 0.8903 - val_loss: 1.1203 - val_accuracy: 0.7107\n",
            "WARNING:tensorflow:Can save best model only with val_acc available, skipping.\n",
            "Epoch 26/100\n",
            "35/35 [==============================] - 8s 241ms/step - loss: 0.3416 - accuracy: 0.8871 - val_loss: 1.0742 - val_accuracy: 0.7250\n",
            "WARNING:tensorflow:Can save best model only with val_acc available, skipping.\n",
            "Epoch 27/100\n",
            "35/35 [==============================] - 8s 240ms/step - loss: 0.2672 - accuracy: 0.9080 - val_loss: 1.0661 - val_accuracy: 0.7250\n",
            "WARNING:tensorflow:Can save best model only with val_acc available, skipping.\n",
            "Epoch 28/100\n",
            "35/35 [==============================] - 8s 240ms/step - loss: 0.3343 - accuracy: 0.8783 - val_loss: 1.0726 - val_accuracy: 0.7250\n",
            "WARNING:tensorflow:Can save best model only with val_acc available, skipping.\n",
            "Epoch 29/100\n",
            "35/35 [==============================] - 8s 241ms/step - loss: 0.2631 - accuracy: 0.9029 - val_loss: 0.9851 - val_accuracy: 0.7250\n",
            "WARNING:tensorflow:Can save best model only with val_acc available, skipping.\n",
            "Epoch 30/100\n",
            "35/35 [==============================] - 8s 240ms/step - loss: 0.2750 - accuracy: 0.9004 - val_loss: 0.9940 - val_accuracy: 0.7357\n",
            "WARNING:tensorflow:Can save best model only with val_acc available, skipping.\n",
            "Epoch 31/100\n",
            "35/35 [==============================] - 8s 239ms/step - loss: 0.2819 - accuracy: 0.8983 - val_loss: 0.9124 - val_accuracy: 0.7500\n",
            "WARNING:tensorflow:Can save best model only with val_acc available, skipping.\n",
            "Epoch 00031: early stopping\n"
          ],
          "name": "stdout"
        },
        {
          "output_type": "display_data",
          "data": {
            "image/png": "[encoded data removed]",
            "text/plain": [
              "<Figure size 432x288 with 1 Axes>"
            ]
          },
          "metadata": {
            "tags": [],
            "needs_background": "light"
          }
        },
        {
          "output_type": "stream",
          "text": [
            "Model: \"model\"\n",
            "_________________________________________________________________\n",
            "Layer (type)                 Output Shape              Param #   \n",
            "=================================================================\n",
            "input_1 (InputLayer)         [(None, 8000, 1)]         0         \n",
            "_________________________________________________________________\n",
            "conv1d (Conv1D)              (None, 7988, 8)           112       \n",
            "_________________________________________________________________\n",
            "max_pooling1d (MaxPooling1D) (None, 2662, 8)           0         \n",
            "_________________________________________________________________\n",
            "dropout (Dropout)            (None, 2662, 8)           0         \n",
            "_________________________________________________________________\n",
            "conv1d_1 (Conv1D)            (None, 2652, 16)          1424      \n",
            "_________________________________________________________________\n",
            "max_pooling1d_1 (MaxPooling1 (None, 884, 16)           0         \n",
            "_________________________________________________________________\n",
            "dropout_1 (Dropout)          (None, 884, 16)           0         \n",
            "_________________________________________________________________\n",
            "conv1d_2 (Conv1D)            (None, 876, 32)           4640      \n",
            "_________________________________________________________________\n",
            "max_pooling1d_2 (MaxPooling1 (None, 292, 32)           0         \n",
            "_________________________________________________________________\n",
            "dropout_2 (Dropout)          (None, 292, 32)           0         \n",
            "_________________________________________________________________\n",
            "conv1d_3 (Conv1D)            (None, 286, 64)           14400     \n",
            "_________________________________________________________________\n",
            "max_pooling1d_3 (MaxPooling1 (None, 95, 64)            0         \n",
            "_________________________________________________________________\n",
            "dropout_3 (Dropout)          (None, 95, 64)            0         \n",
            "_________________________________________________________________\n",
            "flatten (Flatten)            (None, 6080)              0         \n",
            "_________________________________________________________________\n",
            "dense (Dense)                (None, 256)               1556736   \n",
            "_________________________________________________________________\n",
            "dropout_4 (Dropout)          (None, 256)               0         \n",
            "_________________________________________________________________\n",
            "dense_1 (Dense)              (None, 128)               32896     \n",
            "_________________________________________________________________\n",
            "dropout_5 (Dropout)          (None, 128)               0         \n",
            "_________________________________________________________________\n",
            "dense_2 (Dense)              (None, 5)                 645       \n",
            "=================================================================\n",
            "Total params: 1,610,853\n",
            "Trainable params: 1,610,853\n",
            "Non-trainable params: 0\n",
            "_________________________________________________________________\n",
            "Rozmiar zbioru treningowego: 1700\n",
            "Epoch 1/100\n",
            "43/43 [==============================] - 12s 252ms/step - loss: 1.6024 - accuracy: 0.2439 - val_loss: 1.5651 - val_accuracy: 0.3412\n",
            "WARNING:tensorflow:Can save best model only with val_acc available, skipping.\n",
            "Epoch 2/100\n",
            "43/43 [==============================] - 11s 245ms/step - loss: 1.4977 - accuracy: 0.3380 - val_loss: 1.2354 - val_accuracy: 0.4706\n",
            "WARNING:tensorflow:Can save best model only with val_acc available, skipping.\n",
            "Epoch 3/100\n",
            "43/43 [==============================] - 10s 242ms/step - loss: 1.1978 - accuracy: 0.5007 - val_loss: 1.1175 - val_accuracy: 0.5147\n",
            "WARNING:tensorflow:Can save best model only with val_acc available, skipping.\n",
            "Epoch 4/100\n",
            "43/43 [==============================] - 10s 244ms/step - loss: 1.0805 - accuracy: 0.5518 - val_loss: 1.0021 - val_accuracy: 0.6235\n",
            "WARNING:tensorflow:Can save best model only with val_acc available, skipping.\n",
            "Epoch 5/100\n",
            "43/43 [==============================] - 10s 243ms/step - loss: 0.9529 - accuracy: 0.6156 - val_loss: 0.9899 - val_accuracy: 0.6206\n",
            "WARNING:tensorflow:Can save best model only with val_acc available, skipping.\n",
            "Epoch 6/100\n",
            "43/43 [==============================] - 11s 245ms/step - loss: 0.9070 - accuracy: 0.6393 - val_loss: 0.9398 - val_accuracy: 0.6412\n",
            "WARNING:tensorflow:Can save best model only with val_acc available, skipping.\n",
            "Epoch 7/100\n",
            "43/43 [==============================] - 10s 243ms/step - loss: 0.8509 - accuracy: 0.6744 - val_loss: 0.8384 - val_accuracy: 0.6765\n",
            "WARNING:tensorflow:Can save best model only with val_acc available, skipping.\n",
            "Epoch 8/100\n",
            "43/43 [==============================] - 10s 243ms/step - loss: 0.8047 - accuracy: 0.6553 - val_loss: 0.8614 - val_accuracy: 0.6765\n",
            "WARNING:tensorflow:Can save best model only with val_acc available, skipping.\n",
            "Epoch 9/100\n",
            "43/43 [==============================] - 10s 242ms/step - loss: 0.7450 - accuracy: 0.7011 - val_loss: 0.8302 - val_accuracy: 0.6735\n",
            "WARNING:tensorflow:Can save best model only with val_acc available, skipping.\n",
            "Epoch 10/100\n",
            "43/43 [==============================] - 10s 244ms/step - loss: 0.6803 - accuracy: 0.7271 - val_loss: 0.8799 - val_accuracy: 0.6853\n",
            "WARNING:tensorflow:Can save best model only with val_acc available, skipping.\n",
            "Epoch 11/100\n",
            "43/43 [==============================] - 10s 242ms/step - loss: 0.6251 - accuracy: 0.7554 - val_loss: 0.8331 - val_accuracy: 0.6853\n",
            "WARNING:tensorflow:Can save best model only with val_acc available, skipping.\n",
            "Epoch 12/100\n",
            "43/43 [==============================] - 10s 243ms/step - loss: 0.5713 - accuracy: 0.7681 - val_loss: 0.8272 - val_accuracy: 0.7235\n",
            "WARNING:tensorflow:Can save best model only with val_acc available, skipping.\n",
            "Epoch 13/100\n",
            "43/43 [==============================] - 10s 243ms/step - loss: 0.5437 - accuracy: 0.7984 - val_loss: 0.8216 - val_accuracy: 0.7500\n",
            "WARNING:tensorflow:Can save best model only with val_acc available, skipping.\n",
            "Epoch 14/100\n",
            "43/43 [==============================] - 11s 245ms/step - loss: 0.5456 - accuracy: 0.7845 - val_loss: 0.7808 - val_accuracy: 0.7176\n",
            "WARNING:tensorflow:Can save best model only with val_acc available, skipping.\n",
            "Epoch 15/100\n",
            "43/43 [==============================] - 11s 246ms/step - loss: 0.5293 - accuracy: 0.7850 - val_loss: 0.8674 - val_accuracy: 0.7353\n",
            "WARNING:tensorflow:Can save best model only with val_acc available, skipping.\n",
            "Epoch 16/100\n",
            "43/43 [==============================] - 10s 244ms/step - loss: 0.4799 - accuracy: 0.8401 - val_loss: 0.7288 - val_accuracy: 0.7618\n",
            "WARNING:tensorflow:Can save best model only with val_acc available, skipping.\n",
            "Epoch 17/100\n",
            "43/43 [==============================] - 10s 242ms/step - loss: 0.4190 - accuracy: 0.8548 - val_loss: 0.7327 - val_accuracy: 0.7588\n",
            "WARNING:tensorflow:Can save best model only with val_acc available, skipping.\n",
            "Epoch 18/100\n",
            "43/43 [==============================] - 11s 245ms/step - loss: 0.4524 - accuracy: 0.8316 - val_loss: 0.8712 - val_accuracy: 0.7618\n",
            "WARNING:tensorflow:Can save best model only with val_acc available, skipping.\n",
            "Epoch 19/100\n",
            "43/43 [==============================] - 11s 245ms/step - loss: 0.3741 - accuracy: 0.8593 - val_loss: 0.8513 - val_accuracy: 0.7324\n",
            "WARNING:tensorflow:Can save best model only with val_acc available, skipping.\n",
            "Epoch 20/100\n",
            "43/43 [==============================] - 10s 243ms/step - loss: 0.3736 - accuracy: 0.8572 - val_loss: 0.7093 - val_accuracy: 0.7794\n",
            "WARNING:tensorflow:Can save best model only with val_acc available, skipping.\n",
            "Epoch 21/100\n",
            "43/43 [==============================] - 10s 243ms/step - loss: 0.3614 - accuracy: 0.8578 - val_loss: 0.7986 - val_accuracy: 0.7529\n",
            "WARNING:tensorflow:Can save best model only with val_acc available, skipping.\n",
            "Epoch 22/100\n",
            "43/43 [==============================] - 11s 245ms/step - loss: 0.3303 - accuracy: 0.8739 - val_loss: 0.7643 - val_accuracy: 0.7765\n",
            "WARNING:tensorflow:Can save best model only with val_acc available, skipping.\n",
            "Epoch 23/100\n",
            "43/43 [==============================] - 11s 245ms/step - loss: 0.3307 - accuracy: 0.8847 - val_loss: 0.7804 - val_accuracy: 0.7853\n",
            "WARNING:tensorflow:Can save best model only with val_acc available, skipping.\n",
            "Epoch 24/100\n",
            "43/43 [==============================] - 11s 245ms/step - loss: 0.3430 - accuracy: 0.8755 - val_loss: 0.8539 - val_accuracy: 0.7706\n",
            "WARNING:tensorflow:Can save best model only with val_acc available, skipping.\n",
            "Epoch 25/100\n",
            "43/43 [==============================] - 11s 245ms/step - loss: 0.2793 - accuracy: 0.9085 - val_loss: 1.0757 - val_accuracy: 0.7471\n",
            "WARNING:tensorflow:Can save best model only with val_acc available, skipping.\n",
            "Epoch 26/100\n",
            "43/43 [==============================] - 11s 245ms/step - loss: 0.2521 - accuracy: 0.9020 - val_loss: 0.9404 - val_accuracy: 0.7676\n",
            "WARNING:tensorflow:Can save best model only with val_acc available, skipping.\n",
            "Epoch 27/100\n",
            "43/43 [==============================] - 11s 244ms/step - loss: 0.2719 - accuracy: 0.9070 - val_loss: 0.8848 - val_accuracy: 0.7765\n",
            "WARNING:tensorflow:Can save best model only with val_acc available, skipping.\n",
            "Epoch 28/100\n",
            "43/43 [==============================] - 10s 244ms/step - loss: 0.2267 - accuracy: 0.9149 - val_loss: 0.9487 - val_accuracy: 0.7676\n",
            "WARNING:tensorflow:Can save best model only with val_acc available, skipping.\n",
            "Epoch 29/100\n",
            "43/43 [==============================] - 10s 243ms/step - loss: 0.2065 - accuracy: 0.9283 - val_loss: 0.9625 - val_accuracy: 0.7588\n",
            "WARNING:tensorflow:Can save best model only with val_acc available, skipping.\n",
            "Epoch 30/100\n",
            "43/43 [==============================] - 10s 243ms/step - loss: 0.1922 - accuracy: 0.9314 - val_loss: 1.0109 - val_accuracy: 0.7765\n",
            "WARNING:tensorflow:Can save best model only with val_acc available, skipping.\n",
            "Epoch 00030: early stopping\n"
          ],
          "name": "stdout"
        },
        {
          "output_type": "display_data",
          "data": {
            "image/png": "[encoded data removed]",
            "text/plain": [
              "<Figure size 432x288 with 1 Axes>"
            ]
          },
          "metadata": {
            "tags": [],
            "needs_background": "light"
          }
        }
      ]
    },
    {
      "cell_type": "code",
      "metadata": {
        "id": "ihHwrSE-fgQ2"
      },
      "source": [
        ""
      ],
      "execution_count": null,
      "outputs": []
    }
  ]
}